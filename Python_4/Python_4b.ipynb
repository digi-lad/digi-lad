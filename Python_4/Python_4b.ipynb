{
  "cells": [
    {
      "cell_type": "markdown",
      "metadata": {
        "id": "k01ReoVnLANR"
      },
      "source": [
        "# Big-O"
      ]
    },
    {
      "cell_type": "markdown",
      "metadata": {
        "id": "53ed89ff"
      },
      "source": [
        "## Lesson Overview (Tổng quan bài học)\n",
        "\n"
      ]
    },
    {
      "cell_type": "markdown",
      "metadata": {
        "id": "wXDQ6q9RHQk4"
      },
      "source": [
        "A fundamental step in the analysis of algorithms is understanding an algorithm's **complexity**. Algorithms are usually compared based on their complexities: the higher an algorithm's complexity, the longer it takes to run or the more space it requires."
      ]
    },
    {
      "cell_type": "markdown",
      "metadata": {
        "id": "f89865f2"
      },
      "source": [
        "Một bước cơ bản trong việc phân tích thuật toán là hiểu về **độ phức tạp** của thuật toán đó. Các thuật toán thường được so sánh dựa trên độ phức tạp: thuật toán có độ phức tạp cao hơn sẽ chạy lâu hơn hoặc cần nhiều bộ nhớ hơn."
      ]
    },
    {
      "cell_type": "markdown",
      "metadata": {
        "id": "ffg2mEE5H43l"
      },
      "source": [
        "> The **complexity** of a program is the amount of computational resources required to run it.\n",
        ">\n",
        "> - **Time complexity** describes the amount of time the program takes to run.\n",
        "> - **Space complexity** describes the amount of storage required for the program to run."
      ]
    },
    {
      "cell_type": "markdown",
      "metadata": {
        "id": "236f2cc7"
      },
      "source": [
        "> **Độ phức tạp** của một chương trình là lượng tài nguyên tính toán cần thiết để chạy nó.\n",
        ">\n",
        "> - **Độ phức tạp thời gian** mô tả lượng thời gian chương trình cần để chạy.\n",
        "> - **Độ phức tạp bộ nhớ** mô tả lượng bộ nhớ cần thiết để chương trình chạy."
      ]
    },
    {
      "cell_type": "markdown",
      "metadata": {
        "id": "4de94f01"
      },
      "source": [
        "### Time complexity (Độ phức tạp thời gian)\n"
      ]
    },
    {
      "cell_type": "markdown",
      "metadata": {
        "id": "YcyYjVn7Ige9"
      },
      "source": [
        "The actual time required for a given computation depends on the hardware and software environment. For a more objective measurement, a program's time complexity is usually calculated in terms of the number of **elementary operations** it requires. An elementary operation is any *single* computation."
      ]
    },
    {
      "cell_type": "markdown",
      "metadata": {
        "id": "cf548bbd"
      },
      "source": [
        "Thời gian thực tế cần thiết cho một phép tính phụ thuộc vào phần cứng và phần mềm. Để đo lường khách quan hơn, độ phức tạp thời gian của một chương trình thường được tính dựa trên số lượng **phép toán cơ bản** mà nó cần thực hiện. Một phép toán cơ bản là bất kỳ phép tính *đơn lẻ* nào."
      ]
    },
    {
      "cell_type": "markdown",
      "metadata": {
        "id": "bqXX7E7KIjSI"
      },
      "source": [
        "Examples of operations that contribute to time complexity include the following:\n",
        "\n",
        "- Arithmetic operations for two numbers/strings, e.g. `1 + 3`\n",
        "- Appending an element to an array/set/map, e.g. `arr.append(1)`\n",
        "- Setting a variable equal to a value, e.g. `a = 1`"
      ]
    },
    {
      "cell_type": "markdown",
      "metadata": {
        "id": "GPvk6sfQuBhA"
      },
      "source": [
        "Ví dụ về các thao tác góp phần vào độ phức tạp thời gian bao gồm những thao tác sau:\n",
        "\n",
        "- Các phép toán số học giữa hai số hoặc chuỗi, ví dụ: `1 + 3`\n",
        "- Thêm một phần tử vào mảng/tập hợp/bản đồ, ví dụ: `arr.append(1)`\n",
        "- Gán một biến với một giá trị, ví dụ: `a = 1`"
      ]
    },
    {
      "cell_type": "markdown",
      "metadata": {
        "id": "fX5BqdfLIkSA"
      },
      "source": [
        "### Space complexity (Độ phức tạp không gian)"
      ]
    },
    {
      "cell_type": "markdown",
      "metadata": {
        "id": "lOrHu82zIlTJ"
      },
      "source": [
        "Similarly, the space complexity of a program is typically not measured in terms of computational memory (e.g., bytes, kilobytes, gigabytes), but in the number of objects it is required to allocate to memory."
      ]
    },
    {
      "cell_type": "markdown",
      "metadata": {
        "id": "s603jNzAuBhA"
      },
      "source": [
        "Tương tự, độ phức tạp không gian của một chương trình thường không được đo bằng dung lượng bộ nhớ tính toán (ví dụ: byte, kilobyte, gigabyte), mà được đo bằng số lượng đối tượng mà chương trình cần cấp phát vào bộ nhớ."
      ]
    },
    {
      "cell_type": "markdown",
      "metadata": {
        "id": "yhU_nu_IIo3-"
      },
      "source": [
        "Examples of operations that require memory allocation include the following:\n",
        "\n",
        "- Creating an empty array/set/map\n",
        "- Creating a variable\n",
        "- Creating an instance of a class"
      ]
    },
    {
      "cell_type": "markdown",
      "metadata": {
        "id": "17722ffa"
      },
      "source": [
        "Các ví dụ về thao tác cần cấp phát bộ nhớ bao gồm:\n",
        "\n",
        "- Tạo một mảng/tập hợp/bản đồ rỗng\n",
        "- Tạo một biến\n",
        "- Tạo một đối tượng từ class"
      ]
    },
    {
      "cell_type": "markdown",
      "metadata": {
        "id": "I6pAQUpZKmwI"
      },
      "source": [
        "### Complexity of a function (Độ phức tạp của một hàm)"
      ]
    },
    {
      "cell_type": "markdown",
      "metadata": {
        "id": "7ziNXbkmwmaY"
      },
      "source": [
        "Both time complexity and space complexity are usually a function of the inputs to the program. For example, when examining the time and space complexity of a sorting algorithm, both complexities are dependent on the number of elements to sort."
      ]
    },
    {
      "cell_type": "markdown",
      "metadata": {
        "id": "1f2fb03b"
      },
      "source": [
        "Cả độ phức tạp thời gian và độ phức tạp bộ nhớ thường là hàm số của các đầu vào cho chương trình. Ví dụ, khi xem xét độ phức tạp của một thuật toán sắp xếp, cả hai loại độ phức tạp đều phụ thuộc vào số lượng phần tử cần sắp xếp."
      ]
    },
    {
      "cell_type": "markdown",
      "metadata": {
        "id": "qyc7ljzD5iko"
      },
      "source": [
        "Consider the following function of $n$:"
      ]
    },
    {
      "cell_type": "markdown",
      "metadata": {
        "id": "ac8fe3cd"
      },
      "source": [
        "Xét hàm sau đây với biến $n$ là đầu vào:"
      ]
    },
    {
      "cell_type": "code",
      "execution_count": null,
      "metadata": {
        "id": "sMyBsjqRbMU1"
      },
      "outputs": [],
      "source": [
        "def print_up_to(n):\n",
        "  \"\"\"Prints the non-negative integers up to n.\"\"\"\n",
        "  i = 0\n",
        "  while i < n:\n",
        "    print(i)\n",
        "    i += 1"
      ]
    },
    {
      "cell_type": "code",
      "execution_count": null,
      "metadata": {
        "id": "1YKpSn_15bE7"
      },
      "outputs": [],
      "source": [
        "print_up_to(10)"
      ]
    },
    {
      "cell_type": "markdown",
      "metadata": {
        "id": "sxt-bakwbf3s"
      },
      "source": [
        "- Time complexity\n",
        "\n",
        "  - The assignment `i = 0` has a time complexity of 1, as it assigns the value 0 to the variable `i`.\n",
        "  - The comparison `i < n` increments the time complexity by 1 for each iteration. The `while` loop is no longer `True` when `i == n`, which is after `n + 1` iterations.\n",
        "  - The statement `print(i)` and addition `i += 1` each increment the time complexity by 1 for each iteration. The block within the `while` loop is executed whenever `i < n`, which occurs `n` times.\n",
        "\n",
        "  Therefore the time complexity for this function is\n",
        "\n",
        "  $$1 + (n+1) + 2n = 3n + 2.$$\n",
        "\n",
        "- Space complexity\n",
        "\n",
        "  The only object allocated to memory in this function is `i`. Each time a new value is assigned to `i`, this does not change the memory allocation. Therefore, the space complexity is just 1."
      ]
    },
    {
      "cell_type": "markdown",
      "metadata": {
        "id": "d02c669a"
      },
      "source": [
        "- Độ phức tạp thời gian\n",
        "\n",
        "  - Lệnh gán `i = 0` có độ phức tạp thời gian là 1, vì nó chỉ gán giá trị 0 cho biến `i`.\n",
        "  - So sánh `i < n` làm tăng độ phức tạp thời gian thêm 1 cho mỗi vòng lặp. Vòng lặp `while` sẽ dừng khi `i == n`, tức là sau `n + 1` lần kiểm tra.\n",
        "  - Lệnh `print(i)` và phép cộng `i += 1` mỗi lệnh cũng làm tăng độ phức tạp thời gian thêm 1 cho mỗi vòng lặp. Khối lệnh trong vòng lặp `while` được thực hiện mỗi khi `i < n`, tức là tổng cộng `n` lần.\n",
        "\n",
        "  Do đó, độ phức tạp thời gian cho hàm này là:\n",
        "\n",
        "  $$1 + (n+1) + 2n = 3n + 2.$$\n",
        "\n",
        "- Độ phức tạp bộ nhớ\n",
        "\n",
        "  Đối tượng duy nhất được cấp phát bộ nhớ trong hàm này là `i`. Mỗi lần gán giá trị mới cho `i` không làm thay đổi lượng bộ nhớ đã cấp phát. Vì vậy, độ phức tạp bộ nhớ chỉ là 1."
      ]
    },
    {
      "cell_type": "markdown",
      "metadata": {
        "id": "O--a4zqtK0gs"
      },
      "source": [
        "### Definition of big-O (Định nghĩa big-O)"
      ]
    },
    {
      "cell_type": "markdown",
      "metadata": {
        "id": "D2j0L5s-x32C"
      },
      "source": [
        "In computer science, big-O notation is widely used to measure the growth of a program's complexity. In order to apply big-O to complexity, it helps to have an understanding of big-O notation in an abstract context."
      ]
    },
    {
      "cell_type": "markdown",
      "metadata": {
        "id": "81a193b1"
      },
      "source": [
        "Trong khoa học máy tính, ký hiệu big-O được sử dụng rộng rãi để đo tốc độ tăng trưởng của độ phức tạp chương trình. Để áp dụng big-O vào việc phân tích độ phức tạp, chúng mình nên hiểu ký hiệu big-O trong một ngữ cảnh trừu tượng."
      ]
    },
    {
      "cell_type": "markdown",
      "metadata": {
        "id": "T1GPWQlzSMBr"
      },
      "source": [
        "> For two expressions or functions of $n$, $f(n)$ and $g(n)$, we say that $f(n) = O(g(n))$ if $f(n)$ does not grow quicker than $g(n)$ as $n$ increases.\n",
        "\n",
        "For example, $n^2$ grows slower than $2^n$ for large values of $n$, so $n^2 = O(2^n)$. As $n$ increases by 1, $n^2$ increases by $(2n + 1)$ while $2^n$ doubles itself; $n^2$ grows [quadratically](https://en.wikipedia.org/wiki/Quadratic_growth), while $2^n$ grows [exponentially](https://en.wikipedia.org/wiki/Exponential_growth)."
      ]
    },
    {
      "cell_type": "markdown",
      "metadata": {
        "id": "36e17b0b"
      },
      "source": [
        "> Với hai biểu thức hoặc hàm số theo $n$, $f(n)$ và $g(n)$, chúng mình nói rằng $f(n) = O(g(n))$ nếu $f(n)$ không tăng nhanh hơn $g(n)$ khi $n$ tăng lên.\n",
        "\n",
        "Ví dụ, $n^2$ tăng chậm hơn $2^n$ khi $n$ lớn, nên $n^2 = O(2^n)$. Khi $n$ tăng thêm 1, $n^2$ tăng thêm $(2n + 1)$ trong khi $2^n$ tăng gấp đôi; $n^2$ tăng theo [bậc hai](https://vi.wikipedia.org/wiki/Hàm_bậc_hai), còn $2^n$ tăng theo [hàm mũ](https://vi.wikipedia.org/wiki/Hàm_mũ)."
      ]
    },
    {
      "cell_type": "markdown",
      "metadata": {
        "id": "WaFAkPOHLEch"
      },
      "source": [
        "### Visualizing complexity (Trực quan hóa độ phức tạp)"
      ]
    },
    {
      "cell_type": "markdown",
      "metadata": {
        "id": "E0q2B56WLFvf"
      },
      "source": [
        "A useful way of visualizing the difference in time complexity of two functions is by plotting the functions on the same axes."
      ]
    },
    {
      "cell_type": "markdown",
      "metadata": {
        "id": "2a795f31"
      },
      "source": [
        "Một cách hữu ích để trực quan hóa sự khác biệt về độ phức tạp thời gian của hai hàm là vẽ đồ thị các hàm đó trên cùng một hệ trục."
      ]
    },
    {
      "cell_type": "markdown",
      "metadata": {
        "id": "sl3qk4jo5p8r"
      },
      "source": [
        "This is a plot of $n^2$ and $2^n$ for varying $n$."
      ]
    },
    {
      "cell_type": "markdown",
      "metadata": {
        "id": "2a7d0d4e"
      },
      "source": [
        "Đây là đồ thị của $n^2$ và $2^n$ với các giá trị $n$ khác nhau."
      ]
    },
    {
      "cell_type": "markdown",
      "metadata": {
        "id": "G_likqZYhvrH"
      },
      "source": [
        "![Bridge Content Visual Mocks (bridge-content-visuals).png](data:image/png;base64,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)"
      ]
    },
    {
      "cell_type": "markdown",
      "metadata": {
        "id": "9tiJ2xIEh1z7"
      },
      "source": [
        "The code used to generate the above visual is below. Try changing the value of `N` to 3 or 4, then to 9 or 10. This should demonstrate that visualization is not always a reliable tool for deciding which of two functions grows faster."
      ]
    },
    {
      "cell_type": "markdown",
      "metadata": {
        "id": "3d3545c2"
      },
      "source": [
        "Đoạn mã được sử dụng để tạo ra hình ảnh trên được hiển thị dưới đây. Hãy thử thay đổi giá trị của `N` thành 3 hoặc 4, sau đó thành 9 hoặc 10. Điều này sẽ chứng minh rằng việc trực quan hóa không phải lúc nào cũng là công cụ đáng tin cậy để quyết định hàm nào tăng nhanh hơn."
      ]
    },
    {
      "cell_type": "markdown",
      "metadata": {
        "id": "fdff534e"
      },
      "source": [
        "Đoạn Code dưới đây được dùng để tạo hình minh họa phía trên. Hãy thử thay đổi giá trị của `N` thành 3 hoặc 4, sau đó thành 9 hoặc 10. Điều này sẽ cho thấy rằng việc trực quan hóa không phải lúc nào cũng là công cụ đáng tin cậy để xác định hàm nào tăng nhanh hơn."
      ]
    },
    {
      "cell_type": "code",
      "execution_count": null,
      "metadata": {
        "id": "7CS4UlwDX8ur"
      },
      "outputs": [],
      "source": [
        "import matplotlib.pyplot as plt\n",
        "\n",
        "N = 10\n",
        "n = [i for i in range(1, N + 1)]\n",
        "\n",
        "n_squared = [i**2 for i in n]\n",
        "two_to_the_n = [2**i for i in n]\n",
        "\n",
        "plt.plot(n, n_squared, color='blue', label='n^2')\n",
        "plt.plot(n, two_to_the_n, color='red', label='2^n')\n",
        "plt.legend()\n",
        "plt.show()"
      ]
    },
    {
      "cell_type": "markdown",
      "metadata": {
        "id": "DhPrkrEYXfb-"
      },
      "source": [
        "To visualize growth at very large values of $n$, it is often useful to use a log scale."
      ]
    },
    {
      "cell_type": "markdown",
      "metadata": {
        "id": "ab165368"
      },
      "source": [
        "Để trực quan hóa sự tăng trưởng với các giá trị rất lớn của $n$, thường rất hữu ích khi sử dụng thang đo logarit."
      ]
    },
    {
      "cell_type": "code",
      "execution_count": null,
      "metadata": {
        "id": "eH4ztGQBXl9X"
      },
      "outputs": [],
      "source": [
        "import matplotlib.pyplot as plt\n",
        "\n",
        "N = 100\n",
        "n = [i for i in range(1, N+1)]\n",
        "\n",
        "n_squared = [i**2 for i in n]\n",
        "two_to_the_n = [2**i for i in n]\n",
        "\n",
        "plt.plot(n, n_squared, color='blue', label='n^2')\n",
        "plt.plot(n, two_to_the_n, color='red', label='2^n')\n",
        "plt.yscale('log') # this makes the y-axis a log scale\n",
        "plt.legend()\n",
        "plt.show()"
      ]
    },
    {
      "cell_type": "markdown",
      "metadata": {
        "id": "PxxXmMuLLVg-"
      },
      "source": [
        "### Properties of big-O (Các tính chất của big-O)"
      ]
    },
    {
      "cell_type": "markdown",
      "metadata": {
        "id": "Po1-kk1GjhtR"
      },
      "source": [
        "Instead of *proving* that a function is big-O of another function, we usually rely on a few key properties of big-O."
      ]
    },
    {
      "cell_type": "markdown",
      "metadata": {
        "id": "ea9d133d"
      },
      "source": [
        "Thay vì *chứng minh* rằng một hàm là big-O của một hàm khác, chúng mình thường dựa vào một số tính chất quan trọng của big-O."
      ]
    },
    {
      "cell_type": "markdown",
      "metadata": {
        "id": "aCeFHvkhLcRc"
      },
      "source": [
        "1. *Additive constants can be ignored.* For example, $n^2 + 1000 = O(n^2)$.\n",
        "\n",
        "   Formally: $f(n) + K = O(f(n))$ for any constant $K$.\n",
        "\n",
        "1. *Multiplicative constants can be ignored.* For example, $1000n^2 = O(n^2)$.\n",
        "\n",
        "   Formally: $Kf(n) = O(f(n))$ for any positive constant $K$.\n",
        "\n",
        "1. *The sum of multiple expressions only grows as fast as the fastest growing expression.* For example, $n^2 + 2^n = O(2^n)$ since $2^n$ grows faster than $n^2$.\n",
        "\n",
        "   Formally: If $f_1(n) = O(g_1(n))$ and $f_2(n) = O(g_2(n))$, then $f_1(n) + f_2(n) = O(\\max(g_1(n), g_2(n)))$.\n",
        "\n",
        "1. *The big-O growth of a product of expressions is the same as the product of the big-O growth of each individual expression.* For example, For example, if an unknown function $f(n)$ is known to be $O(n^2)$ and an unknown function $g(n)$ is known to be $O(g(n)$, then even without knowing $f(n)$ and $g(n)$, we know that $f(n)g(n) = O(n^2 2^n)$.\n",
        "\n",
        "   Formally: If $f_1(n) = O(g_1(n))$ and $f_2(n) = O(g_2(n))$, then $f_1(n)f_2(n) = O(g_1(n)g_2(n))$."
      ]
    },
    {
      "cell_type": "markdown",
      "metadata": {
        "id": "87916229"
      },
      "source": [
        "1. *Các hằng số cộng có thể bỏ qua.* Ví dụ, $n^2 + 1000 = O(n^2)$.\n",
        "\n",
        "   Một cách chính thức: $f(n) + K = O(f(n))$ với bất kỳ hằng số $K$ nào.\n",
        "\n",
        "2. *Các hằng số nhân có thể bỏ qua.* Ví dụ, $1000n^2 = O(n^2)$.\n",
        "\n",
        "   Một cách chính thức: $Kf(n) = O(f(n))$ với bất kỳ hằng số dương $K$ nào.\n",
        "\n",
        "3. *Tổng của nhiều biểu thức chỉ tăng nhanh bằng biểu thức tăng nhanh nhất.* Ví dụ, $n^2 + 2^n = O(2^n)$ vì $2^n$ tăng nhanh hơn $n^2$.\n",
        "\n",
        "   Một cách chính thức: Nếu $f_1(n) = O(g_1(n))$ và $f_2(n) = O(g_2(n))$, thì $f_1(n) + f_2(n) = O(\\max(g_1(n), g_2(n)))$.\n",
        "\n",
        "4. *Độ tăng trưởng big-O của tích các biểu thức cũng giống như tích độ tăng trưởng big-O của từng biểu thức riêng lẻ.* Ví dụ, nếu một hàm không xác định $f(n)$ được biết là $O(n^2)$ và một hàm không xác định $g(n)$ được biết là $O(2^n)$, thì ngay cả khi không biết $f(n)$ và $g(n)$, chúng mình biết rằng $f(n)g(n) = O(n^2 2^n)$.\n",
        "\n",
        "   Một cách chính thức: Nếu $f_1(n) = O(g_1(n))$ và $f_2(n) = O(g_2(n))$, thì $f_1(n)f_2(n) = O(g_1(n)g_2(n))$."
      ]
    },
    {
      "cell_type": "markdown",
      "metadata": {
        "id": "pvkO6pqJR_JQ"
      },
      "source": [
        "### Using big-O for complexity analysis (Sử dụng big-O để phân tích độ phức tạp)"
      ]
    },
    {
      "cell_type": "markdown",
      "metadata": {
        "id": "xieV6K_twVbA"
      },
      "source": [
        "When analyzing complexity, we rarely care about the *exact* complexity of an algorithm. Instead, we care about how the algorithm complexity changes as the size of the input(s) changes. This is where we use big-O notation to simplify how we measure complexity."
      ]
    },
    {
      "cell_type": "markdown",
      "metadata": {
        "id": "b187b2a6"
      },
      "source": [
        "Khi phân tích độ phức tạp, chúng mình hiếm khi quan tâm đến độ phức tạp *chính xác* của một thuật toán. Thay vào đó, chúng mình quan tâm đến việc độ phức tạp của thuật toán thay đổi như thế nào khi kích thước đầu vào thay đổi. Đây là lúc ký hiệu big-O giúp đơn giản hóa cách chúng mình đo lường độ phức tạp."
      ]
    },
    {
      "cell_type": "markdown",
      "metadata": {
        "id": "ae6d8323"
      },
      "source": [
        "Xét độ phức tạp thời gian của hàm `print_up_to`, là $3n+2$. Các hằng số cộng và nhân có thể bỏ qua, nên $O(3n+2) = O(n)$. Điều này có nghĩa là độ phức tạp thời gian tăng xấp xỉ tỷ lệ với kích thước đầu vào $n$. Ví dụ, nếu $n$ tăng lên 10 lần, thì độ phức tạp thời gian của `print_up_to` cũng tăng lên khoảng 10 lần, với $n$ lớn.\n",
        "\n",
        "Đối với độ phức tạp bộ nhớ của `print_up_to` chỉ là 1, không thể đơn giản hơn nữa, nên là $O(1)$.\n",
        "\n",
        "Xét một thuật toán có độ phức tạp thời gian là $2^n + n^2$. Như đã thấy ở trên, $O(2^n + n^2) = O(2^n)$, nên độ phức tạp thời gian big-O của thuật toán này chỉ là $O(2^n)$. Lý do chúng mình thường chỉ quan tâm đến độ phức tạp big-O là vì nó cho chúng mình biết yếu tố đóng góp lớn nhất vào độ phức tạp khi $n$ rất lớn."
      ]
    },
    {
      "cell_type": "markdown",
      "metadata": {
        "id": "dIPfBff0Mtn1"
      },
      "source": [
        "Consider the time complexity of the `print_up_to` function, which is $3n+2$. The additive and multiplicative constants can be ignored, so $O(3n+2) = O(n)$. This means that the time complexity grows approximately proportionally to the size of the input $n$. For example, if $n$ is multiplied by 10, then the time complexity of `print_up_to` is approximately multiplied by 10, for large $n$.\n",
        "\n",
        "As for the space complexity of `print_up_to` which is just 1, this can't be simplified any further, so it is just $O(1)$.\n",
        "\n",
        "Consider an algorithm with a time complexity of $2^n + n^2$. As seen earlier, $O(2^n + n^2) = O(2^n)$, so the big-O time complexity of this algorithm is just $O(2^n)$. The reason we usually only care about the big-O complexity of an algorithm is that it tells us the most significant contribution to the complexity as $n$ gets very large."
      ]
    },
    {
      "cell_type": "markdown",
      "metadata": {
        "id": "b957aa2c"
      },
      "source": [
        "Xét độ phức tạp thời gian của hàm `print_up_to`, là $3n+2$. Các hằng số cộng và nhân có thể bỏ qua, vì vậy $O(3n+2) = O(n)$. Điều này có nghĩa là độ phức tạp thời gian tăng xấp xỉ tỷ lệ thuận với kích thước của đầu vào $n$. Ví dụ, nếu $n$ được nhân với 10, thì độ phức tạp thời gian của `print_up_to` xấp xỉ nhân với 10, đối với $n$ lớn.\n",
        "\n",
        "Đối với độ phức tạp không gian của `print_up_to` chỉ là 1, điều này không thể đơn giản hóa thêm, vì vậy nó chỉ là $O(1)$.\n",
        "\n",
        "Xét một thuật toán có độ phức tạp thời gian là $2^n + n^2$. Như đã thấy trước đó, $O(2^n + n^2) = O(2^n)$, vì vậy độ phức tạp thời gian big-O của thuật toán này chỉ là $O(2^n)$. Lý do chúng mình thường chỉ quan tâm đến độ phức tạp big-O của một thuật toán là vì nó cho chúng mình biết đóng góp đáng kể nhất vào độ phức tạp khi $n$ trở nên rất lớn."
      ]
    },
    {
      "cell_type": "markdown",
      "metadata": {
        "id": "NT29cRkONQNb"
      },
      "source": [
        "### Analyzing complexity line-by-line (Phân tích độ phức tạp từng dòng)"
      ]
    },
    {
      "cell_type": "markdown",
      "metadata": {
        "id": "dCAKiSR6qN63"
      },
      "source": [
        "Let's have a look at the big-O complexity of `print_up_to` line by line. If a function can be split up into separate interior functions, then the big-O complexity of the function is the maximum of the big-O complexities of the interior functions. For this code, we can split up the function line by line and find the big-O complexity of each line  independently to find the big-O complexity of the function."
      ]
    },
    {
      "cell_type": "markdown",
      "metadata": {
        "id": "951215ca"
      },
      "source": [
        "Hãy cùng xem độ phức tạp big-O của hàm `print_up_to` theo từng dòng. Nếu một hàm có thể được chia thành các hàm con riêng biệt, thì độ phức tạp big-O của hàm là giá trị lớn nhất trong các độ phức tạp big-O của các hàm con đó. Với đoạn Code này, chúng mình có thể tách hàm ra từng dòng và tìm độ phức tạp big-O của từng dòng một cách độc lập để xác định độ phức tạp big-O của toàn bộ hàm."
      ]
    },
    {
      "cell_type": "code",
      "execution_count": null,
      "metadata": {
        "id": "4qr4_Yn--cPh"
      },
      "outputs": [],
      "source": [
        "def print_up_to(n):\n",
        "  \"\"\"Prints the non-negative integers up to n.\"\"\"\n",
        "  i = 0 # time: O(1), space: O(1)\n",
        "  while i < n: # n iterations, space: 0\n",
        "    print(i) # time: O(1), space: 0\n",
        "    i += 1 # time: O(n), space: 0"
      ]
    },
    {
      "cell_type": "markdown",
      "metadata": {
        "id": "GacqvZ5iAa59"
      },
      "source": [
        "We can calculate the big-O time complexity of the function line-by-line as\n",
        "\n",
        "\\begin{align*}\n",
        "O(1)+n(O(1)+O(1)) &= O(1) + O(n) \\\\\n",
        "&= O(n). \\\\\n",
        "\\end{align*}\n",
        "\n",
        "The big-O space complexity is simply $O(1)$, since none of the operations within the `while` loop require any space.\n",
        "\n",
        "In this era of computer science, space is plentiful. (This wasn't always the case!) Consequently, the analysis of the time complexity of algorithms is more common than the analysis of space complexity. However, it is always important to be conscious of space allocation in any algorithm."
      ]
    },
    {
      "cell_type": "markdown",
      "metadata": {
        "id": "dcb0d9b7"
      },
      "source": [
        "Chúng mình có thể tính độ phức tạp thời gian big-O của hàm theo từng dòng như sau:\n",
        "\n",
        "\\begin{align*}\n",
        "O(1)+n(O(1)+O(1)) &= O(1) + O(n) \\\\\n",
        "&= O(n). \\\\\n",
        "\\end{align*}\n",
        "\n",
        "Độ phức tạp bộ nhớ big-O đơn giản là $O(1)$, vì không có thao tác nào trong vòng lặp `while` cần thêm bộ nhớ.\n",
        "\n",
        "Trong thời đại khoa học máy tính hiện nay, bộ nhớ rất dồi dào. (Trước đây không phải lúc nào cũng vậy!) Do đó, việc phân tích độ phức tạp thời gian của thuật toán phổ biến hơn so với phân tích độ phức tạp bộ nhớ. Tuy nhiên, chúng mình vẫn luôn cần chú ý đến việc sử dụng bộ nhớ trong bất kỳ thuật toán nào."
      ]
    },
    {
      "cell_type": "markdown",
      "metadata": {
        "id": "FZJn4GjSNpvD"
      },
      "source": [
        "### Common complexities (Các độ phức tạp thường gặp)"
      ]
    },
    {
      "cell_type": "markdown",
      "metadata": {
        "id": "9zDWPN3D2wlp"
      },
      "source": [
        "The more algorithms you see and use, the more important it is to have a quick and simple way to classify efficiency. Below is a table with the most common complexities by name and big-O complexity, in order of increasing complexity. (For example, *quadratic* is a higher complexity than *linear*.)"
      ]
    },
    {
      "cell_type": "markdown",
      "metadata": {
        "id": "dd43e58b"
      },
      "source": [
        "Càng tiếp xúc và sử dụng nhiều thuật toán, chúng mình càng cần có một cách nhanh chóng và đơn giản để phân loại hiệu quả của chúng. Dưới đây là bảng các độ phức tạp phổ biến nhất theo tên gọi và ký hiệu big-O, sắp xếp theo thứ tự tăng dần về độ phức tạp. (Ví dụ, *bậc hai* có độ phức tạp cao hơn *tuyến tính*.)"
      ]
    },
    {
      "cell_type": "markdown",
      "metadata": {
        "id": "at8kaMwON_Pm"
      },
      "source": [
        "| Big-O Complexity | Complexity Name |\n",
        "|:----------------:|:---------------:|\n",
        "| $O(1)$           | constant        |\n",
        "| $O(\\log_2(n))$   | log             |\n",
        "| $O(\\sqrt n)$     | square root     |\n",
        "| $O(n)$           | linear          |\n",
        "| $O(n \\log_2(n))$ | linearithmic    |\n",
        "| $O(n^2)$         | quadratic       |\n",
        "| $O(2^n)$         | exponential     |\n",
        "| $O(n!)$          | factorial       |"
      ]
    },
    {
      "cell_type": "markdown",
      "metadata": {
        "id": "e98e29e8"
      },
      "source": [
        "| Độ phức tạp Big-O | Tên độ phức tạp |\n",
        "|:----------------:|:---------------:|\n",
        "| $O(1)$           | hằng số         |\n",
        "| $O(\\log_2(n))$   | logarit         |\n",
        "| $O(\\sqrt n)$     | căn bậc hai     |\n",
        "| $O(n)$           | tuyến tính      |\n",
        "| $O(n \\log_2(n))$ | tuyến tính-logarit |\n",
        "| $O(n^2)$         | bậc hai         |\n",
        "| $O(2^n)$         | hàm mũ          |\n",
        "| $O(n!)$          | giai thừa       |"
      ]
    },
    {
      "cell_type": "markdown",
      "metadata": {
        "id": "7UwTAcOoOA1M"
      },
      "source": [
        "In general, any function of $n$ can be within the big-O expression. The above classes are just the most common complexities. See [here](https://en.wikipedia.org/wiki/Time_complexity#Table_of_common_time_complexities) for a longer and more exhaustive list of complexity classes."
      ]
    },
    {
      "cell_type": "markdown",
      "metadata": {
        "id": "93ce7688"
      },
      "source": [
        "Nói chung, bất kỳ hàm nào của $n$ đều có thể xuất hiện trong biểu thức big-O. Các lớp trên chỉ là những độ phức tạp phổ biến nhất. Xem thêm [tại đây](https://en.wikipedia.org/wiki/Time_complexity#Table_of_common_time_complexities) để biết danh sách đầy đủ hơn về các lớp độ phức tạp."
      ]
    },
    {
      "cell_type": "markdown",
      "metadata": {
        "id": "b_IA07ExOGah"
      },
      "source": [
        "### Classifying the complexity class of a function (Phân loại lớp độ phức tạp của một hàm)"
      ]
    },
    {
      "cell_type": "markdown",
      "metadata": {
        "id": "f8T7y-PI304i"
      },
      "source": [
        "The `print_up_to` function has a *linear* time complexity. If instead, it printed all possible *pairs* of integers (see the function below), the time complexity would be *quadratic*."
      ]
    },
    {
      "cell_type": "markdown",
      "metadata": {
        "id": "7a6bf8e1"
      },
      "source": [
        "Hàm `print_up_to` có độ phức tạp thời gian *tuyến tính*. Nếu thay vào đó, hàm in ra tất cả các *cặp* số nguyên có thể có (xem hàm bên dưới), thì độ phức tạp thời gian sẽ là *bậc hai*."
      ]
    },
    {
      "cell_type": "markdown",
      "metadata": {
        "id": "cmUjY10sOOmL"
      },
      "source": [
        "The time complexity of `print_pairs_up_to` is $O(n^2)$ since both the outer and inner `for` loops are $O(n)$, so the product of them is $O(n^2)$. Another way to think of this is that there are $n^2$ possible combinations of pairs of non-negative integers less than $n$."
      ]
    },
    {
      "cell_type": "markdown",
      "metadata": {
        "id": "6ad6025a"
      },
      "source": [
        "Độ phức tạp thời gian của hàm `print_pairs_up_to` là $O(n^2)$ vì cả vòng lặp ngoài và vòng lặp trong đều là $O(n)$, nên tích của chúng là $O(n^2)$. Một cách khác để hiểu là có $n^2$ tổ hợp cặp số nguyên không âm nhỏ hơn $n$."
      ]
    },
    {
      "cell_type": "code",
      "execution_count": null,
      "metadata": {
        "id": "9lyKBUQU39eh"
      },
      "outputs": [],
      "source": [
        "def print_pairs_up_to(n):\n",
        "  \"\"\"Prints all possible pairs of non-negative integers up to n.\"\"\"\n",
        "  for i in range(n): # n iterations, space: O(1)\n",
        "    for j in range(n): # n iterations, space: O(1)\n",
        "      print(i, j) # time: O(1), space: 0"
      ]
    },
    {
      "cell_type": "code",
      "execution_count": null,
      "metadata": {
        "id": "pDglquza7CRk"
      },
      "outputs": [],
      "source": [
        "print_pairs_up_to(5)"
      ]
    },
    {
      "cell_type": "markdown",
      "metadata": {
        "id": "uEgaSjlwwCW7"
      },
      "source": [
        "## Question 1 (Câu hỏi 1)"
      ]
    },
    {
      "cell_type": "markdown",
      "metadata": {
        "id": "nQyHHHb3wEq1"
      },
      "source": [
        "Which of the following statements about time complexity are correct? There may be more than one correct response."
      ]
    },
    {
      "cell_type": "markdown",
      "metadata": {
        "id": "344bb05a"
      },
      "source": [
        "Những phát biểu nào sau đây về độ phức tạp thời gian là đúng? Có thể có nhiều hơn một đáp án đúng."
      ]
    },
    {
      "cell_type": "markdown",
      "metadata": {
        "id": "AmxM1ZATHtX7"
      },
      "source": [
        "**a)** Time complexity describes the amount of time a program takes to run.\n",
        "\n",
        "**b)** Two algorithms with the same time complexity always take the same time to run.\n",
        "\n",
        "**c)** If a `for` loop has $n$ iterations, its time complexity is always $O(n)$.\n",
        "\n",
        "**d)** The time complexity of any arithmetic calculation (e.g. anything you can calculate using a pocket calculator) is $O(1)$.\n",
        "\n",
        "**e)** If two different algorithms do the same thing (e.g. sorting an array of integers), they always have the same time complexity.\n"
      ]
    },
    {
      "cell_type": "markdown",
      "metadata": {
        "id": "9e45eda4"
      },
      "source": [
        "**a)** Độ phức tạp thời gian mô tả lượng thời gian một chương trình cần để chạy.\n",
        "\n",
        "**b)** Hai thuật toán có cùng độ phức tạp thời gian luôn chạy mất cùng một lượng thời gian.\n",
        "\n",
        "**c)** Nếu một vòng lặp `for` có $n$ lần lặp, thì độ phức tạp thời gian của nó luôn là $O(n)$.\n",
        "\n",
        "**d)** Độ phức tạp thời gian của bất kỳ phép tính số học nào (ví dụ: bất cứ điều gì bạn có thể tính bằng máy tính bỏ túi) là $O(1)$.\n",
        "\n",
        "**e)** Nếu hai thuật toán khác nhau làm cùng một việc (ví dụ: sắp xếp một mảng số nguyên), chúng luôn có cùng độ phức tạp thời gian."
      ]
    },
    {
      "cell_type": "markdown",
      "metadata": {
        "id": "RlaKpbq6Hucy"
      },
      "source": [
        "### Solution (Lời giải)"
      ]
    },
    {
      "cell_type": "markdown",
      "metadata": {
        "id": "-W6h1Ld6HwDu"
      },
      "source": [
        "The correct answers are **a)** and **d)**.\n",
        "\n",
        "**b)** While time complexity describes runtime, external factors like different computers also affect runtime.\n",
        "\n",
        "**c)** This is true only if the code within each iteration is $O(1)$. For example, if the code within each iteration is $O(n)$, then the `for` loop has a total time complexity of $O(n^2)$.\n",
        "\n",
        "**e)** There are many algorithms for sorting an array of integers, with very different time complexities."
      ]
    },
    {
      "cell_type": "markdown",
      "metadata": {
        "id": "27ec6ea5"
      },
      "source": [
        "Đáp án đúng là **a)** và **d)**.\n",
        "\n",
        "**b)** Mặc dù độ phức tạp thời gian mô tả thời gian chạy, nhưng các yếu tố bên ngoài như máy tính khác nhau cũng ảnh hưởng đến thời gian chạy thực tế.\n",
        "\n",
        "**c)** Điều này chỉ đúng nếu Code bên trong mỗi lần lặp là $O(1)$. Ví dụ, nếu Code bên trong mỗi lần lặp là $O(n)$, thì vòng lặp `for` có tổng độ phức tạp thời gian là $O(n^2)$.\n",
        "\n",
        "**e)** Có rất nhiều thuật toán để sắp xếp một mảng số nguyên, với độ phức tạp thời gian rất khác nhau."
      ]
    },
    {
      "cell_type": "markdown",
      "metadata": {
        "id": "aE1w6zfbz7rp"
      },
      "source": [
        "## Question 2 (Câu hỏi 2)"
      ]
    },
    {
      "cell_type": "markdown",
      "metadata": {
        "id": "8XyniNaVz9RY"
      },
      "source": [
        "Which of the following statements about space complexity are correct? There may be more than one correct response."
      ]
    },
    {
      "cell_type": "markdown",
      "metadata": {
        "id": "70787e90"
      },
      "source": [
        "Những phát biểu nào sau đây về độ phức tạp bộ nhớ là đúng? Có thể có nhiều hơn một đáp án đúng."
      ]
    },
    {
      "cell_type": "markdown",
      "metadata": {
        "id": "E-2AV9j4IcSI"
      },
      "source": [
        "**a)** Space complexity describes how much space a program file takes up on a computer.\n",
        "\n",
        "**b)** Space complexity describes the amount of storage required for a program to run.\n",
        "\n",
        "**c)** If two different algorithms do the same thing, then the one with quicker time complexity must have greater space complexity.\n",
        "\n",
        "**d)** Assigning a variable always has a space complexity of $O(1)$.\n",
        "\n",
        "**e)** Creating an instance of a class is always $O(1)$.\n"
      ]
    },
    {
      "cell_type": "markdown",
      "metadata": {
        "id": "0d3cfbd8"
      },
      "source": [
        "**a)** Độ phức tạp bộ nhớ mô tả dung lượng file chương trình trên máy tính.\n",
        "\n",
        "**b)** Độ phức tạp bộ nhớ mô tả lượng bộ nhớ cần thiết để chương trình chạy.\n",
        "\n",
        "**c)** Nếu hai thuật toán khác nhau làm cùng một việc, thì thuật toán có độ phức tạp thời gian nhanh hơn phải có độ phức tạp bộ nhớ lớn hơn.\n",
        "\n",
        "**d)** Gán giá trị cho một biến luôn có độ phức tạp bộ nhớ là $O(1)$.\n",
        "\n",
        "**e)** Tạo một đối tượng từ class luôn là $O(1)$."
      ]
    },
    {
      "cell_type": "markdown",
      "metadata": {
        "id": "kEfIy5iiIdQM"
      },
      "source": [
        "### Solution (Lời giải)"
      ]
    },
    {
      "cell_type": "markdown",
      "metadata": {
        "id": "puVNtshEIgAP"
      },
      "source": [
        "The correct answers are **b)** and **e)**.\n",
        "\n",
        "**a)** Space complexity does not describe the size of the program itself, but the amount of space it requires to run.\n",
        "\n",
        "**c)**  While it is often the case that time and space complexity go in opposite directions, it is not always true.\n",
        "\n",
        "**d)** Assigning a variable to something whose size can change is not necessarily $O(1)$. For example, consider a function `f(n)` that creates an array of size `n`, e.g. `arr = [i for i in range(n)]`; this variable assignment is $O(n)$.\n"
      ]
    },
    {
      "cell_type": "markdown",
      "metadata": {
        "id": "3e86afd3"
      },
      "source": [
        "Đáp án đúng là **b)** và **e)**.\n",
        "\n",
        "**a)** Độ phức tạp bộ nhớ không mô tả kích thước của chính chương trình, mà là lượng bộ nhớ cần thiết để chương trình chạy.\n",
        "\n",
        "**c)** Mặc dù thường thì độ phức tạp thời gian và bộ nhớ đi ngược nhau, nhưng không phải lúc nào cũng vậy.\n",
        "\n",
        "**d)** Gán giá trị cho một biến mà kích thước có thể thay đổi không nhất thiết là $O(1)$. Ví dụ, xét hàm `f(n)` tạo một mảng có kích thước `n`, như `arr = [i for i in range(n)]`; phép gán biến này là $O(n)$."
      ]
    },
    {
      "cell_type": "markdown",
      "metadata": {
        "id": "L0tZFiqxMJCR"
      },
      "source": [
        "## Question 3 (Câu hỏi 3)"
      ]
    },
    {
      "cell_type": "markdown",
      "metadata": {
        "id": "Y8BfUTLSMKsc"
      },
      "source": [
        "Which of the following statements about big-O are true?"
      ]
    },
    {
      "cell_type": "markdown",
      "metadata": {
        "id": "23477f39"
      },
      "source": [
        "Những phát biểu nào sau đây về big-O là đúng?"
      ]
    },
    {
      "cell_type": "markdown",
      "metadata": {
        "id": "VMDRIsMpJPwb"
      },
      "source": [
        "**a)** Big-O notation is used to measure how quickly time and space complexity of a program grow as the program inputs grow.\n",
        "\n",
        "**b)** Big-O notation describes how fast a function grows as the input grows towards infinity.\n",
        "\n",
        "**c)** If a function `mysort` is $O(n\\log(n))$ and a function `yoursort` is $O(n^2)$ where $n$ is the size of the input array being sorted, then `mysort` has a lower time complexity than `yoursort`.\n",
        "\n",
        "**d)** A space complexity of $O(1)$ means no space is used.\n",
        "\n",
        "**e)** The expression $3\\sqrt{n} + 2n^2 + 3^n$ is $O(n^2)$.\n"
      ]
    },
    {
      "cell_type": "markdown",
      "metadata": {
        "id": "33405b6d"
      },
      "source": [
        "**a)** Ký hiệu Big-O được dùng để đo lường mức độ tăng nhanh của độ phức tạp thời gian và bộ nhớ khi đầu vào của chương trình tăng.\n",
        "\n",
        "**b)** Ký hiệu Big-O mô tả tốc độ tăng của một hàm khi đầu vào tăng dần đến vô cùng.\n",
        "\n",
        "**c)** Nếu hàm `mysort` là $O(n\\log(n))$ và hàm `yoursort` là $O(n^2)$ trong đó $n$ là kích thước mảng đầu vào cần sắp xếp, thì `mysort` có độ phức tạp thời gian thấp hơn `yoursort`.\n",
        "\n",
        "**d)** Độ phức tạp bộ nhớ $O(1)$ nghĩa là không sử dụng bộ nhớ.\n",
        "\n",
        "**e)** Biểu thức $3\\sqrt{n} + 2n^2 + 3^n$ là $O(n^2)$."
      ]
    },
    {
      "cell_type": "markdown",
      "metadata": {
        "id": "qMo1jMcjJRks"
      },
      "source": [
        "### Solution (Lời giải)"
      ]
    },
    {
      "cell_type": "markdown",
      "metadata": {
        "id": "ivZfnwV3JTBe"
      },
      "source": [
        "The correct answers are **a)**, **b)**, and **c)**.\n",
        "\n",
        "**d)** $O(1)$ means constant, it does mean zero. A space complexity of $O(1)$ means that the amount of space required does not depend on any inputs; this does not mean that the required space is zero.\n",
        "\n",
        "**e)** The fastest growing additive term in this expression is $3^n$, so the expression is $O(3^n)$."
      ]
    },
    {
      "cell_type": "markdown",
      "metadata": {
        "id": "1827eda7"
      },
      "source": [
        "Đáp án đúng là **a)**, **b)** và **c)**.\n",
        "\n",
        "**d)** $O(1)$ nghĩa là hằng số, không phải là bằng 0. Độ phức tạp bộ nhớ $O(1)$ nghĩa là lượng bộ nhớ cần thiết không phụ thuộc vào đầu vào; điều này không có nghĩa là không cần bộ nhớ nào.\n",
        "\n",
        "**e)** Thành phần cộng tăng nhanh nhất trong biểu thức này là $3^n$, nên biểu thức là $O(3^n)$."
      ]
    },
    {
      "cell_type": "markdown",
      "metadata": {
        "id": "ebPLfF9Tljkv"
      },
      "source": [
        "## Question 4 (Câu hỏi 4)"
      ]
    },
    {
      "cell_type": "markdown",
      "metadata": {
        "id": "b8kKUiV3lkxv"
      },
      "source": [
        "Rank the following big-O expressions of *n* from slowest growing to fastest growing."
      ]
    },
    {
      "cell_type": "markdown",
      "metadata": {
        "id": "7e6155ba"
      },
      "source": [
        "Xếp hạng các biểu thức big-O của *n* sau đây từ tăng chậm nhất đến tăng nhanh nhất."
      ]
    },
    {
      "cell_type": "markdown",
      "metadata": {
        "id": "jMbMezH9OcTM"
      },
      "source": [
        "- $O(n^2)$\n",
        "- $O(n!)$\n",
        "- $O(n)$\n",
        "- $O(\\log(n))$\n",
        "- $O(n\\log(n))$\n",
        "- $O(1)$\n",
        "- $O(\\sqrt{n})$\n",
        "$ O(2^n)$"
      ]
    },
    {
      "cell_type": "code",
      "execution_count": null,
      "metadata": {
        "id": "tCJvb1Moy81V"
      },
      "outputs": [],
      "source": [
        "#freetext"
      ]
    },
    {
      "cell_type": "markdown",
      "metadata": {
        "id": "rA_7tReQmG_S"
      },
      "source": [
        "### Solution (Lời giải)"
      ]
    },
    {
      "cell_type": "markdown",
      "metadata": {
        "id": "ha2y6mvRmICG"
      },
      "source": [
        "The following are ranked from slowest growing to fastest growing."
      ]
    },
    {
      "cell_type": "markdown",
      "metadata": {
        "id": "372323dd"
      },
      "source": [
        "Các biểu thức sau được xếp hạng từ tăng chậm nhất đến tăng nhanh nhất."
      ]
    },
    {
      "cell_type": "markdown",
      "metadata": {
        "id": "MG9vEjPkOfc_"
      },
      "source": [
        "1. $O(1)$\n",
        "1. $O(\\log(n))$\n",
        "1. $O(\\sqrt{n})$\n",
        "1. $O(n)$\n",
        "1. $O(n\\log(n))$\n",
        "1. $O(n^2)$\n",
        "1. $O(2^n)$\n",
        "1. $O(n!)$"
      ]
    },
    {
      "cell_type": "markdown",
      "metadata": {
        "id": "nilqKu4dZMLF"
      },
      "source": [
        "## Question 5 (Câu hỏi 5)"
      ]
    },
    {
      "cell_type": "markdown",
      "metadata": {
        "id": "iZpI1HxZF61m"
      },
      "source": [
        "What is the big-O time complexity of a function that finds the minimum value in an array of integers?"
      ]
    },
    {
      "cell_type": "markdown",
      "metadata": {
        "id": "66f5f533"
      },
      "source": [
        "Độ phức tạp thời gian big-O của một hàm tìm giá trị nhỏ nhất trong một mảng số nguyên là gì?"
      ]
    },
    {
      "cell_type": "code",
      "execution_count": null,
      "metadata": {
        "id": "BdqorAUPRx1v"
      },
      "outputs": [],
      "source": [
        "def minimum(arr):\n",
        "  \"\"\"Finds the minimum of a list of integers.\"\"\"\n",
        "  min_value = float(\"Inf\")\n",
        "\n",
        "  for i in arr:\n",
        "    if i < min_value:\n",
        "      min_value = i\n",
        "\n",
        "  return min_value"
      ]
    },
    {
      "cell_type": "code",
      "execution_count": null,
      "metadata": {
        "id": "-sXcbEstzB3p"
      },
      "outputs": [],
      "source": [
        "#freetext"
      ]
    },
    {
      "cell_type": "markdown",
      "metadata": {
        "id": "QQcPaXp5ZWh4"
      },
      "source": [
        "### Solution (Lời giải)"
      ]
    },
    {
      "cell_type": "markdown",
      "metadata": {
        "id": "ERu8OA5UIY2x"
      },
      "source": [
        "All of the single operations in this function are $O(1)$ for time. The `for` loop has $n$ iterations (where $n$ is the length of `arr`), so the operations within the `for` loop are repated $n$ times."
      ]
    },
    {
      "cell_type": "markdown",
      "metadata": {
        "id": "0fd3012d"
      },
      "source": [
        "Tất cả các thao tác đơn lẻ trong hàm này đều có độ phức tạp thời gian là $O(1)$. Vòng lặp `for` có $n$ lần lặp (trong đó $n$ là độ dài của `arr`), vì vậy các thao tác trong vòng lặp `for` được lặp lại $n$ lần."
      ]
    },
    {
      "cell_type": "code",
      "execution_count": null,
      "metadata": {
        "id": "OfSeikwm4Inz"
      },
      "outputs": [],
      "source": [
        "def minimum(arr):\n",
        "  \"\"\"Finds the minimum of a list of integers.\"\"\"\n",
        "  min_value = float(\"Inf\") # time: O(1), space: O(1)\n",
        "\n",
        "  for i in arr: # n iterations, space: O(1)\n",
        "    if i < min_value: # time: O(1), space: 0\n",
        "      min_value = i # time: O(1), space: 0\n",
        "\n",
        "  return min_value # time: O(1)"
      ]
    },
    {
      "cell_type": "markdown",
      "metadata": {
        "id": "Ka3H8isCUb1D"
      },
      "source": [
        "Using the line-by-line operations above and the properties from the Lesson Overview, the total time complexity is\n",
        "\n",
        "\\begin{align*}\n",
        "O(1) + n(O(1) + O(1)) + O(1) &= O(1) + O(n) + O(1) \\\\\n",
        "&= O(n). \\\\\n",
        "\\end{align*}"
      ]
    },
    {
      "cell_type": "markdown",
      "metadata": {
        "id": "1cb91035"
      },
      "source": [
        "Sử dụng các thao tác từng dòng ở trên và các tính chất từ Tổng quan bài học, tổng độ phức tạp thời gian là:\n",
        "\n",
        "\\begin{align*}\n",
        "O(1) + n(O(1) + O(1)) + O(1) &= O(1) + O(n) + O(1) \\\\\n",
        "&= O(n). \\\\\n",
        "\\end{align*}"
      ]
    },
    {
      "cell_type": "markdown",
      "metadata": {
        "id": "9AtXlRzcZOA3"
      },
      "source": [
        "## Question 6 (Câu hỏi 6)"
      ]
    },
    {
      "cell_type": "markdown",
      "metadata": {
        "id": "OHGjJJ3ESM2T"
      },
      "source": [
        "What is the time and space complexity of finding the minimum value of an array that is already pre-sorted?"
      ]
    },
    {
      "cell_type": "markdown",
      "metadata": {
        "id": "01a496f9"
      },
      "source": [
        "Độ phức tạp thời gian và không gian của việc tìm giá trị nhỏ nhất trong một mảng đã được sắp xếp từ trước là gì?"
      ]
    },
    {
      "cell_type": "code",
      "execution_count": null,
      "metadata": {
        "id": "oY79rZzRNQTN"
      },
      "outputs": [],
      "source": [
        "#freetext"
      ]
    },
    {
      "cell_type": "markdown",
      "metadata": {
        "id": "i1js8BZ3ZXDo"
      },
      "source": [
        "### Solution (Lời giải)"
      ]
    },
    {
      "cell_type": "markdown",
      "metadata": {
        "id": "4gj5hl30SUay"
      },
      "source": [
        "If the array is pre-sorted, then all the function needs to do is return the first element of the array, or the last if it is sorted in descending order. This is a single operation that does not depend on the length of the array, so the function is $O(1)$ for both time and space."
      ]
    },
    {
      "cell_type": "markdown",
      "metadata": {
        "id": "7ca1f306"
      },
      "source": [
        "Nếu mảng đã được sắp xếp từ trước, thì tất cả những gì hàm cần làm là trả về phần tử đầu tiên của mảng, hoặc phần tử cuối cùng nếu mảng được sắp xếp theo thứ tự giảm dần. Đây là một thao tác đơn lẻ không phụ thuộc vào độ dài của mảng, vì vậy hàm có độ phức tạp $O(1)$ cho cả thời gian và không gian."
      ]
    },
    {
      "cell_type": "markdown",
      "metadata": {
        "id": "ZXqe1UyOZ8gG"
      },
      "source": [
        "## Question 7 (Câu hỏi 7)"
      ]
    },
    {
      "cell_type": "markdown",
      "metadata": {
        "id": "TPmvfHnPQ0br"
      },
      "source": [
        "One of the most classic algorithm problems in computer science is sorting an array of integers. There are several commonly used sorting algorithms, varying in code complexity, time complexity, and space complexity."
      ]
    },
    {
      "cell_type": "markdown",
      "metadata": {
        "id": "771442bf"
      },
      "source": [
        "Một trong những bài toán thuật toán kinh điển nhất trong khoa học máy tính là sắp xếp một mảng số nguyên. Có nhiều thuật toán sắp xếp thường được sử dụng, khác nhau về độ phức tạp của code, độ phức tạp thời gian và độ phức tạp không gian."
      ]
    },
    {
      "cell_type": "markdown",
      "metadata": {
        "id": "ByiXU49wSRD8"
      },
      "source": [
        "Here are just a few:\n",
        "\n",
        "- *Selection sort* repeatedly moves the minimum of the array to a sorted output array. The time complexity is $O(n^2)$.\n",
        "\n",
        "- *Bogosort* creates every possible permutation of the array and chooses the sorted one. The time complexity is $O(n \\cdot n!)$.\n",
        "\n",
        "- *Merge sort* divides the array into single elements and repeatedly merges the arrays to maintain ordering. The time complexity is $O(n\\log(n))$.\n",
        "\n",
        "Which of these algorithms has the best time complexity? What about the worst?"
      ]
    },
    {
      "cell_type": "markdown",
      "metadata": {
        "id": "9bf17f4a"
      },
      "source": [
        "Dưới đây là một vài thuật toán:\n",
        "\n",
        "- *Selection sort* (sắp xếp chọn) liên tục di chuyển phần tử nhỏ nhất của mảng vào một mảng đầu ra đã sắp xếp. Độ phức tạp thời gian là $O(n^2)$.\n",
        "\n",
        "- *Bogosort* tạo ra mọi hoán vị có thể có của mảng và chọn hoán vị đã sắp xếp. Độ phức tạp thời gian là $O(n \\cdot n!)$.\n",
        "\n",
        "- *Merge sort* (sắp xếp trộn) chia mảng thành từng phần tử đơn lẻ và liên tục trộn các mảng để duy trì thứ tự. Độ phức tạp thời gian là $O(n\\log(n))$.\n",
        "\n",
        "Thuật toán nào trong số này có độ phức tạp thời gian tốt nhất? Còn thuật toán nào tệ nhất?"
      ]
    },
    {
      "cell_type": "code",
      "execution_count": null,
      "metadata": {
        "id": "LYhmDiPyzFGR"
      },
      "outputs": [],
      "source": [
        "#freetext"
      ]
    },
    {
      "cell_type": "markdown",
      "metadata": {
        "id": "mvK3V6ATaSC7"
      },
      "source": [
        "### Solution (Lời giải)"
      ]
    },
    {
      "cell_type": "markdown",
      "metadata": {
        "id": "pv8MUfB9HKQO"
      },
      "source": [
        "Using the table in the Lesson Overview, $n\\log(n)$ grows faster than $n^2$ which grows faster than $n!$. (And $n \\cdot n! \\geq n!$, this means $n^2$ grows faster than $n \\cdot n!$.) Therefore, merge sort is more efficient than selection sort which is more efficient than bogosort.\n",
        "\n",
        "Without using the table, we can also demonstrate these comparisons. Let's start by comparing bogosort to selection sort.\n",
        "\n",
        "\\begin{align*}\n",
        "n \\cdot n! &= n \\cdot n \\times (n-1) \\times (n-2) \\times ... \\times 1 \\\\\n",
        "&= n^2 \\cdot (n-1)! \\\\\n",
        "&> n^2 \\\\\n",
        "\\end{align*}\n",
        "\n",
        "since for large $n$, $(n-1)!$ is larger than 1. Therefore, $n \\cdot n! > n^2$ for large $n$ so bogosort is higher complexity than selection sort.\n",
        "\n",
        "Now, let's compare selection sort and merge sort. $\\log(n) < n$ for any $n$. Therefore, $n^2 > n\\log(n)$, and selection sort is higher complexity than merge sort."
      ]
    },
    {
      "cell_type": "markdown",
      "metadata": {
        "id": "0065ce7e"
      },
      "source": [
        "Sử dụng bảng trong Tổng quan bài học, $n\\log(n)$ tăng nhanh hơn $n^2$ và $n^2$ tăng nhanh hơn $n!$. (Và $n \\cdot n! \\geq n!$, điều này có nghĩa là $n \\cdot n!$ tăng nhanh hơn $n^2$.) Do đó, merge sort hiệu quả hơn selection sort và selection sort hiệu quả hơn bogosort.\n",
        "\n",
        "Không sử dụng bảng, chúng mình cũng có thể chứng minh các so sánh này. Hãy bắt đầu bằng cách so sánh bogosort với selection sort.\n",
        "\n",
        "\\begin{align*}\n",
        "n \\cdot n! &= n \\cdot n \\times (n-1) \\times (n-2) \\times ... \\times 1 \\\\\n",
        "&= n^2 \\cdot (n-1)! \\\\\n",
        "&> n^2 \\\\\n",
        "\\end{align*}\n",
        "\n",
        "vì với $n$ lớn, $(n-1)!$ lớn hơn 1. Do đó, $n \\cdot n! > n^2$ với $n$ lớn nên bogosort có độ phức tạp cao hơn selection sort.\n",
        "\n",
        "Bây giờ, hãy so sánh selection sort và merge sort. $\\log(n) < n$ với bất kỳ $n$ nào. Do đó, $n^2 > n\\log(n)$, và selection sort có độ phức tạp cao hơn merge sort."
      ]
    },
    {
      "cell_type": "markdown",
      "metadata": {
        "id": "bR_OafSochGR"
      },
      "source": [
        "## Question 8 (Câu hỏi 8)"
      ]
    },
    {
      "cell_type": "markdown",
      "metadata": {
        "id": "dYlpKe8EM3pN"
      },
      "source": [
        "Complexity is not necessarily a function of only one variable, *n*. If a function has 2 inputs, *n* and *m*, then the time and space complexity are expressions of *n* and *m* as well. This can be extended to any arbitrary number of variables."
      ]
    },
    {
      "cell_type": "markdown",
      "metadata": {
        "id": "b4f9aaa0"
      },
      "source": [
        "Độ phức tạp không nhất thiết là một hàm chỉ phụ thuộc vào một biến *n*. Nếu một hàm có 2 đầu vào, *n* và *m*, thì độ phức tạp thời gian và không gian cũng là các biểu thức của *n* và *m*. Điều này có thể mở rộng cho bất kỳ số lượng biến nào."
      ]
    },
    {
      "cell_type": "markdown",
      "metadata": {
        "id": "GJmAy4WxSYsz"
      },
      "source": [
        "What is the time and space complexity of the following function, in terms of $n$ and $m$?"
      ]
    },
    {
      "cell_type": "markdown",
      "metadata": {
        "id": "c3c6f53a"
      },
      "source": [
        "Độ phức tạp thời gian và không gian của hàm sau đây là gì, theo $n$ và $m$?"
      ]
    },
    {
      "cell_type": "code",
      "execution_count": null,
      "metadata": {
        "id": "zJ1H0oOxofP7"
      },
      "outputs": [],
      "source": [
        "def all_pairs_up_to(n, m):\n",
        "  \"\"\"Prints all ordered combinations of two integers less than n and m.\"\"\"\n",
        "  for i in range(n):\n",
        "    for j in range(m):\n",
        "      print(i, j)\n",
        "\n",
        "all_pairs_up_to(2, 3)"
      ]
    },
    {
      "cell_type": "code",
      "execution_count": null,
      "metadata": {
        "id": "RAjUYyKhzDkk"
      },
      "outputs": [],
      "source": [
        "#freetext"
      ]
    },
    {
      "cell_type": "markdown",
      "metadata": {
        "id": "8Vw_C34hLRIJ"
      },
      "source": [
        "### Solution (Lời giải)"
      ]
    },
    {
      "cell_type": "markdown",
      "metadata": {
        "id": "E6CSagpRp0Vl"
      },
      "source": [
        "The time complexity of this function is the number of iterations it has to execute. The outer loop contains $n$ iterations, and each of these contains $m$ iterations. Therefore, the big-O time complexity is $O(nm)$.\n",
        "\n",
        "The space complexity is just $O(1)$, since the variable storage does not depend on $n$ or $m$. The only variables that require storage are the temporary variables $i$ and $j$."
      ]
    },
    {
      "cell_type": "markdown",
      "metadata": {
        "id": "c7229e85"
      },
      "source": [
        "Độ phức tạp thời gian của hàm này là số lần lặp mà nó phải thực hiện. Vòng lặp ngoài cùng chứa $n$ lần lặp, và mỗi lần lặp này chứa $m$ lần lặp. Do đó, độ phức tạp thời gian big-O là $O(nm)$.\n",
        "\n",
        "Độ phức tạp không gian chỉ là $O(1)$, vì việc lưu trữ biến không phụ thuộc vào $n$ hoặc $m$. Các biến duy nhất cần lưu trữ là các biến tạm thời $i$ và $j$."
      ]
    },
    {
      "cell_type": "markdown",
      "metadata": {
        "id": "4bWSdlACaAGD"
      },
      "source": [
        "## Question 9 (Câu hỏi 9)"
      ]
    },
    {
      "cell_type": "markdown",
      "metadata": {
        "id": "3_N4NeDzhmjU"
      },
      "source": [
        "The function below recursively calculates the `n`th Fibonacci number."
      ]
    },
    {
      "cell_type": "markdown",
      "metadata": {
        "id": "2d133e17"
      },
      "source": [
        "Hàm dưới đây tính số Fibonacci thứ `n` bằng phương pháp đệ quy."
      ]
    },
    {
      "cell_type": "code",
      "execution_count": null,
      "metadata": {
        "id": "FIN5GFGPhmjZ"
      },
      "outputs": [],
      "source": [
        "def fibonacci_recursive(n):\n",
        "  # Raise an error if n is not a non-negative integer. The Fibonacci sequence is\n",
        "  # not defined for such cases.\n",
        "  if not isinstance(n, int) or n < 0:\n",
        "    raise ValueError(\"input must be a non-negative integer\")\n",
        "\n",
        "  # This defines the base case.\n",
        "  if n == 0 or n == 1:\n",
        "    return n\n",
        "\n",
        "  # This defines the recursive formula. Note that it references the function\n",
        "  # itself, fibonacci_recursive.\n",
        "  return fibonacci_recursive(n-1) + fibonacci_recursive(n-2)"
      ]
    },
    {
      "cell_type": "markdown",
      "metadata": {
        "id": "8StT21IihrRH"
      },
      "source": [
        "What is the big-O time complexity of `print_first_32_fibonacci_numbers` below?"
      ]
    },
    {
      "cell_type": "markdown",
      "metadata": {
        "id": "d022ba78"
      },
      "source": [
        "Độ phức tạp thời gian big-O của hàm `print_first_32_fibonacci_numbers` dưới đây là gì?"
      ]
    },
    {
      "cell_type": "code",
      "execution_count": null,
      "metadata": {
        "id": "--cpreL3JFno"
      },
      "outputs": [],
      "source": [
        "def print_first_32_fibonacci_numbers():\n",
        "  for n in range(32):\n",
        "    print(fibonacci_recursive(n))"
      ]
    },
    {
      "cell_type": "code",
      "execution_count": null,
      "metadata": {
        "id": "ak_9o17zJSp6"
      },
      "outputs": [],
      "source": [
        "# This code cell may take a few seconds to run.\n",
        "print_first_32_fibonacci_numbers()"
      ]
    },
    {
      "cell_type": "code",
      "execution_count": null,
      "metadata": {
        "id": "fN9MuWZjzIgg"
      },
      "outputs": [],
      "source": [
        "#freetext"
      ]
    },
    {
      "cell_type": "markdown",
      "metadata": {
        "id": "vSPWUKPJaT0U"
      },
      "source": [
        "### Solution (Lời giải)"
      ]
    },
    {
      "cell_type": "markdown",
      "metadata": {
        "id": "tOA_U04DKHbK"
      },
      "source": [
        "Even though `fibonacci_recursive` has a big-O time complexity of $O(2^n)$, `print_first_32_fibonacci_numbers` is actually $O(1)$. The reason is that `print_first_32_fibonacci_numbers` does not have any inputs, so every time you run it, the runtime does not change. Even if the amount of time required for each calculation is high, as long as the *number* of calculations is constant, the function is $O(1)$.\n",
        "\n",
        "In general, an algorithm being $O(1)$ does not necessarily mean that it executes quickly. It means that the execution time does not vary as the input changes. Since `print_first_32_fibonacci_numbers` does not have any inputs, it is automatically $O(1)$."
      ]
    },
    {
      "cell_type": "markdown",
      "metadata": {
        "id": "93eb10cb"
      },
      "source": [
        "Mặc dù `fibonacci_recursive` có độ phức tạp thời gian big-O là $O(2^n)$, nhưng `print_first_32_fibonacci_numbers` thực sự là $O(1)$. Lý do là vì `print_first_32_fibonacci_numbers` không có bất kỳ đầu vào nào, vì vậy mỗi lần bạn chạy nó, thời gian chạy không thay đổi. Ngay cả khi lượng thời gian cần thiết cho mỗi phép tính là cao, miễn là *số lượng* phép tính là hằng số, thì hàm là $O(1)$.\n",
        "\n",
        "Nói chung, một thuật toán là $O(1)$ không nhất thiết có nghĩa là nó thực thi nhanh chóng. Điều đó có nghĩa là thời gian thực thi không thay đổi khi đầu vào thay đổi. Vì `print_first_32_fibonacci_numbers` không có bất kỳ đầu vào nào, nên nó tự động là $O(1)$."
      ]
    },
    {
      "cell_type": "markdown",
      "metadata": {
        "id": "7wQGaOuduBhY"
      },
      "source": [
        "# Calculating Complexity (Tính toán độ phức tạp)"
      ]
    },
    {
      "cell_type": "markdown",
      "metadata": {
        "id": "3uBMXJpSpWCg"
      },
      "source": [
        "## Lesson Overview (Tổng quan bài học)"
      ]
    },
    {
      "cell_type": "markdown",
      "metadata": {
        "id": "qCsyYNJFL22d"
      },
      "source": [
        "Here are some helpful rules for calculating the complexity of a program."
      ]
    },
    {
      "cell_type": "markdown",
      "metadata": {
        "id": "6723b561"
      },
      "source": [
        "Dưới đây là một số quy tắc hữu ích để tính toán độ phức tạp của một chương trình."
      ]
    },
    {
      "cell_type": "markdown",
      "metadata": {
        "id": "I9NXo5VOPJBz"
      },
      "source": [
        "- Variable assignments are $O(1)$ for time vary for space.\n",
        "\n",
        "- Arithmetic operations such as addition and subtraction are $O(1)$ for both time and space.\n",
        "\n",
        "- Creating an empty array or map is $O(1)$ for both time and space.\n",
        "\n",
        "- A `for` or `while` loop is $O(n)$ for time and $O(1)$ for space, where $n$ is the number of iterations.\n",
        "\n",
        "- When an operation occurs within a loop, the total complexity that the operation contributes to the program is the product of the single-line complexity of the operation and the number of iterations of the loop. For example, an $O(1)$ operation within a loop of $n$ iterations contributes a complexity of $O(n)$.\n",
        "\n",
        "- When a loop occurs within another loop, the total number of iterations is the product of the number of iterations of each loop. For example, if a loop of $m$ iterations is contained within a loop of $n$ iterations, the combination of both loops has a total of $nm$ iterations."
      ]
    },
    {
      "cell_type": "markdown",
      "metadata": {
        "id": "ae98b37d"
      },
      "source": [
        "- Gán biến có độ phức tạp thời gian là $O(1)$ và độ phức tạp không gian thì thay đổi.\n",
        "\n",
        "- Các phép toán số học như cộng và trừ có độ phức tạp $O(1)$ cho cả thời gian và không gian.\n",
        "\n",
        "- Tạo một mảng hoặc map rỗng có độ phức tạp $O(1)$ cho cả thời gian và không gian.\n",
        "\n",
        "- Một vòng lặp `for` hoặc `while` có độ phức tạp thời gian là $O(n)$ và độ phức tạp không gian là $O(1)$, trong đó $n$ là số lần lặp.\n",
        "\n",
        "- Khi một thao tác xảy ra trong một vòng lặp, tổng độ phức tạp mà thao tác đó đóng góp cho chương trình là tích của độ phức tạp đơn dòng của thao tác và số lần lặp của vòng lặp. Ví dụ, một thao tác $O(1)$ trong một vòng lặp có $n$ lần lặp đóng góp độ phức tạp $O(n)$.\n",
        "\n",
        "- Khi một vòng lặp xảy ra bên trong một vòng lặp khác, tổng số lần lặp là tích của số lần lặp của mỗi vòng lặp. Ví dụ, nếu một vòng lặp có $m$ lần lặp nằm trong một vòng lặp có $n$ lần lặp, sự kết hợp của cả hai vòng lặp có tổng cộng $nm$ lần lặp."
      ]
    },
    {
      "cell_type": "markdown",
      "metadata": {
        "id": "fF4J73kaPKXF"
      },
      "source": [
        "In general, the complexity of a function or program is calculated by calculating the complexity of each line, and adding them together. Since $O(1)$ is the lowest complexity, any $O(1)$ operations can be ignored. (Regardless of how many $O(1)$ operations there are, the sum of them will still be $O(1)$.)"
      ]
    },
    {
      "cell_type": "markdown",
      "metadata": {
        "id": "3a20c920"
      },
      "source": [
        "Nhìn chung, độ phức tạp của một hàm hoặc chương trình được tính bằng cách tính độ phức tạp của từng dòng, sau đó cộng chúng lại với nhau. Vì $O(1)$ là độ phức tạp thấp nhất, nên bất kỳ thao tác $O(1)$ nào cũng có thể bỏ qua. (Bất kể có bao nhiêu thao tác $O(1)$, tổng của chúng vẫn sẽ là $O(1)$.)"
      ]
    },
    {
      "cell_type": "markdown",
      "metadata": {
        "id": "nekS7hDxPLlR"
      },
      "source": [
        "### Calculating the complexity of a function (Tính toán độ phức tạp của một hàm)"
      ]
    },
    {
      "cell_type": "markdown",
      "metadata": {
        "id": "DmgBok2YPcws"
      },
      "source": [
        "Consider this function that creates `n` arrays of length `n`."
      ]
    },
    {
      "cell_type": "markdown",
      "metadata": {
        "id": "108feed1"
      },
      "source": [
        "Xem xét hàm này tạo ra `n` mảng có độ dài `n`."
      ]
    },
    {
      "cell_type": "code",
      "execution_count": null,
      "metadata": {
        "id": "gFRWap9_PjPf"
      },
      "outputs": [],
      "source": [
        "def fun_with_complexity(n):\n",
        "  \"\"\"Creates an array with n arrays of length n.\"\"\"\n",
        "  outer = []\n",
        "  counter = 0\n",
        "  for _ in range(n):\n",
        "    inner = []\n",
        "    while len(inner) < n:\n",
        "      inner.append(counter)\n",
        "      counter += 1\n",
        "    outer.append(inner)\n",
        "  return outer"
      ]
    },
    {
      "cell_type": "code",
      "execution_count": null,
      "metadata": {
        "id": "Q4hWAApfRUhL"
      },
      "outputs": [],
      "source": [
        "fun_with_complexity(5)"
      ]
    },
    {
      "cell_type": "markdown",
      "metadata": {
        "id": "nkRt9SQGSb-P"
      },
      "source": [
        "Before looking at the commented code below, try to calculate the time and space complexity of each single line of this function."
      ]
    },
    {
      "cell_type": "markdown",
      "metadata": {
        "id": "8ecea6ad"
      },
      "source": [
        "Trước khi xem code có chú thích bên dưới, hãy thử tính toán độ phức tạp thời gian và không gian của từng dòng riêng lẻ trong hàm này."
      ]
    },
    {
      "cell_type": "code",
      "execution_count": null,
      "metadata": {
        "id": "5KYqT04RTh70"
      },
      "outputs": [],
      "source": [
        "def fun_with_complexity(n):\n",
        "  \"\"\"Creates an array with n arrays of length n.\"\"\"\n",
        "  # The following are the complexities of each line alone, if executed once.\n",
        "  outer = [] # time: O(1), space: O(1)\n",
        "  counter = 0 # time: O(1), space: O(1)\n",
        "  for _ in range(n): # time: n iterations, space: 0\n",
        "    inner = [] # time: O(1), space: O(1)\n",
        "    while len(inner) < n: # time: n iterations, space: 0\n",
        "      inner.append(counter) # time: O(1), space: O(1)\n",
        "      counter += 1 # time: O(1), space: 0\n",
        "    outer.append(inner) # time: O(1), space: O(n)\n",
        "  return outer # time: O(1), space: depends if outer is assigned to a variable"
      ]
    },
    {
      "cell_type": "markdown",
      "metadata": {
        "id": "jaN8jflEpV3V"
      },
      "source": [
        "Since the outer `for` loop has $n$ iterations and the inner `while` loop has $n$ iterations, the operations within the `while` loop are executed $n^2$ times, and the operations within the `for` loop that are not within the `while` loop are executed $n$ times. This allows us to calculate the total time and space complexity that each line contributes."
      ]
    },
    {
      "cell_type": "markdown",
      "metadata": {
        "id": "18f2e020"
      },
      "source": [
        "Vì vòng lặp `for` bên ngoài có $n$ lần lặp và vòng lặp `while` bên trong có $n$ lần lặp, các phép toán trong vòng lặp `while` được thực hiện $n^2$ lần, và các phép toán trong vòng lặp `for` không nằm trong vòng lặp `while` được thực hiện $n$ lần. Điều này cho phép chúng mình tính toán tổng độ phức tạp về thời gian và không gian mà mỗi dòng đóng góp."
      ]
    },
    {
      "cell_type": "code",
      "execution_count": null,
      "metadata": {
        "id": "s2kGjJNZMtO9"
      },
      "outputs": [],
      "source": [
        "def fun_with_complexity(n):\n",
        "  \"\"\"Creates an array with n arrays of length n.\"\"\"\n",
        "  # The following are the complexities that the line contributes to the\n",
        "  # function, when executed the correct number of times.\n",
        "  outer = [] # executed 1 time, time: O(1), space: O(1)\n",
        "  counter = 0 # executed 1 time, time: O(1), space: O(1)\n",
        "  for _ in range(n): # executes n times\n",
        "    inner = [] # time: n*O(1) = O(n), space: n*O(1) = O(n)\n",
        "    while len(inner) < n: # executes n^2 times\n",
        "      inner.append(counter) # time: n^2*O(1)=O(n^2), space: n^2*O(1) = O(n^2)\n",
        "      counter += 1 # time: n^2*O(1) = O(n^2), space: n^2*0 = 0\n",
        "    outer.append(inner) # time: n*O(1) = O(n), space: n*O(n) = O(n^2)\n",
        "  return outer # executes 1 time, time: O(1), space: depends if outer is assigned to a variable"
      ]
    },
    {
      "cell_type": "markdown",
      "metadata": {
        "id": "poYH9HXGPHQa"
      },
      "source": [
        "Therefore, remembering that $O(1)$ operations can be ignored and that a function grows as fast as its fastest growing part:\n",
        "\n",
        "\\begin{align*}\n",
        "time\\_complexity &= O(n) + O(n^2) + O(n^2) + O(n) \\\\\n",
        "&= O(n^2) \\\\\n",
        "space\\_complexity &= O(n) + O(n^2) + O(n^2) \\\\\n",
        "&= O(n^2) \\\\\n",
        "\\end{align*}"
      ]
    },
    {
      "cell_type": "markdown",
      "metadata": {
        "id": "393288c3"
      },
      "source": [
        "Do đó, nhớ rằng các phép toán $O(1)$ có thể bỏ qua và một hàm sẽ tăng trưởng nhanh như phần phát triển nhanh nhất của nó:\n",
        "\n",
        "\\begin{align*}\n",
        "độ\\_phức\\_tạp\\_thời\\_gian &= O(n) + O(n^2) + O(n^2) + O(n) \\\\\n",
        "&= O(n^2) \\\\\n",
        "độ\\_phức\\_tạp\\_không\\_gian &= O(n) + O(n^2) + O(n^2) \\\\\n",
        "&= O(n^2) \\\\\n",
        "\\end{align*}"
      ]
    },
    {
      "cell_type": "markdown",
      "metadata": {
        "id": "upcJEsOBPzvF"
      },
      "source": [
        "### Best and worst case complexity (Độ phức tạp trường hợp tốt nhất và xấu nhất)"
      ]
    },
    {
      "cell_type": "markdown",
      "metadata": {
        "id": "y19tULZqPohE"
      },
      "source": [
        "In general, the time complexity of an algorithm can vary on the input. In some cases, this variance can be drastic."
      ]
    },
    {
      "cell_type": "markdown",
      "metadata": {
        "id": "e8e524b3"
      },
      "source": [
        "Nói chung, độ phức tạp thời gian của một thuật toán có thể thay đổi tùy theo đầu vào. Trong một số trường hợp, sự thay đổi này có thể rất lớn."
      ]
    },
    {
      "cell_type": "markdown",
      "metadata": {
        "id": "H3_WbUFDIYEg"
      },
      "source": [
        "> When an algorithm's inputs are such that the algorithm performs as quickly as it can possibly perform, its time complexity for those inputs is the **best case time complexity**. Similarly, when an algorithm's inputs are such that the algorithm performs as slowly as it can possibly perform, its time complexity for those inputs is the **worst case time complexity**.\n",
        "\n",
        "Similarly for space complexity, the best case space complexity is the smallest possible space complexity at which the algorithm can perform, and the worst case space complexity is the largest possible space complexity at which the algorithm can perform."
      ]
    },
    {
      "cell_type": "markdown",
      "metadata": {
        "id": "895113a1"
      },
      "source": [
        "> Khi đầu vào của thuật toán khiến thuật toán thực hiện nhanh nhất có thể, độ phức tạp thời gian của thuật toán đối với các đầu vào đó được gọi là **độ phức tạp thời gian trường hợp tốt nhất**. Tương tự, khi đầu vào của thuật toán khiến thuật toán thực hiện chậm nhất có thể, độ phức tạp thời gian của thuật toán đối với các đầu vào đó được gọi là **độ phức tạp thời gian trường hợp xấu nhất**.\n",
        "\n",
        "Tương tự đối với độ phức tạp không gian, độ phức tạp không gian trường hợp tốt nhất là độ phức tạp không gian nhỏ nhất có thể mà thuật toán có thể thực hiện, và độ phức tạp không gian trường hợp xấu nhất là độ phức tạp không gian lớn nhất có thể mà thuật toán có thể thực hiện."
      ]
    },
    {
      "cell_type": "markdown",
      "metadata": {
        "id": "fyULFB3dP7Lm"
      },
      "source": [
        "### Best and worst case complexity of a function (Độ phức tạp trường hợp tốt nhất và xấu nhất của một hàm)"
      ]
    },
    {
      "cell_type": "markdown",
      "metadata": {
        "id": "EkcmBa_KvmmK"
      },
      "source": [
        "For example, consider a function that searches an array for whether it contains the value zero."
      ]
    },
    {
      "cell_type": "markdown",
      "metadata": {
        "id": "e93b0111"
      },
      "source": [
        "Ví dụ, xem xét một hàm tìm kiếm trong một mảng xem có chứa giá trị không hay không."
      ]
    },
    {
      "cell_type": "code",
      "execution_count": null,
      "metadata": {
        "id": "uyLtMICvvw1n"
      },
      "outputs": [],
      "source": [
        "def contains_zero(arr):\n",
        "  \"\"\"Returns true if an array of integers contains 0.\"\"\"\n",
        "  for i in arr:\n",
        "    if i == 0:\n",
        "      return True\n",
        "\n",
        "  return False"
      ]
    },
    {
      "cell_type": "markdown",
      "metadata": {
        "id": "z4sCVVy_vjC-"
      },
      "source": [
        "In the **best case**, `arr[0] == 0`, so the `for` loop exits after only one iteration. In this case, `contains_zero` is $O(1)$ for time.\n",
        "\n",
        "In the **worst case**, 0 is in not in `arr` (or it is the last element of `arr`), in which case the `for` loop has to check all of the $n$ elements of `arr`. In this case, `contains_zero` is $O(n)$ for time."
      ]
    },
    {
      "cell_type": "markdown",
      "metadata": {
        "id": "88bc9b14"
      },
      "source": [
        "Trong **trường hợp tốt nhất**, `arr[0] == 0`, vì vậy vòng lặp `for` thoát sau chỉ một lần lặp. Trong trường hợp này, `contains_zero` có độ phức tạp thời gian là $O(1)$.\n",
        "\n",
        "Trong **trường hợp xấu nhất**, 0 không có trong `arr` (hoặc là phần tử cuối cùng của `arr`), trong trường hợp này vòng lặp `for` phải kiểm tra tất cả $n$ phần tử của `arr`. Trong trường hợp này, `contains_zero` có độ phức tạp thời gian là $O(n)$."
      ]
    },
    {
      "cell_type": "markdown",
      "metadata": {
        "id": "rvWYXONs-nCA"
      },
      "source": [
        "## Question 1 (Câu hỏi 1)"
      ]
    },
    {
      "cell_type": "markdown",
      "metadata": {
        "id": "7_Cp3_Rj-osx"
      },
      "source": [
        "Which of the following statements about best and worst case time complexity are true?"
      ]
    },
    {
      "cell_type": "markdown",
      "metadata": {
        "id": "f762aa51"
      },
      "source": [
        "Trong các câu sau đây về độ phức tạp thời gian trường hợp tốt nhất và xấu nhất, câu nào đúng?"
      ]
    },
    {
      "cell_type": "markdown",
      "metadata": {
        "id": "Ky10U0jvM4e5"
      },
      "source": [
        "* An algorithm's best case time complexity must be quicker than its worst case time complexity.\n",
        "  * Incorrect - If an algorithm has the same time complexity in all cases, then its best and worst case time complexities are the same.\n",
        "* An algorithm's best case time complexity is the quickest possible time complexity over all inputs.\n",
        "  * Correct\n",
        "* An algorithm's worst case space complexity occurs when the algorithm's inputs are such that the algorithm requires more space than it would for any other set of inputs.\n",
        "  * Correct\n",
        "* An algorithm's best case time complexity occurs when its worst case space complexity occurs.\n",
        "  * Incorrect - While it is often the case that space complexity increases when time complexity decreases, not all algorithms have this property."
      ]
    },
    {
      "cell_type": "markdown",
      "metadata": {
        "id": "8ec84763"
      },
      "source": [
        "* Độ phức tạp thời gian trường hợp tốt nhất của thuật toán phải nhanh hơn độ phức tạp thời gian trường hợp xấu nhất.\n",
        "  * Không đúng - Nếu thuật toán có cùng độ phức tạp thời gian trong mọi trường hợp, thì độ phức tạp thời gian trường hợp tốt nhất và xấu nhất của nó là giống nhau.\n",
        "* Độ phức tạp thời gian trường hợp tốt nhất của thuật toán là độ phức tạp thời gian nhanh nhất có thể trên tất cả các đầu vào.\n",
        "  * Đúng\n",
        "* Độ phức tạp không gian trường hợp xấu nhất của thuật toán xảy ra khi đầu vào của thuật toán khiến thuật toán yêu cầu nhiều không gian hơn so với bất kỳ tập đầu vào nào khác.\n",
        "  * Đúng\n",
        "* Độ phức tạp thời gian trường hợp tốt nhất của thuật toán xảy ra khi độ phức tạp không gian trường hợp xấu nhất của nó xảy ra.\n",
        "  * Không đúng - Mặc dù thường thì độ phức tạp không gian tăng khi độ phức tạp thời gian giảm, nhưng không phải tất cả các thuật toán đều có tính chất này."
      ]
    },
    {
      "cell_type": "markdown",
      "metadata": {
        "id": "IwzyruEhM5vN"
      },
      "source": [
        "### Solution (Lời giải)"
      ]
    },
    {
      "cell_type": "markdown",
      "metadata": {
        "id": "4i_bYn3GM7Se"
      },
      "source": [
        "The correct solutions are **b)** and **c)**.\n",
        "\n",
        "**a)** If an algorithm has the same time complexity in all cases, then its best and worst case time complexities are the same.\n",
        "\n",
        "**d)** While it is often the case that space complexity increases when time complexity decreases, not all algorithms have this property."
      ]
    },
    {
      "cell_type": "markdown",
      "metadata": {
        "id": "eb5d3772"
      },
      "source": [
        "Các câu trả lời đúng là **b)** và **c)**.\n",
        "\n",
        "**a)** Nếu một thuật toán có cùng độ phức tạp thời gian trong mọi trường hợp, thì độ phức tạp thời gian trường hợp tốt nhất và xấu nhất của nó là giống nhau.\n",
        "\n",
        "**d)** Mặc dù thường thì độ phức tạp không gian tăng khi độ phức tạp thời gian giảm, nhưng không phải tất cả các thuật toán đều có tính chất này."
      ]
    },
    {
      "cell_type": "markdown",
      "metadata": {
        "id": "aOiRqlktBScx"
      },
      "source": [
        "## Question 2 (Câu hỏi 2)"
      ]
    },
    {
      "cell_type": "markdown",
      "metadata": {
        "id": "Sx-mxVdRBT9E"
      },
      "source": [
        "Consider the following function.\n",
        "\n",
        "```python\n",
        "def prod(arr):\n",
        "  \"\"\"Returns the product of the non-zero elements of arr.\"\"\"\n",
        "  # Block 1: variable assignment\n",
        "  output = 1\n",
        "\n",
        "  # Block 2: for loop\n",
        "  for i in arr:\n",
        "\n",
        "    # Block 3: if statement\n",
        "    if i == 0:\n",
        "      continue\n",
        "    \n",
        "    output *= i\n",
        "  \n",
        "  # Block 4: return statement\n",
        "  return output\n",
        "```\n",
        "\n",
        "Which blocks of code contribute to the time complexity? That is, which blocks of code have a big-O time complexity greater than $O(1)$?"
      ]
    },
    {
      "cell_type": "markdown",
      "metadata": {
        "id": "8a248f7f"
      },
      "source": [
        "Xem xét hàm sau đây.\n",
        "\n",
        "```python\n",
        "def prod(arr):\n",
        "  \"\"\"Returns the product of the non-zero elements of arr.\"\"\"\n",
        "  # Block 1: variable assignment\n",
        "  output = 1\n",
        "\n",
        "  # Block 2: for loop\n",
        "  for i in arr:\n",
        "\n",
        "    # Block 3: if statement\n",
        "    if i == 0:\n",
        "      continue\n",
        "    \n",
        "    output *= i\n",
        "  \n",
        "  # Block 4: return statement\n",
        "  return output\n",
        "```\n",
        "\n",
        "Khối code nào đóng góp vào độ phức tạp thời gian? Nghĩa là, khối code nào có độ phức tạp thời gian big-O lớn hơn $O(1)$?"
      ]
    },
    {
      "cell_type": "markdown",
      "metadata": {
        "id": "A4O9_Gk7Qnoc"
      },
      "source": [
        "**a)** Block 1: variable assignment\n",
        "\n",
        "**b)** Block 2: `for` loop\n",
        "\n",
        "**c)** Block 3: `if` statement\n",
        "\n",
        "**d)** Block 4: `return` statement\n"
      ]
    },
    {
      "cell_type": "markdown",
      "metadata": {
        "id": "0241c785"
      },
      "source": [
        "**a)** Block 1: gán biến\n",
        "\n",
        "**b)** Block 2: vòng lặp `for`\n",
        "\n",
        "**c)** Block 3: câu lệnh `if`\n",
        "\n",
        "**d)** Block 4: câu lệnh `return`"
      ]
    },
    {
      "cell_type": "markdown",
      "metadata": {
        "id": "skqfg_Q_NO7k"
      },
      "source": [
        "### Solution (Lời giải)"
      ]
    },
    {
      "cell_type": "markdown",
      "metadata": {
        "id": "Q1mb9KeHNQhY"
      },
      "source": [
        "The correct answers is **b)**."
      ]
    },
    {
      "cell_type": "markdown",
      "metadata": {
        "id": "d4c689b3"
      },
      "source": [
        "Câu trả lời đúng là **b)**."
      ]
    },
    {
      "cell_type": "markdown",
      "metadata": {
        "id": "F_56gXpRZKBJ"
      },
      "source": [
        "## Question 3 (Câu hỏi 3)"
      ]
    },
    {
      "cell_type": "markdown",
      "metadata": {
        "id": "DUf5ZVBA5O54"
      },
      "source": [
        "What is the big-O time and space complexity of the following function that finds the mean of an array of integers?"
      ]
    },
    {
      "cell_type": "markdown",
      "metadata": {
        "id": "5b7d1fbe"
      },
      "source": [
        "Độ phức tạp thời gian và không gian big-O của hàm sau đây tìm giá trị trung bình của một mảng các số nguyên là gì?"
      ]
    },
    {
      "cell_type": "code",
      "execution_count": null,
      "metadata": {
        "id": "CD89ZKRQ8WuQ"
      },
      "outputs": [],
      "source": [
        "def mean(arr):\n",
        "  \"\"\"Finds the mean of a list of integers.\"\"\"\n",
        "  sum = 0\n",
        "  len = 0\n",
        "  for i in arr:\n",
        "    sum += i\n",
        "    len += 1\n",
        "\n",
        "  # Coerce sum to float here so that the division will be float, not int.\n",
        "  return float(sum) / len"
      ]
    },
    {
      "cell_type": "code",
      "execution_count": null,
      "metadata": {
        "id": "Jedb5PcxQyPb"
      },
      "outputs": [],
      "source": [
        "#freetext"
      ]
    },
    {
      "cell_type": "markdown",
      "metadata": {
        "id": "8_6NzLc28jmN"
      },
      "source": [
        "### Solution (Lời giải)"
      ]
    },
    {
      "cell_type": "markdown",
      "metadata": {
        "id": "4m9YRAxT8qyG"
      },
      "source": [
        "Suppose $n$ is the length of the input list `arr`. Let's look at the big-O complexity of the function line by line."
      ]
    },
    {
      "cell_type": "markdown",
      "metadata": {
        "id": "c6dac174"
      },
      "source": [
        "Giả sử $n$ là độ dài của danh sách đầu vào `arr`. Hãy xem xét độ phức tạp big-O của hàm theo từng dòng."
      ]
    },
    {
      "cell_type": "code",
      "execution_count": null,
      "metadata": {
        "id": "_PzL8uWbCww2"
      },
      "outputs": [],
      "source": [
        "def mean(arr):\n",
        "  \"\"\"Finds the mean of a list of integers.\"\"\"\n",
        "  sum = 0 # time: O(1), space: O(1)\n",
        "  len = 0 # time: O(1), space: O(1)\n",
        "  for i in arr: # executes n times, space: O(1)\n",
        "    sum += i # time: O(1), space: 0\n",
        "    len += 1 # time: O(1), space: 0\n",
        "\n",
        "  # Coerce sum to float here so that the division will be float, not int.\n",
        "  return float(sum) / len # time: O(1), space: 0"
      ]
    },
    {
      "cell_type": "markdown",
      "metadata": {
        "id": "VT7IoCqjDEIa"
      },
      "source": [
        "Therefore, the time complexity is\n",
        "\n",
        "$$O(1) + O(1) + n(O(1) + O(1)) + O(1) = O(n),$$\n",
        "\n",
        "and the space complexity is\n",
        "\n",
        "$$O(1) + O(1) + O(1) = O(1).$$"
      ]
    },
    {
      "cell_type": "markdown",
      "metadata": {
        "id": "f2114d53"
      },
      "source": [
        "Do đó, độ phức tạp thời gian là\n",
        "\n",
        "$$O(1) + O(1) + n(O(1) + O(1)) + O(1) = O(n),$$\n",
        "\n",
        "và độ phức tạp không gian là\n",
        "\n",
        "$$O(1) + O(1) + O(1) = O(1).$$"
      ]
    },
    {
      "cell_type": "markdown",
      "metadata": {
        "id": "utxDaSNBdVjJ"
      },
      "source": [
        "## Question 4 (Câu hỏi 4)"
      ]
    },
    {
      "cell_type": "markdown",
      "metadata": {
        "id": "x2A_7q01rs3F"
      },
      "source": [
        "Assume an array has been over allocated so that the size of the allocated array is twice the current number of elements. What is the big-O time complexity of inserting an element at the end of this array? What if the current array has not been over allocated (i.e. the current array-allocation is equal to the number of elements in the array)?"
      ]
    },
    {
      "cell_type": "markdown",
      "metadata": {
        "id": "32105bb5"
      },
      "source": [
        "Giả sử một mảng đã được phân bổ quá mức, sao cho kích thước của mảng đã cấp phát gấp đôi số phần tử hiện tại. Độ phức tạp thời gian big-O khi chèn một phần tử vào cuối mảng này là gì? Còn nếu mảng hiện tại không được phân bổ quá mức (nghĩa là việc cấp phát mảng hiện tại bằng với số phần tử trong mảng) thì sao?"
      ]
    },
    {
      "cell_type": "code",
      "execution_count": null,
      "metadata": {
        "id": "Vo6Hw77mQ1qs"
      },
      "outputs": [],
      "source": [
        "#freetext"
      ]
    },
    {
      "cell_type": "markdown",
      "metadata": {
        "id": "shxgSpeEdbnb"
      },
      "source": [
        "### Solution (Lời giải)"
      ]
    },
    {
      "cell_type": "markdown",
      "metadata": {
        "id": "7ZHORIWyr5C1"
      },
      "source": [
        "Suppose the array has $n$ elements before the new element is inserted at the end.\n",
        "\n",
        "If the array has been over allocated, then there is space at the $(n+1)$th position in memory for the new element to be appended. In this case, the operation is $O(1)$.\n",
        "\n",
        "If, however, the array has not been over allocated, then there is not necessarily space at the $(n+1)$th space in memory. (Remember, arrays utilize [contiguous blocks](https://stackoverflow.com/questions/4059363/what-is-a-contiguous-memory-block) of memory.) In this case, we must first allocate a new array of size at least $n+1$, then we need to copy over the $n$ elements of the original array. Finally, we can insert the new element at the $(n+1)$th position. Thus, the time complexity is $O(n)$."
      ]
    },
    {
      "cell_type": "markdown",
      "metadata": {
        "id": "db1646f2"
      },
      "source": [
        "Giả sử mảng có $n$ phần tử trước khi phần tử mới được chèn vào cuối.\n",
        "\n",
        "Nếu mảng đã được phân bổ quá mức, thì có không gian ở vị trí thứ $(n+1)$ trong bộ nhớ để phần tử mới được thêm vào. Trong trường hợp này, thao tác có độ phức tạp $O(1)$.\n",
        "\n",
        "Tuy nhiên, nếu mảng không được phân bổ quá mức, thì không nhất thiết có không gian ở vị trí thứ $(n+1)$ trong bộ nhớ. (Hãy nhớ rằng, mảng sử dụng [các khối liên tục](https://stackoverflow.com/questions/4059363/what-is-a-contiguous-memory-block) của bộ nhớ.) Trong trường hợp này, chúng mình phải đầu tiên cấp phát một mảng mới có kích thước ít nhất là $n+1$, sau đó chúng mình cần sao chép $n$ phần tử của mảng ban đầu. Cuối cùng, chúng mình có thể chèn phần tử mới vào vị trí thứ $(n+1)$. Do đó, độ phức tạp thời gian là $O(n)$."
      ]
    },
    {
      "cell_type": "markdown",
      "metadata": {
        "id": "dE6Oq4PvXZcS"
      },
      "source": [
        "## Question 5 (Câu hỏi 5)"
      ]
    },
    {
      "cell_type": "markdown",
      "metadata": {
        "id": "5U5FoGiHXRxg"
      },
      "source": [
        "What is the big-O time complexity of inserting an element into a linked list?"
      ]
    },
    {
      "cell_type": "markdown",
      "metadata": {
        "id": "647de7ac"
      },
      "source": [
        "Độ phức tạp thời gian big-O khi chèn một phần tử vào danh sách liên kết là gì?"
      ]
    },
    {
      "cell_type": "code",
      "execution_count": null,
      "metadata": {
        "id": "XDuR4zPKQ8om"
      },
      "outputs": [],
      "source": [
        "#freetext"
      ]
    },
    {
      "cell_type": "markdown",
      "metadata": {
        "id": "-psOcv7XXhS9"
      },
      "source": [
        "### Solution (Lời giải)"
      ]
    },
    {
      "cell_type": "markdown",
      "metadata": {
        "id": "WV370FhFXdix"
      },
      "source": [
        "Linked lists are designed with the purpose that inserting and deleting elements is efficient. Inserting an element is equivalent to creating the new node that points to the following element, and changing the previous element to point to the new element. All of these operations are $O(1)$ and do not depend on the number of nodes in the linked list, therefore the best, worst, and average case time complexities are all the same, $O(1)$."
      ]
    },
    {
      "cell_type": "markdown",
      "metadata": {
        "id": "e6f5d301"
      },
      "source": [
        "Danh sách liên kết được thiết kế với mục đích giúp việc chèn và xóa phần tử hiệu quả. Việc chèn một phần tử tương đương với việc tạo một nút mới trỏ đến phần tử tiếp theo, và thay đổi phần tử trước đó để trỏ đến phần tử mới. Tất cả các thao tác này có độ phức tạp $O(1)$ và không phụ thuộc vào số lượng nút trong danh sách liên kết, do đó độ phức tạp thời gian trong trường hợp tốt nhất, xấu nhất và trung bình đều giống nhau, $O(1)$."
      ]
    },
    {
      "cell_type": "markdown",
      "metadata": {
        "id": "IDo8sT3GPHhE"
      },
      "source": [
        "## Question 6 (Câu hỏi 6)"
      ]
    },
    {
      "cell_type": "markdown",
      "metadata": {
        "id": "k8suad4OPLNz"
      },
      "source": [
        "The following function finds the minimum value in an array."
      ]
    },
    {
      "cell_type": "markdown",
      "metadata": {
        "id": "72586345"
      },
      "source": [
        "Hàm sau đây tìm giá trị nhỏ nhất trong một mảng."
      ]
    },
    {
      "cell_type": "code",
      "execution_count": null,
      "metadata": {
        "id": "76s4VtjlSjPM"
      },
      "outputs": [],
      "source": [
        "def minimum(arr):\n",
        "  \"\"\"Finds the minimum of a list of integers.\"\"\"\n",
        "  min_value = float(\"Inf\")\n",
        "\n",
        "  for i in arr:\n",
        "    if i < min_value:\n",
        "      min_value = i\n",
        "\n",
        "  return min_value"
      ]
    },
    {
      "cell_type": "markdown",
      "metadata": {
        "id": "0T4SKv4KVZYZ"
      },
      "source": [
        "In a previous lesson, we showed that this function has time complexity $O(n)$, where $n$ is the length of the array.\n",
        "\n",
        "The function below finds the minimum of *two* arrays of length $n$. What is the big-O time complexity of `two_minimums`, in terms of $n$?\n",
        "\n",
        "You can assume that it is always true that both arrays have the same length, $n$."
      ]
    },
    {
      "cell_type": "markdown",
      "metadata": {
        "id": "0816fe2b"
      },
      "source": [
        "Trong bài học trước, chúng mình đã chỉ ra rằng hàm này có độ phức tạp thời gian $O(n)$, trong đó $n$ là độ dài của mảng.\n",
        "\n",
        "Hàm dưới đây tìm giá trị nhỏ nhất của *hai* mảng có độ dài $n$. Độ phức tạp thời gian big-O của `two_minimums` là gì, theo $n$?\n",
        "\n",
        "Bạn có thể giả định rằng cả hai mảng luôn có cùng độ dài, $n$."
      ]
    },
    {
      "cell_type": "code",
      "execution_count": null,
      "metadata": {
        "id": "X1FIMXfaPqim"
      },
      "outputs": [],
      "source": [
        "def two_minimums(arr1, arr2):\n",
        "  \"\"\"Finds the respective minimums of two n-arrays of integers.\"\"\"\n",
        "  return minimum(arr1), minimum(arr2)"
      ]
    },
    {
      "cell_type": "code",
      "execution_count": null,
      "metadata": {
        "id": "S7azNbldRFHo"
      },
      "outputs": [],
      "source": [
        "#freetext"
      ]
    },
    {
      "cell_type": "markdown",
      "metadata": {
        "id": "iwrN4wADPI4F"
      },
      "source": [
        "### Solution (Lời giải)"
      ]
    },
    {
      "cell_type": "markdown",
      "metadata": {
        "id": "wlAKjMAgbRkr"
      },
      "source": [
        "The `two_minimums` function calls `minimum` twice, once for `arr1` and once for `arr2`. The time complexity of each call is $O(n)$. Therefore the time complexity of of `two_minimums` is\n",
        "\n",
        "$$O(n) + O(n) = O(n),$$\n",
        "\n",
        "using the property that the sum of functions grows as fast as its fastest growing part.\n",
        "\n",
        "This is a good example of how two functions with the same time complexity do not necessarily have the same actual runtime. The `two_minimums` function calls `minimum` twice, so takes exactly twice as long as the `minimum` function, however both are $O(n)$."
      ]
    },
    {
      "cell_type": "markdown",
      "metadata": {
        "id": "4afbee3f"
      },
      "source": [
        "Hàm `two_minimums` gọi hàm `minimum` hai lần, một lần cho `arr1` và một lần cho `arr2`. Độ phức tạp thời gian của mỗi lần gọi là $O(n)$. Do đó, độ phức tạp thời gian của `two_minimums` là\n",
        "\n",
        "$$O(n) + O(n) = O(n),$$\n",
        "\n",
        "sử dụng quy tắc rằng tổng của các hàm tăng trưởng nhanh bằng phần tăng trưởng nhanh nhất của nó.\n",
        "\n",
        "Đây là một ví dụ tốt về cách mà hai hàm có cùng độ phức tạp thời gian không nhất thiết có cùng thời gian chạy thực tế. Hàm `two_minimums` gọi `minimum` hai lần, nên mất gấp đôi thời gian so với hàm `minimum`, tuy nhiên cả hai đều là $O(n)$."
      ]
    },
    {
      "cell_type": "markdown",
      "metadata": {
        "id": "gJgeGC0WcQjl"
      },
      "source": [
        "## Question 7 (Câu hỏi 7)"
      ]
    },
    {
      "cell_type": "markdown",
      "metadata": {
        "id": "L5mPjCNMcXyz"
      },
      "source": [
        "As per the previous question, calculating the minimums of two respective arrays of length *n* is linear. What is the time complexity of calculating the minimums of 1000 arrays of length *n*?"
      ]
    },
    {
      "cell_type": "markdown",
      "metadata": {
        "id": "7b0d8e18"
      },
      "source": [
        "Theo câu hỏi trước, việc tính giá trị nhỏ nhất của hai mảng có độ dài *n* là tuyến tính. Độ phức tạp thời gian khi tính giá trị nhỏ nhất của 1000 mảng có độ dài *n* là gì?"
      ]
    },
    {
      "cell_type": "code",
      "execution_count": null,
      "metadata": {
        "id": "GCJOFq1FRVNM"
      },
      "outputs": [],
      "source": [
        "#freetext"
      ]
    },
    {
      "cell_type": "markdown",
      "metadata": {
        "id": "StaVmqTicvRX"
      },
      "source": [
        "### Solution (Lời giải)"
      ]
    },
    {
      "cell_type": "markdown",
      "metadata": {
        "id": "wP0jwJ21cx_G"
      },
      "source": [
        "Using the same logic as in the previous question, the time complexity of finding the minimum of each array is $O(n)$. When these are added together, the time complexity is\n",
        "\n",
        "$$O(1000n) = O(n).$$\n",
        "\n",
        "This demonstrates how for any *constant* number $N$ of $n$-arrays, the total time complexity of calculating the $N$ respective minimums of the $N$ arrays is always $O(n)$. In an algorithm, doing the same thing repeatedly for a *known* and *constant* number of times is as time-complex as doing it only once."
      ]
    },
    {
      "cell_type": "markdown",
      "metadata": {
        "id": "a4416db0"
      },
      "source": [
        "Sử dụng cùng logic như trong câu hỏi trước, độ phức tạp thời gian để tìm giá trị nhỏ nhất của mỗi mảng là $O(n)$. Khi chúng được cộng lại, độ phức tạp thời gian là\n",
        "\n",
        "$$O(1000n) = O(n).$$\n",
        "\n",
        "Điều này chứng tỏ rằng đối với bất kỳ số lượng *hằng số* $N$ của các mảng có độ dài $n$, tổng độ phức tạp thời gian để tính $N$ giá trị nhỏ nhất tương ứng của $N$ mảng luôn là $O(n)$. Trong một thuật toán, việc thực hiện cùng một việc lặp đi lặp lại với số lần *đã biết* và *không đổi* có cùng độ phức tạp thời gian như khi thực hiện nó chỉ một lần."
      ]
    },
    {
      "cell_type": "markdown",
      "metadata": {
        "id": "XY1zdZ15uBhj"
      },
      "source": [
        "# Analyzing Complexity (Phân tích độ phức tạp)"
      ]
    },
    {
      "cell_type": "markdown",
      "metadata": {
        "id": "fFP0QbIFZELX"
      },
      "source": [
        "## Lesson Overview (Tổng quan bài học)"
      ]
    },
    {
      "cell_type": "markdown",
      "metadata": {
        "id": "OyFr8NpLSRW1"
      },
      "source": [
        "As you become familiar with more algorithms, it becomes increasingly important to analyze and calculate complexities. In any real-world application, it is fundamental to understand the time and space complexities of the algorithms employed in a program."
      ]
    },
    {
      "cell_type": "markdown",
      "metadata": {
        "id": "5688d856"
      },
      "source": [
        "Khi bạn làm quen với nhiều thuật toán hơn, việc phân tích và tính toán độ phức tạp trở nên ngày càng quan trọng. Trong bất kỳ ứng dụng thực tế nào, việc hiểu rõ độ phức tạp về thời gian và không gian của các thuật toán được sử dụng trong chương trình là điều cơ bản."
      ]
    },
    {
      "cell_type": "markdown",
      "metadata": {
        "id": "VcJA6i1pZcPL"
      },
      "source": [
        "An algorithm's complexity is usually referenced based on the **average case**. In the previous lesson, we introduced the concept of **best and worst case complexity**: the best case complexity is the lowest possible complexity of the algorithm, and the worst case complexity is the highest possible complexity of the algorithm."
      ]
    },
    {
      "cell_type": "markdown",
      "metadata": {
        "id": "d9793387"
      },
      "source": [
        "Độ phức tạp của một thuật toán thường được tham chiếu dựa trên **trường hợp trung bình**. Trong bài học trước, chúng mình đã giới thiệu khái niệm về **độ phức tạp trường hợp tốt nhất và xấu nhất**: độ phức tạp trường hợp tốt nhất là độ phức tạp thấp nhất có thể của thuật toán, và độ phức tạp trường hợp xấu nhất là độ phức tạp cao nhất có thể của thuật toán."
      ]
    },
    {
      "cell_type": "markdown",
      "metadata": {
        "id": "sqK2IASVS5Gf"
      },
      "source": [
        "### Average case complexity (Độ phức tạp trường hợp trung bình)"
      ]
    },
    {
      "cell_type": "markdown",
      "metadata": {
        "id": "Y3PPU_wQS7A7"
      },
      "source": [
        "> The **average case time complexity** of a program is the mean time complexity of the program averaged over all possible inputs."
      ]
    },
    {
      "cell_type": "markdown",
      "metadata": {
        "id": "b7af65de"
      },
      "source": [
        "> **Độ phức tạp thời gian trường hợp trung bình** của một chương trình là độ phức tạp thời gian trung bình của chương trình được tính trung bình trên tất cả các đầu vào có thể."
      ]
    },
    {
      "cell_type": "markdown",
      "metadata": {
        "id": "cCB03xfeS8B8"
      },
      "source": [
        "Formally calculating the average case time complexity of an algorithm is often cumbersome, as it involves calculating the time complexity for *every* possible input, then taking the mean."
      ]
    },
    {
      "cell_type": "markdown",
      "metadata": {
        "id": "6e34029e"
      },
      "source": [
        "Việc tính toán chính thức độ phức tạp thời gian trường hợp trung bình của một thuật toán thường rất phức tạp, vì nó đòi hỏi phải tính toán độ phức tạp thời gian cho *mọi* đầu vào có thể, sau đó lấy giá trị trung bình."
      ]
    },
    {
      "cell_type": "markdown",
      "metadata": {
        "id": "Dq4-iOZzTBf7"
      },
      "source": [
        "### Analyzing the time complexity of an algorithm (Phân tích độ phức tạp thời gian của một thuật toán)"
      ]
    },
    {
      "cell_type": "markdown",
      "metadata": {
        "id": "VpO9km5VjF8P"
      },
      "source": [
        "The following function returns the index of an array of integers at which the cumulative sum first exceeds a threshold. This function has many possible applications, including finding the first day a company's gross revenue exceeds a target, and finding whether a country's total carbon emissions exceed a quota and if so when."
      ]
    },
    {
      "cell_type": "markdown",
      "metadata": {
        "id": "d74cb246"
      },
      "source": [
        "Hàm sau đây trả về chỉ số của một mảng các số nguyên tại đó tổng tích lũy đầu tiên vượt quá một ngưỡng. Hàm này có nhiều ứng dụng có thể, bao gồm việc tìm ngày đầu tiên mà doanh thu tổng của một công ty vượt quá mục tiêu, và xác định liệu tổng lượng khí thải carbon của một quốc gia có vượt quá hạn ngạch hay không và nếu có thì khi nào."
      ]
    },
    {
      "cell_type": "code",
      "execution_count": null,
      "metadata": {
        "id": "l1mMdF3_4lM8"
      },
      "outputs": [],
      "source": [
        "def threshold_exceeded(arr, threshold):\n",
        "  \"\"\"Returns the index at which the cumulative sum of array exceeds threshold.\n",
        "\n",
        "  Returns -1 if the total sum of the array does not exceed the threshold.\"\"\"\n",
        "  cumulative_sum = 0\n",
        "\n",
        "  for i in range(len(arr)):\n",
        "    cumulative_sum += arr[i]\n",
        "\n",
        "    if cumulative_sum > threshold:\n",
        "      return i\n",
        "\n",
        "  return -1"
      ]
    },
    {
      "cell_type": "code",
      "execution_count": null,
      "metadata": {
        "id": "K4h0MOD7auH1"
      },
      "outputs": [],
      "source": [
        "print(threshold_exceeded([2, 4, 5, 1, 3], 7))\n",
        "print(threshold_exceeded([2, 4, 5, 1, 3], 70))"
      ]
    },
    {
      "cell_type": "markdown",
      "metadata": {
        "id": "GPci2P49X5Vr"
      },
      "source": [
        "Suppose the input array has $n$ elements. All of the single-line operations in this function have an $O(1)$ time complexity, so the time complexity is the number of iterations in the `for` loop before it can `return`.\n",
        "\n",
        "**Worst case**\n",
        "\n",
        "The maximum number of iterations that this function can have is $n$, since the `for` loop is through `range(len(arr))`. This occurs either if the total sum of the array does not exceed threshold, or if it only exceeds it at the final index. The worst case number of iterations is $n$, so the worst case time complexity is $O(n)$.\n",
        "\n",
        "**Best case**\n",
        "\n",
        "The minimum number of iterations that this function can have is 1, in the case that `array[0] > threshold`. The best case number of iterations is 1, so the best case time complexity is $O(1)$."
      ]
    },
    {
      "cell_type": "markdown",
      "metadata": {
        "id": "c40aae92"
      },
      "source": [
        "Giả sử mảng đầu vào có $n$ phần tử. Tất cả các thao tác một dòng trong hàm này đều có độ phức tạp thời gian $O(1)$, vì vậy độ phức tạp thời gian là số lần lặp trong vòng lặp `for` trước khi nó có thể `return`.\n",
        "\n",
        "**Trường hợp xấu nhất**\n",
        "\n",
        "Số lần lặp tối đa mà hàm này có thể có là $n$, vì vòng lặp `for` đi qua `range(len(arr))`. Điều này xảy ra khi tổng của mảng không vượt quá ngưỡng, hoặc nếu nó chỉ vượt quá ở chỉ số cuối cùng. Số lần lặp trong trường hợp xấu nhất là $n$, nên độ phức tạp thời gian trường hợp xấu nhất là $O(n)$.\n",
        "\n",
        "**Trường hợp tốt nhất**\n",
        "\n",
        "Số lần lặp tối thiểu mà hàm này có thể có là 1, trong trường hợp `array[0] > threshold`. Số lần lặp trong trường hợp tốt nhất là 1, nên độ phức tạp thời gian trường hợp tốt nhất là $O(1)$."
      ]
    },
    {
      "cell_type": "markdown",
      "metadata": {
        "id": "AxG2EXiVbFe8"
      },
      "source": [
        "### Average case complexity of an algorithm (Độ phức tạp trường hợp trung bình của một thuật toán)"
      ]
    },
    {
      "cell_type": "markdown",
      "metadata": {
        "id": "Rxdtr1iBbPRK"
      },
      "source": [
        "To formally calculate the average case time complexity, we would need to find the time complexity for all possible combinations of `arr` and `threshold`, and calculate the mean complexity. This is often tricky, since the number of possible input values for `arr` and `threshold` is infinite! Instead, we can use a few simple assumptions to calculate the average case time complexity."
      ]
    },
    {
      "cell_type": "markdown",
      "metadata": {
        "id": "bd4876bf"
      },
      "source": [
        "Để tính toán chính thức độ phức tạp thời gian trường hợp trung bình, chúng mình cần tìm độ phức tạp thời gian cho tất cả các kết hợp có thể của `arr` và `threshold`, và tính độ phức tạp trung bình. Điều này thường khó khăn, vì số lượng giá trị đầu vào có thể có cho `arr` và `threshold` là vô hạn! Thay vào đó, chúng mình có thể sử dụng một vài giả định đơn giản để tính toán độ phức tạp thời gian trường hợp trung bình."
      ]
    },
    {
      "cell_type": "code",
      "execution_count": null,
      "metadata": {
        "id": "sQ4glW7lbMKy"
      },
      "outputs": [],
      "source": [
        "def threshold_exceeded(arr, threshold):\n",
        "  \"\"\"Returns the index at which the cumulative sum of array exceeds threshold.\n",
        "\n",
        "  Returns -1 if the total sum of the array does not exceed the threshold.\"\"\"\n",
        "  cumulative_sum = 0\n",
        "\n",
        "  for i in range(len(arr)):\n",
        "    cumulative_sum += arr[i]\n",
        "\n",
        "    if cumulative_sum > threshold:\n",
        "      return i\n",
        "\n",
        "  return -1"
      ]
    },
    {
      "cell_type": "markdown",
      "metadata": {
        "id": "LbxWf3euTNhN"
      },
      "source": [
        "Let's consider two scenarios separately:\n",
        "\n",
        "1. The total sum of `array` does not exceed `threshold`.\n",
        "\n",
        "   In this scenario, the function must iterate through the entire array to calculate the total sum of `array`, find that it does not exceed `threshold`, and `return -1`. Therefore the number of iterations in this scenario is always $n$.\n",
        "\n",
        "1. The total sum of `array` exceeds `threshold`.\n",
        "\n",
        "   In this scenario, the number of iterations can vary from 1 (if `arr[0] > threshold`, which is the best case) to $n$ (if the cumulative sum exceeds `threshold` after all $n$ iterations but not after $n-1$ iterations). To take an average over all possible inputs, we can assume that all inputs are equally likely to occur. Under this assumption, the mean number of iterations lies halfway between the minimum 1 and the maximum $n$. Therefore the mean number of iterations in this scenario is $\\frac{n+1}{2}$.\n",
        "\n",
        "Now, we need to calculate the mean across *both* these scenarios. Assume that the first scenario occurs with some unknown but constant probability $p$. Therefore the second scenario occurs with probability $1-p$. Using the [law of total probability](https://en.wikipedia.org/wiki/Law_of_total_probability), the average number of iterations is\n",
        "\n",
        "$$pn + (1-p)\\frac{n+1}{2} = n \\left( p + \\frac{1-p}{2} \\right) + \\frac{1-p}{2}$$\n",
        "\n",
        "This looks complicated, but the multiplicative and additive constants can be ignored in big-O analysis. Therefore the average case time complexity is $O(n)$.\n",
        "\n",
        "In practice, you shouldn't need to calculate average case complexities too often. However it is important to understand *how* average case complexities are derived, and to know the average case complexities of common algorithms."
      ]
    },
    {
      "cell_type": "markdown",
      "metadata": {
        "id": "9f1af041"
      },
      "source": [
        "Hãy xem xét hai kịch bản riêng biệt:\n",
        "\n",
        "1. Tổng của `array` không vượt quá `threshold`.\n",
        "\n",
        "   Trong kịch bản này, hàm phải lặp qua toàn bộ mảng để tính tổng của `array`, nhận thấy rằng nó không vượt quá `threshold`, và `return -1`. Do đó, số lần lặp trong kịch bản này luôn là $n$.\n",
        "\n",
        "1. Tổng của `array` vượt quá `threshold`.\n",
        "\n",
        "   Trong kịch bản này, số lần lặp có thể thay đổi từ 1 (nếu `arr[0] > threshold`, đây là trường hợp tốt nhất) đến $n$ (nếu tổng tích lũy vượt quá `threshold` sau tất cả $n$ lần lặp nhưng không vượt quá sau $n-1$ lần lặp). Để lấy trung bình trên tất cả các đầu vào có thể, chúng mình có thể giả định rằng tất cả các đầu vào đều có khả năng xảy ra như nhau. Với giả định này, số lần lặp trung bình nằm giữa số lần lặp tối thiểu 1 và tối đa $n$. Do đó, số lần lặp trung bình trong kịch bản này là $\\frac{n+1}{2}$.\n",
        "\n",
        "Bây giờ, chúng mình cần tính toán trung bình qua *cả hai* kịch bản này. Giả sử rằng kịch bản đầu tiên xảy ra với xác suất không xác định nhưng hằng số $p$. Do đó, kịch bản thứ hai xảy ra với xác suất $1-p$. Sử dụng [quy luật xác suất toàn phần](https://en.wikipedia.org/wiki/Law_of_total_probability), số lần lặp trung bình là\n",
        "\n",
        "$$pn + (1-p)\\frac{n+1}{2} = n \\left( p + \\frac{1-p}{2} \\right) + \\frac{1-p}{2}$$\n",
        "\n",
        "Điều này có vẻ phức tạp, nhưng các hằng số nhân và cộng có thể được bỏ qua trong phân tích big-O. Do đó, độ phức tạp thời gian trường hợp trung bình là $O(n)$.\n",
        "\n",
        "Trong thực tế, bạn không cần phải tính toán độ phức tạp trường hợp trung bình quá thường xuyên. Tuy nhiên, điều quan trọng là hiểu *cách* độ phức tạp trường hợp trung bình được tính toán, và biết độ phức tạp trường hợp trung bình của các thuật toán phổ biến."
      ]
    },
    {
      "cell_type": "markdown",
      "metadata": {
        "id": "Rq3PzjXIF0wh"
      },
      "source": [
        "## Question 1 (Câu hỏi 1)"
      ]
    },
    {
      "cell_type": "markdown",
      "metadata": {
        "id": "HRF3oW6UF2C5"
      },
      "source": [
        "Which *one* of the following best defines the average case time complexity of an algorithm?"
      ]
    },
    {
      "cell_type": "markdown",
      "metadata": {
        "id": "5f25a3e2"
      },
      "source": [
        "*Một* định nghĩa nào sau đây tốt nhất về độ phức tạp thời gian trường hợp trung bình của một thuật toán?"
      ]
    },
    {
      "cell_type": "markdown",
      "metadata": {
        "id": "gONnLmtJP4RA"
      },
      "source": [
        "**a)** The average of the best and worst case time complexity\n",
        "\n",
        "**b)** The time complexity when run on average inputs\n",
        "\n",
        "**c)** The median time complexity over all possible inputs\n",
        "\n",
        "**d)** The mean time complexity over all possible inputs"
      ]
    },
    {
      "cell_type": "markdown",
      "metadata": {
        "id": "350ba477"
      },
      "source": [
        "**a)** Trung bình của độ phức tạp thời gian trường hợp tốt nhất và xấu nhất\n",
        "\n",
        "**b)** Độ phức tạp thời gian khi chạy trên các đầu vào trung bình\n",
        "\n",
        "**c)** Độ phức tạp thời gian trung vị trên tất cả các đầu vào có thể\n",
        "\n",
        "**d)** Độ phức tạp thời gian trung bình trên tất cả các đầu vào có thể"
      ]
    },
    {
      "cell_type": "markdown",
      "metadata": {
        "id": "OXTWjdbDP5og"
      },
      "source": [
        "### Solution (Lời giải)"
      ]
    },
    {
      "cell_type": "markdown",
      "metadata": {
        "id": "bQDVtuzhP7CP"
      },
      "source": [
        "The correct answer is **d)**.\n",
        "\n",
        "**a)** Average case complexity averages more than just the best and worst case complexity.\n",
        "\n",
        "**b)** The average case complexity is the average complexity, not the complexity on average inputs.\n",
        "\n",
        "**c)** Close, but not quite. \"Average\" generally refers to the mean, not the median."
      ]
    },
    {
      "cell_type": "markdown",
      "metadata": {
        "id": "839a0ad4"
      },
      "source": [
        "Câu trả lời đúng là **d)**.\n",
        "\n",
        "**a)** Độ phức tạp trường hợp trung bình tính trung bình nhiều hơn chỉ độ phức tạp trường hợp tốt nhất và xấu nhất.\n",
        "\n",
        "**b)** Độ phức tạp trường hợp trung bình là độ phức tạp trung bình, không phải độ phức tạp trên các đầu vào trung bình.\n",
        "\n",
        "**c)** Gần đúng, nhưng chưa chính xác. \"Trung bình\" thường đề cập đến giá trị trung bình, không phải trung vị."
      ]
    },
    {
      "cell_type": "markdown",
      "metadata": {
        "id": "drEesRbhaqhT"
      },
      "source": [
        "## Question 2 (Câu hỏi 2)"
      ]
    },
    {
      "cell_type": "markdown",
      "metadata": {
        "id": "P_hQPG8D5ZFl"
      },
      "source": [
        "Your friend is taking a course in data structures and algorithms. As part of their homework assignment, they had to write a function that checks if a given value is in an array. Below is their function."
      ]
    },
    {
      "cell_type": "markdown",
      "metadata": {
        "id": "7d9379bb"
      },
      "source": [
        "Bạn của bạn đang học một khóa học về cấu trúc dữ liệu và thuật toán. Như một phần của bài tập về nhà, họ phải viết một hàm kiểm tra xem một giá trị cụ thể có trong một mảng hay không. Dưới đây là hàm của họ."
      ]
    },
    {
      "cell_type": "code",
      "execution_count": null,
      "metadata": {
        "id": "Y4RnO--U5tGI"
      },
      "outputs": [],
      "source": [
        "def find(arr, val):\n",
        "  \"\"\"Returns True if val is in the list arr.\"\"\"\n",
        "  result = False\n",
        "\n",
        "  for i in arr:\n",
        "    if i == val:\n",
        "      result = True\n",
        "\n",
        "  return result"
      ]
    },
    {
      "cell_type": "markdown",
      "metadata": {
        "id": "hR0ZGAfq6y4y"
      },
      "source": [
        "When your friend received the homework assignment back, they only received partial credit for this function. The teacher said that while the function is correct, it is inefficient in terms of the best case time complexity.\n",
        "\n",
        "What is the best case time complexity of your friend's implementation?"
      ]
    },
    {
      "cell_type": "markdown",
      "metadata": {
        "id": "79f3c578"
      },
      "source": [
        "Khi bạn của bạn nhận lại bài tập về nhà, họ chỉ nhận được điểm một phần cho hàm này. Giáo viên nói rằng mặc dù hàm này đúng, nhưng nó không hiệu quả về mặt độ phức tạp thời gian trong trường hợp tốt nhất.\n",
        "\n",
        "Độ phức tạp thời gian trường hợp tốt nhất của cách triển khai của bạn của bạn là gì?"
      ]
    },
    {
      "cell_type": "code",
      "execution_count": null,
      "metadata": {
        "id": "TOAMNCllUNmO"
      },
      "outputs": [],
      "source": [
        "#freetext"
      ]
    },
    {
      "cell_type": "markdown",
      "metadata": {
        "id": "gOQ-rODe9DuN"
      },
      "source": [
        "### Solution (Lời giải)"
      ]
    },
    {
      "cell_type": "markdown",
      "metadata": {
        "id": "KWJM2Ihq9FLk"
      },
      "source": [
        "All of the computations within and outside the `for` loop are $O(1)$. In all cases (best, worst, average), this implementation inspects all the $n$ elements of `arr` and the `for` loop has $n$ iterations. Therefore, this implementation has a best (and worst and average) case complexity of $O(n)$."
      ]
    },
    {
      "cell_type": "markdown",
      "metadata": {
        "id": "0e99fc69"
      },
      "source": [
        "Tất cả các phép tính trong và ngoài vòng lặp `for` đều là $O(1)$. Trong tất cả các trường hợp (tốt nhất, xấu nhất, trung bình), cách triển khai này kiểm tra tất cả $n$ phần tử của `arr` và vòng lặp `for` có $n$ lần lặp. Do đó, cách triển khai này có độ phức tạp trường hợp tốt nhất (và xấu nhất và trung bình) là $O(n)$."
      ]
    }
  ],
  "metadata": {
    "colab": {
      "collapsed_sections": [
        "RlaKpbq6Hucy",
        "kEfIy5iiIdQM",
        "qMo1jMcjJRks",
        "rA_7tReQmG_S",
        "QQcPaXp5ZWh4",
        "i1js8BZ3ZXDo",
        "mvK3V6ATaSC7",
        "8Vw_C34hLRIJ",
        "vSPWUKPJaT0U",
        "bdCXDsTGda2U",
        "alhwAIH1TIA0",
        "TK9k3jmGSzvw",
        "C0EnSTxHaSuX"
      ],
      "name": "big_o.ipynb",
      "private_outputs": true,
      "provenance": [],
      "toc_visible": true
    },
    "kernelspec": {
      "display_name": "Python 3",
      "name": "python3"
    }
  },
  "nbformat": 4,
  "nbformat_minor": 0
}