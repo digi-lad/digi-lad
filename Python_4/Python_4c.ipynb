{
  "cells": [
    {
      "cell_type": "markdown",
      "metadata": {
        "id": "yDMOMvr-bh9o"
      },
      "source": [
        "# Bubble Sort (Sắp xếp nổi bọt)"
      ]
    },
    {
      "cell_type": "markdown",
      "metadata": {
        "id": "St11iTQYbjb2"
      },
      "source": [
        "## Lesson Overview (Tổng quan bài học)"
      ]
    },
    {
      "cell_type": "markdown",
      "metadata": {
        "id": "6iCOnYW5csCC"
      },
      "source": [
        "**Bubble sort** is one of the simplest sorting algorithms, but it is not as efficient as others that you will encounter later. It can be implemented using iteration or recursion."
      ]
    },
    {
      "cell_type": "markdown",
      "metadata": {
        "id": "c3ef5481"
      },
      "source": [
        "**Bubble sort** (Sắp xếp nổi bọt) là một trong những thuật toán sắp xếp đơn giản nhất, nhưng nó không hiệu quả bằng các thuật toán khác mà chúng mình sẽ gặp sau này. Thuật toán này có thể được thực hiện bằng cách lặp hoặc đệ quy."
      ]
    },
    {
      "cell_type": "markdown",
      "metadata": {
        "id": "6aeN-RtBFoqU"
      },
      "source": [
        "> The average case time complexity of bubble sort is $O(n^2)$.\n",
        "\n",
        "Bubble sort is usually implemented in-place, so elements are sorted within the input array itself. As a consequence, the space complexity is $O(1)$ in all cases."
      ]
    },
    {
      "cell_type": "markdown",
      "metadata": {
        "id": "2d72474d"
      },
      "source": [
        "> Độ phức tạp thời gian trung bình của bubble sort là $O(n^2)$.\n",
        "\n",
        "Bubble sort thường được thực hiện tại chỗ, do đó các phần tử được sắp xếp ngay trong mảng đầu vào. Kết quả là, độ phức tạp không gian là $O(1)$ trong mọi trường hợp."
      ]
    },
    {
      "cell_type": "markdown",
      "metadata": {
        "id": "_1bBTJ2WFqgh"
      },
      "source": [
        "### Algorithm (Thuật toán)"
      ]
    },
    {
      "cell_type": "markdown",
      "metadata": {
        "id": "omdLXUSHjJaO"
      },
      "source": [
        "The idea behind bubble sort is that at each repetition, the maximum element is moved to (or \"bubbles up\" to, hence the name bubble sort) the end of the array."
      ]
    },
    {
      "cell_type": "markdown",
      "metadata": {
        "id": "f3922e14"
      },
      "source": [
        "Ý tưởng đằng sau bubble sort là ở mỗi lần lặp lại, phần tử lớn nhất sẽ được chuyển đến (hoặc \"nổi lên\", từ đó có tên gọi là sắp xếp nổi bọt) cuối mảng."
      ]
    },
    {
      "cell_type": "markdown",
      "metadata": {
        "id": "Mk75WBc1FteQ"
      },
      "source": [
        "Below are the key steps in the bubble sort algorithm.\n",
        "\n",
        "1. **Iterate** through consecutive pairs of the array. If a pair is \"out of order\" (if the first element is greater than the second element), swap the pair.\n",
        "\n",
        "   For example, if `arr[1] = 15` and `arr[2] = 10`, swap the elements so that `arr[1] = 10` and `arr[2] = 15`. However if `arr[1] = 10` and `arr[2] = 15`, do not swap any elements.\n",
        "   \n",
        "\n",
        "1. **Repeat** the algorithm on the sub-array of all indices except the last element.\n",
        "\n",
        "   For example, if the array has length 10, the first repetition iterates over all 9 pairs, the second repetition iterates over the first 8 pairs, the third repetition iterates over the first 7 pairs, and so on."
      ]
    },
    {
      "cell_type": "markdown",
      "metadata": {
        "id": "c6386148"
      },
      "source": [
        "Dưới đây là các bước chính trong thuật toán bubble sort.\n",
        "\n",
        "1. **Lặp lại** qua các cặp liên tiếp của mảng. Nếu một cặp \"không đúng thứ tự\" (nếu phần tử đầu tiên lớn hơn phần tử thứ hai), hoán đổi vị trí của cặp đó.\n",
        "\n",
        "   Ví dụ, nếu `arr[1] = 15` và `arr[2] = 10`, hoán đổi các phần tử sao cho `arr[1] = 10` và `arr[2] = 15`. Tuy nhiên, nếu `arr[1] = 10` và `arr[2] = 15`, không cần hoán đổi phần tử nào.\n",
        "   \n",
        "\n",
        "1. **Lặp lại** thuật toán trên mảng con của tất cả các chỉ số ngoại trừ phần tử cuối cùng.\n",
        "\n",
        "   Ví dụ, nếu mảng có độ dài 10, lần lặp đầu tiên sẽ lặp qua tất cả 9 cặp, lần lặp thứ hai sẽ lặp qua 8 cặp đầu tiên, lần lặp thứ ba sẽ lặp qua 7 cặp đầu tiên, và cứ tiếp tục như vậy."
      ]
    },
    {
      "cell_type": "markdown",
      "metadata": {
        "id": "HkgggiAGzwiN"
      },
      "source": [
        "**Example** (Ví dụ)"
      ]
    },
    {
      "cell_type": "markdown",
      "metadata": {
        "id": "uHvsvRrLLIPd"
      },
      "source": [
        "The following table demonstrates sorting [3, 2, 4, 1] using bubble sort. (Remember that lists in Python are zero-indexed! This means the first element of an array has index 0.) The first row shows the input array."
      ]
    },
    {
      "cell_type": "markdown",
      "metadata": {
        "id": "be74169f"
      },
      "source": [
        "Bảng sau đây minh họa việc sắp xếp [3, 2, 4, 1] bằng bubble sort. (Hãy nhớ rằng các danh sách trong Python được đánh chỉ số từ 0! Điều này có nghĩa là phần tử đầu tiên của một mảng có chỉ số 0.) Hàng đầu tiên hiển thị mảng đầu vào."
      ]
    },
    {
      "cell_type": "markdown",
      "metadata": {
        "id": "rbs_ooMuz2SO"
      },
      "source": [
        "**Repetition** | **Iteration** | **Indices** | **Swap?** | **Array after iteration**\n",
        "--- | --- | --- | --- | ---\n",
        "0              | 0             | N/A         | N/A       | [3, 2, 4, 1]\n",
        "1              | 0             | 0, 1        | Yes       | [2, 3, 4, 1]\n",
        "1              | 1             | 1, 2        | No        | [2, 3, 4, 1]\n",
        "1              | 2             | 2, 3        | Yes       | [2, 3, 1, 4]\n",
        "2              | 0             | 0, 1        | No        | [2, 3, 1, 4]\n",
        "2              | 1             | 1, 2        | No        | [2, 1, 3, 4]\n",
        "3              | 0             | 0, 1        | Yes       | [1, 2, 3, 4]"
      ]
    },
    {
      "cell_type": "markdown",
      "metadata": {
        "id": "efc0ae05"
      },
      "source": [
        "**Lặp lại** | **Vòng lặp** | **Chỉ số** | **Đổi chỗ?** | **Mảng sau vòng lặp**\n",
        "--- | --- | --- | --- | ---\n",
        "0              | 0             | N/A         | N/A       | [3, 2, 4, 1]\n",
        "1              | 0             | 0, 1        | Có        | [2, 3, 4, 1]\n",
        "1              | 1             | 1, 2        | Không     | [2, 3, 4, 1]\n",
        "1              | 2             | 2, 3        | Có        | [2, 3, 1, 4]\n",
        "2              | 0             | 0, 1        | Không     | [2, 3, 1, 4]\n",
        "2              | 1             | 1, 2        | Có        | [2, 1, 3, 4]\n",
        "3              | 0             | 0, 1        | Có        | [1, 2, 3, 4]"
      ]
    },
    {
      "cell_type": "markdown",
      "metadata": {
        "id": "tYrM6-FyuYMu"
      },
      "source": [
        "## Question (Câu hỏi)"
      ]
    },
    {
      "cell_type": "markdown",
      "metadata": {
        "id": "-QW1CDSGuZn6"
      },
      "source": [
        "Step 1 of bubble sort (as per the Lesson Overview) iterates through consecutive pairs of the array, and swaps the pair if the number to the right is less than the number to the left. (Step 2 then repeats Step 1, but this question focuses only on Step 1.)"
      ]
    },
    {
      "cell_type": "markdown",
      "metadata": {
        "id": "d1a6125f"
      },
      "source": [
        "Bước 1 của bubble sort (theo Tổng quan bài học) lặp qua các cặp liên tiếp của mảng, và hoán đổi cặp nếu số bên phải nhỏ hơn số bên trái. (Bước 2 sau đó lặp lại Bước 1, nhưng câu hỏi này chỉ tập trung vào Bước 1.)"
      ]
    },
    {
      "cell_type": "markdown",
      "metadata": {
        "id": "90UZnqsDz5-J"
      },
      "source": [
        "What is the result of applying **just Step 1 of bubble sort** to the array [2, 1, 4, 5, 2, 3, 7, 6]? That is, what is the resulting array after each step iterating over consecutive pairs and swapping them if out of order? Complete the following table.\n",
        "\n",
        "Iteration | Indices | Swap? | Array after iteration\n",
        "--------- | ------- | ----- | --------------------------\n",
        "0         | 0, 1    | Yes   | [1, 2, 4, 5, 2, 3, 7, 6]\n",
        "1         | 1, 2    | No    | [1, 2, 4, 5, 2, 3, 7, 6]\n",
        "2         | 2, 3    | No    | [1, 2, 4, 5, 2, 3, 7, 6]\n",
        "3         | 3, 4    |       |\n",
        "4         | 4, 5    |       |\n",
        "5         | 5, 6    |       |\n",
        "6         | 6, 7    |       |"
      ]
    },
    {
      "cell_type": "markdown",
      "metadata": {
        "id": "c1b53153"
      },
      "source": [
        "Kết quả của việc áp dụng **chỉ Bước 1 của bubble sort** vào mảng [2, 1, 4, 5, 2, 3, 7, 6] là gì? Nghĩa là, mảng kết quả sau mỗi bước lặp qua các cặp liên tiếp và hoán đổi chúng nếu không đúng thứ tự là gì? Hoàn thành bảng sau.\n",
        "\n",
        "Vòng lặp | Chỉ số | Đổi chỗ? | Mảng sau vòng lặp\n",
        "--------- | ------- | ----- | --------------------------\n",
        "0         | 0, 1    | Có    | [1, 2, 4, 5, 2, 3, 7, 6]\n",
        "1         | 1, 2    | Không | [1, 2, 4, 5, 2, 3, 7, 6]\n",
        "2         | 2, 3    | Không | [1, 2, 4, 5, 2, 3, 7, 6]\n",
        "3         | 3, 4    |       |\n",
        "4         | 4, 5    |       |\n",
        "5         | 5, 6    |       |\n",
        "6         | 6, 7    |       |"
      ]
    },
    {
      "cell_type": "code",
      "execution_count": null,
      "metadata": {
        "id": "QJAp37s00OsA"
      },
      "outputs": [],
      "source": [
        "#freetext"
      ]
    },
    {
      "cell_type": "markdown",
      "metadata": {
        "id": "Gb8sBeafu4Mw"
      },
      "source": [
        "### Solution (Lời giải)"
      ]
    },
    {
      "cell_type": "markdown",
      "metadata": {
        "id": "Jd2SiucMvDKh"
      },
      "source": [
        "The following table outlines how the original array [2, 1, 4, 5, 2, 3, 7, 6] changes by iteration."
      ]
    },
    {
      "cell_type": "markdown",
      "metadata": {
        "id": "10717bc9"
      },
      "source": [
        "Bảng sau đây mô tả cách mảng ban đầu [2, 1, 4, 5, 2, 3, 7, 6] thay đổi theo từng vòng lặp."
      ]
    },
    {
      "cell_type": "markdown",
      "metadata": {
        "id": "qK3zPY1Xz-d_"
      },
      "source": [
        "Iteration | Indices | Swap? | Array after iteration\n",
        "--------- | ------- | ----- | --------------------------\n",
        "0         | 0, 1    | Yes   | [1, 2, 4, 5, 2, 3, 7, 6]\n",
        "1         | 1, 2    | No    | [1, 2, 4, 5, 2, 3, 7, 6]\n",
        "2         | 2, 3    | No    | [1, 2, 4, 5, 2, 3, 7, 6]\n",
        "3         | 3, 4    | Yes   | [1, 2, 4, 2, 5, 3, 7, 6]\n",
        "4         | 4, 5    | Yes   | [1, 2, 4, 2, 3, 5, 7, 6]\n",
        "5         | 5, 6    | No    | [1, 2, 4, 2, 3, 5, 7, 6]\n",
        "6         | 6, 7    | Yes   | [1, 2, 4, 2, 3, 5, 6, 7]"
      ]
    },
    {
      "cell_type": "markdown",
      "metadata": {
        "id": "1dc55883"
      },
      "source": [
        "Vòng lặp | Chỉ số | Đổi chỗ? | Mảng sau vòng lặp\n",
        "--------- | ------- | ----- | --------------------------\n",
        "0         | 0, 1    | Có    | [1, 2, 4, 5, 2, 3, 7, 6]\n",
        "1         | 1, 2    | Không | [1, 2, 4, 5, 2, 3, 7, 6]\n",
        "2         | 2, 3    | Không | [1, 2, 4, 5, 2, 3, 7, 6]\n",
        "3         | 3, 4    | Có    | [1, 2, 4, 2, 5, 3, 7, 6]\n",
        "4         | 4, 5    | Có    | [1, 2, 4, 2, 3, 5, 7, 6]\n",
        "5         | 5, 6    | Không | [1, 2, 4, 2, 3, 5, 7, 6]\n",
        "6         | 6, 7    | Có    | [1, 2, 4, 2, 3, 5, 6, 7]"
      ]
    },
    {
      "cell_type": "markdown",
      "metadata": {
        "id": "N7yqxn5Z5OvI"
      },
      "source": [
        "## Question (Câu hỏi)"
      ]
    },
    {
      "cell_type": "markdown",
      "metadata": {
        "id": "W7Vu43XO5P8I"
      },
      "source": [
        "Write a function to iterate through consecutive pairs of elements, and swap the elements if out of order. (A pair is considered out of order if the element with lower index has higher value.)"
      ]
    },
    {
      "cell_type": "markdown",
      "metadata": {
        "id": "7d07b0e6"
      },
      "source": [
        "Viết một hàm để lặp qua các cặp phần tử liên tiếp, và hoán đổi các phần tử nếu không đúng thứ tự. (Một cặp được coi là không đúng thứ tự nếu phần tử có chỉ số thấp hơn có giá trị cao hơn.)"
      ]
    },
    {
      "cell_type": "code",
      "execution_count": null,
      "metadata": {
        "id": "viQpdyUa5XSs"
      },
      "outputs": [],
      "source": [
        "def swap_out_of_order_pairs(arr):\n",
        "  \"\"\"Iterate through consecutive pairs and swap them if out of order.\"\"\"\n",
        "  # TODO(you): Implement\n",
        "  for j in range(len(arr)-1):\n",
        "    if (arr[j] > arr[j+1]):\n",
        "      (arr[j], arr[j+1]) = (arr[j+1], arr[j])\n",
        "  return arr"
      ]
    },
    {
      "cell_type": "markdown",
      "metadata": {
        "id": "OfEhNPfv7Kyf"
      },
      "source": [
        "### Hint (Gợi ý)"
      ]
    },
    {
      "cell_type": "markdown",
      "metadata": {
        "id": "TzdJy-607LwA"
      },
      "source": [
        "You can swap the *i*<sup>th</sup> and *j*<sup>th</sup> element of an array `arr` with the following code.\n",
        "\n",
        "```\n",
        "arr[i], arr[j] = arr[j], arr[i]\n",
        "```"
      ]
    },
    {
      "cell_type": "markdown",
      "metadata": {
        "id": "6e7a9211"
      },
      "source": [
        "Bạn có thể hoán đổi phần tử thứ *i* và thứ *j* của một mảng `arr` bằng đoạn code sau.\n",
        "\n",
        "```\n",
        "arr[i], arr[j] = arr[j], arr[i]\n",
        "```"
      ]
    },
    {
      "cell_type": "markdown",
      "metadata": {
        "id": "1CoeaeXe5ySg"
      },
      "source": [
        "### Unit Tests (Bài kiểm tra)\n",
        "\n",
        "Run the following cell to check your answer against some unit tests."
      ]
    },
    {
      "cell_type": "markdown",
      "metadata": {
        "id": "0c303eec"
      },
      "source": [
        "Chạy Code cell sau để kiểm tra câu trả lời của bạn với một số bài kiểm tra."
      ]
    },
    {
      "cell_type": "code",
      "execution_count": null,
      "metadata": {
        "id": "dSA77j1Y50hk"
      },
      "outputs": [],
      "source": [
        "print(swap_out_of_order_pairs([2, 1, 4, 5, 2, 3, 7, 6]))\n",
        "# Should print: [1, 2, 4, 2, 3, 5, 6, 7]"
      ]
    },
    {
      "cell_type": "markdown",
      "metadata": {
        "id": "eTadZjVf6cGT"
      },
      "source": [
        "### Solution (Lời giải)"
      ]
    },
    {
      "cell_type": "code",
      "execution_count": null,
      "metadata": {
        "id": "MxDa__NO6ahI"
      },
      "outputs": [],
      "source": [
        "def swap_out_of_order_pairs(arr):\n",
        "  \"\"\"Iterate through consecutive pairs and swap them if out of order.\"\"\"\n",
        "  for i in range(len(arr) - 1):\n",
        "    if arr[i] > arr[i + 1]:\n",
        "      arr[i], arr[i + 1] = arr[i + 1], arr[i]\n",
        "\n",
        "  return arr"
      ]
    },
    {
      "cell_type": "markdown",
      "metadata": {
        "id": "ispJTMEwmgCx"
      },
      "source": [
        "# Selection Sort (Sắp xếp chọn)"
      ]
    },
    {
      "cell_type": "markdown",
      "metadata": {
        "id": "7TExXjw-mgCx"
      },
      "source": [
        "## Lesson Overview (Tổng quan bài học)"
      ]
    },
    {
      "cell_type": "markdown",
      "metadata": {
        "id": "539QAzp3mgCx"
      },
      "source": [
        "**Selection sort** is a simple sorting algorithm that works by repeatedly moving the minimum element from the input (unsorted) array into the output (sorted) array."
      ]
    },
    {
      "cell_type": "markdown",
      "metadata": {
        "id": "04826675"
      },
      "source": [
        "**Selection sort** (Sắp xếp chọn) là một thuật toán sắp xếp đơn giản hoạt động bằng cách liên tục di chuyển phần tử nhỏ nhất từ mảng đầu vào (chưa sắp xếp) vào mảng đầu ra (đã sắp xếp)."
      ]
    },
    {
      "cell_type": "markdown",
      "metadata": {
        "id": "py1__7PbmgCy"
      },
      "source": [
        "> The average case time complexity of selection sort is $O(n^2)$."
      ]
    },
    {
      "cell_type": "markdown",
      "metadata": {
        "id": "e5b529cf"
      },
      "source": [
        "> Độ phức tạp thời gian trung bình của selection sort là $O(n^2)$."
      ]
    },
    {
      "cell_type": "markdown",
      "metadata": {
        "id": "F6P03nlImgCy"
      },
      "source": [
        "### Algorithm (Thuật toán)"
      ]
    },
    {
      "cell_type": "markdown",
      "metadata": {
        "id": "jlCm2nvLmgCy"
      },
      "source": [
        "An implemention of the selection sort algorithm is outlined here."
      ]
    },
    {
      "cell_type": "markdown",
      "metadata": {
        "id": "15a826d9"
      },
      "source": [
        "Một cách thực hiện thuật toán selection sort được trình bày ở đây."
      ]
    },
    {
      "cell_type": "code",
      "execution_count": null,
      "metadata": {
        "id": "P3xM0HgFmgCz"
      },
      "outputs": [],
      "source": []
    },
    {
      "cell_type": "markdown",
      "metadata": {
        "id": "yLKoqLltmgCz"
      },
      "source": [
        "0. **Initialize** an output array that will eventually contain all of the elements of the input array, sorted.\n",
        "\n",
        "1. **Select** the minimum element of the input array and move it the end of the output array. (Ensure to remove the selected element from the input array.)\n",
        "\n",
        "2. **Repeat** the selection step until the input array is empty.\n",
        "\n",
        "Selection sort can be implemented either in-place or out-of-place. Selection sort may appear like an out-of-place sorting algorithm since it creates a new output array. However, it does not *copy* the input array, it *moves* elements from the input array to the output array. Selection sort therefore does not create any *new* storage, so is $O(1)$."
      ]
    },
    {
      "cell_type": "markdown",
      "metadata": {
        "id": "fd9506f0"
      },
      "source": [
        "0. **Khởi tạo** một mảng đầu ra cuối cùng sẽ chứa tất cả các phần tử của mảng đầu vào, đã được sắp xếp.\n",
        "\n",
        "1. **Chọn** phần tử nhỏ nhất của mảng đầu vào và di chuyển nó vào cuối mảng đầu ra. (Đảm bảo xóa phần tử đã chọn khỏi mảng đầu vào.)\n",
        "\n",
        "2. **Lặp lại** bước lựa chọn cho đến khi mảng đầu vào trống.\n",
        "\n",
        "Selection sort có thể được thực hiện tại chỗ hoặc ngoài chỗ. Selection sort có thể trông giống như một thuật toán sắp xếp ngoài chỗ vì nó tạo ra một mảng đầu ra mới. Tuy nhiên, nó không *sao chép* mảng đầu vào, nó *di chuyển* các phần tử từ mảng đầu vào sang mảng đầu ra. Do đó, selection sort không tạo ra bất kỳ vùng lưu trữ *mới* nào, vì vậy độ phức tạp không gian là $O(1)$."
      ]
    },
    {
      "cell_type": "markdown",
      "metadata": {
        "id": "XfUTT2l8mgCz"
      },
      "source": [
        "**Example** (Ví dụ)"
      ]
    },
    {
      "cell_type": "markdown",
      "metadata": {
        "id": "-pj3fyakmgCz"
      },
      "source": [
        "The following table demonstrates sorting the array [2, 1, 4, 5] using selection sort.\n",
        "\n"
      ]
    },
    {
      "cell_type": "markdown",
      "metadata": {
        "id": "795e1718"
      },
      "source": [
        "Bảng sau đây minh họa việc sắp xếp mảng [2, 1, 4, 5] bằng selection sort."
      ]
    },
    {
      "cell_type": "markdown",
      "metadata": {
        "id": "nexO7VklmgCz"
      },
      "source": [
        "**Iteration** | **Input array** | **Output array**\n",
        "--- | --- | ---\n",
        "0 | [2, 1, 4, 5] | []\n",
        "1 | [2, 4, 5] | [1]\n",
        "2 | [4, 5] | [1, 2]\n",
        "3 | [5] | [1, 2, 4]\n",
        "4 | [] | [1, 2, 4, 5]"
      ]
    },
    {
      "cell_type": "markdown",
      "metadata": {
        "id": "e8bf78de"
      },
      "source": [
        "**Vòng lặp** | **Mảng đầu vào** | **Mảng đầu ra**\n",
        "--- | --- | ---\n",
        "0 | [2, 1, 4, 5] | []\n",
        "1 | [2, 4, 5] | [1]\n",
        "2 | [4, 5] | [1, 2]\n",
        "3 | [5] | [1, 2, 4]\n",
        "4 | [] | [1, 2, 4, 5]"
      ]
    },
    {
      "cell_type": "markdown",
      "metadata": {
        "id": "Ct81eVo2mgC0"
      },
      "source": [
        "## Question (Câu hỏi)"
      ]
    },
    {
      "cell_type": "markdown",
      "metadata": {
        "id": "v58v54swmgC0"
      },
      "source": [
        "An important step in the selection sort algorithm is finding the index of the minimum element of the array. Write this `minimum_index` function.\n",
        "\n",
        "If there is more than one minimum element, return the lowest index. For example, `minimum_index([2, 3, 1, 4, 1])` should return `2`, since 1, the lowest element, appears at indices 2 and 4."
      ]
    },
    {
      "cell_type": "markdown",
      "metadata": {
        "id": "c7060a27"
      },
      "source": [
        "Một bước quan trọng trong thuật toán selection sort là tìm chỉ số của phần tử nhỏ nhất trong mảng. Hãy viết hàm `minimum_index` này.\n",
        "\n",
        "Nếu có nhiều hơn một phần tử nhỏ nhất, hãy trả về chỉ số thấp nhất. Ví dụ, `minimum_index([2, 3, 1, 4, 1])` nên trả về `2`, vì 1, phần tử nhỏ nhất, xuất hiện tại các chỉ số 2 và 4."
      ]
    },
    {
      "cell_type": "code",
      "execution_count": null,
      "metadata": {
        "id": "gZ0LiwXymgC0"
      },
      "outputs": [],
      "source": [
        "def minimum_index(arr):\n",
        "  \"\"\"Returns the index of the minimum value within a numerical array.\"\"\"\n",
        "  # TODO(you): Implement\n",
        "  ret = -1\n",
        "  for i in range(len(arr)):\n",
        "    if (ret == -1 or arr[ret] > arr[i]):\n",
        "      ret = i"
      ]
    },
    {
      "cell_type": "markdown",
      "metadata": {
        "id": "hR3uW28TmgC1"
      },
      "source": [
        "### Hint (Gợi ý)"
      ]
    },
    {
      "cell_type": "markdown",
      "metadata": {
        "id": "FKXH6FR7mgC1"
      },
      "source": [
        "Use the following code scaffolding."
      ]
    },
    {
      "cell_type": "markdown",
      "metadata": {
        "id": "4117de11"
      },
      "source": [
        "Sử dụng khung code sau đây."
      ]
    },
    {
      "cell_type": "code",
      "execution_count": null,
      "metadata": {
        "id": "tHBznXwDmgC1"
      },
      "outputs": [],
      "source": [
        "def minimum_index(arr):\n",
        "  \"\"\"Returns the index of the minimum value within a numerical array.\"\"\"\n",
        "  # Initialize the minimum index.\n",
        "  min_index = -1\n",
        "  # Initialize the minimum value. Infinity is the standard initialization for\n",
        "  # such functions, since every integer is less than infinity.\n",
        "  min_value = float(\"Inf\")\n",
        "\n",
        "  # Iterate through the input array list.\n",
        "  for i in range(len(arr)):\n",
        "    # Reset min_index and min_value if you find a value lower than min_value.\n",
        "    # TODO(you): Complete\n",
        "    if (min_index == -1 or arr[min_index] > arr[i]):\n",
        "      min_index = i\n",
        "\n",
        "  return min_index"
      ]
    },
    {
      "cell_type": "markdown",
      "metadata": {
        "id": "FnqdSKhXmgC1"
      },
      "source": [
        "### Unit Tests (Bài kiểm tra)\n",
        "\n",
        "Run the following cell to check your answer against some unit tests."
      ]
    },
    {
      "cell_type": "markdown",
      "metadata": {
        "id": "15bd4e4b"
      },
      "source": [
        "Chạy Code cell sau để kiểm tra câu trả lời của bạn với một số bài kiểm tra."
      ]
    },
    {
      "cell_type": "code",
      "execution_count": null,
      "metadata": {
        "id": "oElrtNznmgC2"
      },
      "outputs": [],
      "source": [
        "print(minimum_index([2, 3, 1, 4, 5]))\n",
        "# Should print: 2\n",
        "print(minimum_index([2, 3, 1, 4, 1]))\n",
        "# Should print: 2"
      ]
    },
    {
      "cell_type": "markdown",
      "metadata": {
        "id": "6O0LBSX5mgC2"
      },
      "source": [
        "### Solution (Lời giải)"
      ]
    },
    {
      "cell_type": "code",
      "execution_count": null,
      "metadata": {
        "id": "YdVk0hxemgC2"
      },
      "outputs": [],
      "source": [
        "def minimum_index(arr):\n",
        "  \"\"\"Returns the index of the minimum value within a numerical array.\"\"\"\n",
        "  # Initialize the minimum index.\n",
        "  min_index = -1\n",
        "  # Initialize the minimum value. Infinity is the standard initialization for\n",
        "  # such functions, since every integer is less than infinity.\n",
        "  min_value = float(\"Inf\")\n",
        "\n",
        "  # Iterate through the input array list.\n",
        "  for i in range(len(arr)):\n",
        "    # Reset min_index and min_value if you find a value lower than min_value.\n",
        "    if arr[i] < min_value:\n",
        "      min_index = i\n",
        "      min_value = arr[i]\n",
        "\n",
        "  return min_index"
      ]
    },
    {
      "cell_type": "markdown",
      "metadata": {
        "id": "cgNaQ_YomgC2"
      },
      "source": [
        "## Question (Câu hỏi)"
      ]
    },
    {
      "cell_type": "markdown",
      "metadata": {
        "id": "Ue0KmPbimgC2"
      },
      "source": [
        "What is the best, worst, and average case time complexity of `minimum_index`?"
      ]
    },
    {
      "cell_type": "markdown",
      "metadata": {
        "id": "30f41ccf"
      },
      "source": [
        "Độ phức tạp thời gian trường hợp tốt nhất, xấu nhất và trung bình của `minimum_index` là gì?"
      ]
    },
    {
      "cell_type": "code",
      "execution_count": null,
      "metadata": {
        "id": "wzH3EyGOmgC3"
      },
      "outputs": [],
      "source": [
        "#freetext"
      ]
    },
    {
      "cell_type": "markdown",
      "metadata": {
        "id": "jZdtM4wUmgC3"
      },
      "source": [
        "### Solution (Lời giải)"
      ]
    },
    {
      "cell_type": "markdown",
      "metadata": {
        "id": "OMMsF4jcmgC3"
      },
      "source": [
        "All of the single-line operations in `minimum_index` are $O(1)$. Therefore the time complexity of `minimum_index` is the number of iterations of the `for` loop. In all cases, the loop iterates over all $n$ elements of `arr`, so time complexity is $O(n)$ in the best, worst, and average case."
      ]
    },
    {
      "cell_type": "markdown",
      "metadata": {
        "id": "7961f44b"
      },
      "source": [
        "Tất cả các phép toán đơn dòng trong `minimum_index` đều là $O(1)$. Do đó, độ phức tạp thời gian của `minimum_index` là số lần lặp lại của vòng lặp `for`. Trong mọi trường hợp, vòng lặp lặp qua tất cả $n$ phần tử của `arr`, vì vậy độ phức tạp thời gian là $O(n)$ trong trường hợp tốt nhất, xấu nhất và trung bình."
      ]
    },
    {
      "cell_type": "markdown",
      "metadata": {
        "id": "eXNEl1x7mgC4"
      },
      "source": [
        "## Question (Câu hỏi)"
      ]
    },
    {
      "cell_type": "markdown",
      "metadata": {
        "id": "Vp3JqCKGmgC4"
      },
      "source": [
        "Implement `selection_sort` using the `minimum_index` function."
      ]
    },
    {
      "cell_type": "markdown",
      "metadata": {
        "id": "b4710f58"
      },
      "source": [
        "Thực hiện `selection_sort` bằng cách sử dụng hàm `minimum_index`."
      ]
    },
    {
      "cell_type": "code",
      "execution_count": null,
      "metadata": {
        "id": "-X8SAl-ImgC4"
      },
      "outputs": [],
      "source": [
        "def minimum_index(arr):\n",
        "  \"\"\"Returns the index of the minimum value within a numerical array.\"\"\"\n",
        "  # Initialize the minimum index.\n",
        "  min_index = -1\n",
        "  # Initialize the minimum value. Infinity is the standard initialization for\n",
        "  # such functions, since every integer is less than infinity.\n",
        "  min_value = float(\"Inf\")\n",
        "\n",
        "  # Iterate through the input array list.\n",
        "  for i in range(len(arr)):\n",
        "    # Reset min_index and min_value if you find a value lower than min_value.\n",
        "    if arr[i] < min_value:\n",
        "      min_index = i\n",
        "      min_value = arr[i]\n",
        "\n",
        "  return min_index"
      ]
    },
    {
      "cell_type": "code",
      "execution_count": null,
      "metadata": {
        "id": "_rUQCVY9mgC4"
      },
      "outputs": [],
      "source": [
        "def selection_sort(arr):\n",
        "  \"\"\"Sorts an array of integers in ascending order.\"\"\"\n",
        "  # TODO(you): Implement\n",
        "  ret = []\n",
        "  while (len(arr) > 0):\n",
        "    id = minimum_index(arr)\n",
        "    ret.append(arr[id])\n",
        "    arr.pop(id)\n",
        "\n",
        "  return ret\n"
      ]
    },
    {
      "cell_type": "markdown",
      "metadata": {
        "id": "PajTh_fRmgC4"
      },
      "source": [
        "### Unit Tests (Bài kiểm tra)\n",
        "\n",
        "Run the following cell to check your answer against some unit tests."
      ]
    },
    {
      "cell_type": "markdown",
      "metadata": {
        "id": "867715f0"
      },
      "source": [
        "Chạy Code cell sau để kiểm tra câu trả lời của bạn với một số bài kiểm tra."
      ]
    },
    {
      "cell_type": "code",
      "execution_count": null,
      "metadata": {
        "id": "7Hg-bKk7mgC5"
      },
      "outputs": [],
      "source": [
        "print(selection_sort([2, 1, 4, 5, 2, 3, 7, 6]))\n",
        "# Should print: [1, 2, 2, 3, 4, 5, 6, 7]"
      ]
    },
    {
      "cell_type": "markdown",
      "metadata": {
        "id": "qMHtXQkCmgC5"
      },
      "source": [
        "### Solution (Lời giải)"
      ]
    },
    {
      "cell_type": "markdown",
      "metadata": {
        "id": "7HMtDbiGmgC5"
      },
      "source": [
        "This is by no means the only possible implementation. If your solution works and has the same time complexity, then it is completely valid!"
      ]
    },
    {
      "cell_type": "markdown",
      "metadata": {
        "id": "df2780b4"
      },
      "source": [
        "Đây không phải là cách thực hiện duy nhất có thể. Nếu giải pháp của bạn hoạt động và có cùng độ phức tạp thời gian, thì nó hoàn toàn hợp lệ!"
      ]
    },
    {
      "cell_type": "code",
      "execution_count": null,
      "metadata": {
        "id": "2a-h0COnmgC5"
      },
      "outputs": [],
      "source": [
        "def selection_sort(arr):\n",
        "  \"\"\"Sorts an array of integers in ascending order.\"\"\"\n",
        "  output = []\n",
        "\n",
        "  while len(arr) > 0:\n",
        "    # Find the index of the minimum value within the input array.\n",
        "    min_index = minimum_index(arr)\n",
        "    # Remove the minimum value from the input array.\n",
        "    min_value = arr.pop(min_index)\n",
        "    # Add the minimum value to the output array.\n",
        "    output.append(min_value)\n",
        "\n",
        "  return output"
      ]
    },
    {
      "cell_type": "markdown",
      "metadata": {
        "id": "y73MJZbGmgC6"
      },
      "source": [
        "## Question (Câu hỏi)"
      ]
    },
    {
      "cell_type": "markdown",
      "metadata": {
        "id": "QSfcWJUBmgC6"
      },
      "source": [
        "What is the best and worst case time complexity of selection sort?"
      ]
    },
    {
      "cell_type": "markdown",
      "metadata": {
        "id": "60d5c3bb"
      },
      "source": [
        "Độ phức tạp thời gian trường hợp tốt nhất và xấu nhất của selection sort là gì?"
      ]
    },
    {
      "cell_type": "code",
      "execution_count": null,
      "metadata": {
        "id": "kGkyCPWqmgC6"
      },
      "outputs": [],
      "source": [
        "#freetext"
      ]
    },
    {
      "cell_type": "markdown",
      "metadata": {
        "id": "OmpMzvu_mgC6"
      },
      "source": [
        "### Hint (Gợi ý)"
      ]
    },
    {
      "cell_type": "markdown",
      "metadata": {
        "id": "4_qDZA3KmgC6"
      },
      "source": [
        "Remember that `minimum_index` is $O(n)$. How many iterations does `selection_sort` have in the worst case?"
      ]
    },
    {
      "cell_type": "markdown",
      "metadata": {
        "id": "6d2047f6"
      },
      "source": [
        "Hãy nhớ rằng `minimum_index` là $O(n)$. `selection_sort` có bao nhiêu lần lặp lại trong trường hợp xấu nhất?"
      ]
    },
    {
      "cell_type": "markdown",
      "metadata": {
        "id": "zbuae-thmgC7"
      },
      "source": [
        "### Solution (Lời giải)"
      ]
    },
    {
      "cell_type": "markdown",
      "metadata": {
        "id": "ZpNHYuy-mgC7"
      },
      "source": [
        "Unlike bubble sort, every step of selection sort must be performed regardless of what the input is. For example, even if the input array is already sorted, selection sort still repeatedly selects and moves the minimum of the input array to the output array. This indicates that the best and worst case time complexities should be the same."
      ]
    },
    {
      "cell_type": "markdown",
      "metadata": {
        "id": "e3b10ce9"
      },
      "source": [
        "Khác với bubble sort, mọi bước của selection sort phải được thực hiện bất kể đầu vào là gì. Ví dụ, ngay cả khi mảng đầu vào đã được sắp xếp, selection sort vẫn liên tục chọn và di chuyển phần tử nhỏ nhất của mảng đầu vào sang mảng đầu ra. Điều này cho thấy rằng độ phức tạp thời gian trường hợp tốt nhất và xấu nhất phải giống nhau."
      ]
    },
    {
      "cell_type": "markdown",
      "metadata": {
        "id": "rcGTL7gkmgC7"
      },
      "source": [
        "There are only two lines in `selection_sort` that contribute to the time complexity. All other lines are $O(1)$.\n",
        "\n",
        "```python\n",
        "while len(arr) > 0:\n",
        "  min_index = minimum_index(arr)\n",
        "```\n",
        "\n",
        "The `while` loop has $n$ iterations, since the initial length of `arr` is $n$ and at each iteration 1 element is popped out. This is true in the best *and* the worst case. As per a previous question and the hint, `minimum_index` is $O(n)$. Therefore, since `selection_sort` contains $n$ calls of an $O(n)$ function, the best and worst case time complexity is $O(n^2)$."
      ]
    },
    {
      "cell_type": "markdown",
      "metadata": {
        "id": "85163b98"
      },
      "source": [
        "Chỉ có hai dòng trong `selection_sort` góp phần vào độ phức tạp thời gian. Tất cả các dòng khác đều là $O(1)$.\n",
        "\n",
        "```python\n",
        "while len(arr) > 0:\n",
        "  min_index = minimum_index(arr)\n",
        "```\n",
        "\n",
        "Vòng lặp `while` có $n$ lần lặp, vì độ dài ban đầu của `arr` là $n$ và tại mỗi lần lặp, 1 phần tử được lấy ra. Điều này đúng trong cả trường hợp tốt nhất *và* trường hợp xấu nhất. Theo một câu hỏi trước đó và gợi ý, `minimum_index` là $O(n)$. Do đó, vì `selection_sort` chứa $n$ lần gọi của một hàm $O(n)$, nên độ phức tạp thời gian trong trường hợp tốt nhất và xấu nhất là $O(n^2)$."
      ]
    },
    {
      "cell_type": "markdown",
      "metadata": {
        "id": "Zh-sL3o6mgC8"
      },
      "source": [
        "## Question (Câu hỏi)"
      ]
    },
    {
      "cell_type": "markdown",
      "metadata": {
        "id": "5BlTaNvBmgC8"
      },
      "source": [
        "What is the average case time complexity of selection sort?"
      ]
    },
    {
      "cell_type": "markdown",
      "metadata": {
        "id": "4e779982"
      },
      "source": [
        "Độ phức tạp thời gian trường hợp trung bình của selection sort là gì?"
      ]
    },
    {
      "cell_type": "code",
      "execution_count": null,
      "metadata": {
        "id": "ios-7aMqmgC9"
      },
      "outputs": [],
      "source": [
        "#freetext"
      ]
    },
    {
      "cell_type": "markdown",
      "metadata": {
        "id": "tVBuMf7GmgC9"
      },
      "source": [
        "### Solution (Lời giải)"
      ]
    },
    {
      "cell_type": "markdown",
      "metadata": {
        "id": "z00yMNTQmgC9"
      },
      "source": [
        "Since the best and worst case time complexities are both $O(n^2)$, the time complexity must be $O(n^2)$ in *all* cases. Therefore, the average case time complexity is also $O(n^2)$."
      ]
    },
    {
      "cell_type": "markdown",
      "metadata": {
        "id": "73f605f8"
      },
      "source": [
        "Vì độ phức tạp thời gian trong trường hợp tốt nhất và xấu nhất đều là $O(n^2)$, nên độ phức tạp thời gian phải là $O(n^2)$ trong *tất cả* các trường hợp. Do đó, độ phức tạp thời gian trường hợp trung bình cũng là $O(n^2)$."
      ]
    },
    {
      "cell_type": "markdown",
      "metadata": {
        "id": "ErKnCDS_mgC-"
      },
      "source": [
        "# Insertion Sort (Sắp xếp chèn)"
      ]
    },
    {
      "cell_type": "markdown",
      "metadata": {
        "id": "lCSaoIwgTHKD"
      },
      "source": [
        "## Lesson Overview (Tổng quan bài học)"
      ]
    },
    {
      "cell_type": "markdown",
      "metadata": {
        "id": "PIDBaJaBmgC-"
      },
      "source": [
        "**Insertion sort** is a sorting algorithm that repeatedly removes the first element of the input array and searches for the right place to put it in a sorted output array."
      ]
    },
    {
      "cell_type": "markdown",
      "metadata": {
        "id": "fPJLPJ7umgC-"
      },
      "source": [
        "> The average case time complexity of insertion sort is $O(n^2)$."
      ]
    },
    {
      "cell_type": "markdown",
      "metadata": {
        "id": "KpG9GNclTPvD"
      },
      "source": [
        "**Insertion sort** (Sắp xếp chèn) là một thuật toán sắp xếp đơn giản hoạt động bằng cách lặp đi lặp lại việc chèn các phần tử một cách thích hợp vào mảng đã sắp xếp."
      ]
    },
    {
      "cell_type": "markdown",
      "metadata": {
        "id": "C0fGNNtYAW5s"
      },
      "source": [
        "> Độ phức tạp thời gian trung bình của insertion sort là $O(n^2)$."
      ]
    },
    {
      "cell_type": "markdown",
      "metadata": {
        "id": "Qznmd_VUAe65"
      },
      "source": [
        "### Algorithm (Thuật toán)"
      ]
    },
    {
      "cell_type": "markdown",
      "metadata": {
        "id": "d_Tbsn6XmgC_"
      },
      "source": [
        "An example implementation of insertion sort is outlined here."
      ]
    },
    {
      "cell_type": "markdown",
      "metadata": {
        "id": "235c9b21"
      },
      "source": [
        "Một ví dụ về cách thực hiện insertion sort được trình bày ở đây."
      ]
    },
    {
      "cell_type": "markdown",
      "metadata": {
        "id": "dFpr9IpymgDA"
      },
      "source": [
        "0. **Initialize** an output array that will eventually contain all of the elements of the input array, sorted.\n",
        "\n",
        "1. **Insert** the first element of the input array to the output array, inserting it such that the output array maintains ordering. (Ensure to remove the moved element from the input array.)\n",
        "\n",
        "2. **Repeat** the insertion step until the input array is empty."
      ]
    },
    {
      "cell_type": "markdown",
      "metadata": {
        "id": "b8ea458b"
      },
      "source": [
        "0. **Khởi tạo** một mảng đầu ra cuối cùng sẽ chứa tất cả các phần tử của mảng đầu vào, đã được sắp xếp.\n",
        "\n",
        "1. **Chèn** phần tử đầu tiên của mảng đầu vào vào mảng đầu ra, chèn nó sao cho mảng đầu ra duy trì thứ tự. (Đảm bảo xóa phần tử đã di chuyển khỏi mảng đầu vào.)\n",
        "\n",
        "2. **Lặp lại** bước chèn cho đến khi mảng đầu vào trống."
      ]
    },
    {
      "cell_type": "markdown",
      "metadata": {
        "id": "VqY6E9XKLKfB"
      },
      "source": [
        "**Example** (Ví dụ)"
      ]
    },
    {
      "cell_type": "markdown",
      "metadata": {
        "id": "uLZcJgv5JB3j"
      },
      "source": [
        "The following table demonstrates sorting the array [2, 1, 4, 5] using insertion sort."
      ]
    },
    {
      "cell_type": "markdown",
      "metadata": {
        "id": "ad2620ca"
      },
      "source": [
        "Bảng sau đây minh họa việc sắp xếp mảng [2, 1, 4, 5] bằng insertion sort."
      ]
    },
    {
      "cell_type": "markdown",
      "metadata": {
        "id": "r5N6uCyNAk6L"
      },
      "source": [
        "**Iteration** | **Input array** | **Output array**\n",
        "--- | --- | ---\n",
        "0 | [2, 1, 4, 5] | []\n",
        "1 | [1, 4, 5] | [2]\n",
        "2 | [4, 5] | [1, 2]\n",
        "3 | [5] | [1, 2, 4]\n",
        "4 | [] | [1, 2, 4, 5]"
      ]
    },
    {
      "cell_type": "markdown",
      "metadata": {
        "id": "SFnDU7DlmgDB"
      },
      "source": [
        "### Space complexity (Độ phức tạp không gian)"
      ]
    },
    {
      "cell_type": "markdown",
      "metadata": {
        "id": "3OSuYfaLmgDB"
      },
      "source": [
        "Insertion sort can be implemented either in-place or out-of-place."
      ]
    },
    {
      "cell_type": "markdown",
      "metadata": {
        "id": "1cc603ff"
      },
      "source": [
        "Insertion sort có thể được thực hiện tại chỗ hoặc ngoài chỗ."
      ]
    },
    {
      "cell_type": "markdown",
      "metadata": {
        "id": "cGsH-fuymgDB"
      },
      "source": [
        "Insertion sort may appear like an out-of-place sorting algorithm since it creates a new output array. However, it does not *copy* the input array, it *moves* elements from the input array to the output array. Insertion sort therefore does not create any *new* storage, so is $O(1)$."
      ]
    },
    {
      "cell_type": "markdown",
      "metadata": {
        "id": "645a3ab1"
      },
      "source": [
        "Insertion sort có thể trông giống như một thuật toán sắp xếp ngoài chỗ vì nó tạo ra một mảng đầu ra mới. Tuy nhiên, nó không *sao chép* mảng đầu vào, nó *di chuyển* các phần tử từ mảng đầu vào sang mảng đầu ra. Do đó, insertion sort không tạo ra bất kỳ vùng lưu trữ *mới* nào, vì vậy độ phức tạp không gian là $O(1)$."
      ]
    },
    {
      "cell_type": "markdown",
      "metadata": {
        "id": "StwJZ21bmgDB"
      },
      "source": [
        "## Question (Câu hỏi)"
      ]
    },
    {
      "cell_type": "markdown",
      "metadata": {
        "id": "vlEYCZhUmgDC"
      },
      "source": [
        "Most of the heavy lifting in insertion sort comes from finding the right place to insert an element into the sorted array, so let's start there. Write a function that takes in a sorted array along with a new element, and inserts the element in the appropriate place in the array. Your function should not `return` anything, instead it should modify the input array `arr`."
      ]
    },
    {
      "cell_type": "markdown",
      "metadata": {
        "id": "f142c58f"
      },
      "source": [
        "Phần lớn công việc nặng nhọc trong insertion sort đến từ việc tìm đúng vị trí để chèn một phần tử vào mảng đã sắp xếp, vì vậy hãy bắt đầu từ đó. Viết một hàm nhận vào một mảng đã sắp xếp cùng với một phần tử mới, và chèn phần tử đó vào vị trí thích hợp trong mảng. Hàm của bạn không nên `return` bất cứ thứ gì, thay vào đó nó nên sửa đổi mảng đầu vào `arr`."
      ]
    },
    {
      "cell_type": "code",
      "execution_count": null,
      "metadata": {
        "id": "2MsfBdX4mgDC"
      },
      "outputs": [],
      "source": [
        "def insert_into_sorted_array(arr, el):\n",
        "  \"\"\"Inserts an integer el into arr, an array of sorted integers.\"\"\"\n",
        "  # TODO(you): Implement\n",
        "  for i in range(len(arr)):\n",
        "    if (arr[i] > el):\n",
        "      arr.insert(i, el)\n",
        "      return arr\n",
        "\n",
        "  arr.append(el)\n",
        "  return arr"
      ]
    },
    {
      "cell_type": "markdown",
      "metadata": {
        "id": "es9HgoaCmgDC"
      },
      "source": [
        "### Hint (Gợi ý)"
      ]
    },
    {
      "cell_type": "markdown",
      "metadata": {
        "id": "RlhCRleBmgDC"
      },
      "source": [
        "`arr.insert(el, idx)` inserts the element `el` at index `idx` of an array `arr`."
      ]
    },
    {
      "cell_type": "markdown",
      "metadata": {
        "id": "b18c8b9c"
      },
      "source": [
        "`arr.insert(el, idx)` chèn phần tử `el` vào chỉ số `idx` của một mảng `arr`."
      ]
    },
    {
      "cell_type": "markdown",
      "metadata": {
        "id": "AzCm7u28mgDD"
      },
      "source": [
        "### Unit Tests (Bài kiểm tra)\n",
        "\n",
        "Run the following cell to check your answer against some unit tests."
      ]
    },
    {
      "cell_type": "markdown",
      "metadata": {
        "id": "f145020c"
      },
      "source": [
        "Chạy Code cell sau để kiểm tra câu trả lời của bạn với một số bài kiểm tra."
      ]
    },
    {
      "cell_type": "code",
      "execution_count": null,
      "metadata": {
        "id": "ipCJpxpumgDD"
      },
      "outputs": [],
      "source": [
        "arr = []\n",
        "\n",
        "insert_into_sorted_array(arr, 4)\n",
        "print(arr) # Should print: [4]\n",
        "\n",
        "insert_into_sorted_array(arr, 2)\n",
        "print(arr) # Should print: [2, 4]\n",
        "\n",
        "insert_into_sorted_array(arr, 2)\n",
        "print(arr) # Should print: [2, 2, 4]\n",
        "\n",
        "insert_into_sorted_array(arr, 1)\n",
        "print(arr) # Should print: [1, 2, 2, 4]"
      ]
    },
    {
      "cell_type": "markdown",
      "metadata": {
        "id": "OeasV2C5mgDD"
      },
      "source": [
        "### Solution (Lời giải)"
      ]
    },
    {
      "cell_type": "code",
      "execution_count": null,
      "metadata": {
        "id": "fGA0wnY5mgDD"
      },
      "outputs": [],
      "source": [
        "def insert_into_sorted_array(arr, el):\n",
        "  \"\"\"Inserts an integer el into arr, an array of sorted integers.\"\"\"\n",
        "\n",
        "  # Iterate through arr and insert el at the first position whose value is\n",
        "  # greater than or equal to el. If a value, exit the function.\n",
        "  for i in range(len(arr)):\n",
        "    if el <= arr[i]:\n",
        "      arr.insert(i, el)\n",
        "      return\n",
        "\n",
        "  # If no element was found in arr whose value is greater than or equal to el,\n",
        "  # insert el at the end of arr.\n",
        "  arr.append(el)"
      ]
    },
    {
      "cell_type": "markdown",
      "metadata": {
        "id": "ufg2VbIAmgDE"
      },
      "source": [
        "## Question (Câu hỏi)"
      ]
    },
    {
      "cell_type": "markdown",
      "metadata": {
        "id": "Q7Gs-UdPmgDE"
      },
      "source": [
        "What is the big-O time complexity of `insert_into_sorted_array` in the best, average, and worst case?"
      ]
    },
    {
      "cell_type": "markdown",
      "metadata": {
        "id": "6838b739"
      },
      "source": [
        "Độ phức tạp thời gian big-O của `insert_into_sorted_array` trong trường hợp tốt nhất, trung bình và xấu nhất là gì?"
      ]
    },
    {
      "cell_type": "code",
      "execution_count": null,
      "metadata": {
        "id": "kgfnPoAymgDE"
      },
      "outputs": [],
      "source": [
        "def insert_into_sorted_array(arr, el):\n",
        "  \"\"\"Inserts an integer el into arr, an array of sorted integers.\"\"\"\n",
        "\n",
        "  # Iterate through arr and insert el at the first position whose value is\n",
        "  # greater than or equal to el. If a value, exit the function.\n",
        "  for i in range(len(arr)):\n",
        "    if el <= arr[i]:\n",
        "      arr.insert(i, el)\n",
        "      return\n",
        "\n",
        "  # If no element was found in arr whose value is greater than or equal to el,\n",
        "  # insert el at the end of arr.\n",
        "  arr.append(el)"
      ]
    },
    {
      "cell_type": "code",
      "execution_count": null,
      "metadata": {
        "id": "0qb0PjeemgDE"
      },
      "outputs": [],
      "source": [
        "#freetext"
      ]
    },
    {
      "cell_type": "markdown",
      "metadata": {
        "id": "Oox04xhkmgDE"
      },
      "source": [
        "### Solution (Lời giải)"
      ]
    },
    {
      "cell_type": "markdown",
      "metadata": {
        "id": "XXsCBCqlmgDF"
      },
      "source": [
        "All of the operations in the function are $O(1)$, so the complexity is the number of iterations before `return` is called. Let $n$ be the length of the input array.\n",
        "\n",
        "In the trivial case, `len(arr) == 0`, and the function does not requires 0 iterations, so is $O(1)$.\n",
        "\n",
        "In the best non-trivial case, the element being added is less than the first element of the sorted array, so `el <= arr[0]`. This case requires only 1 iteration, so is $O(1)$.\n",
        "\n",
        "In the worst case, the element being added is greater than the maximum element of the sorted array, so `el > arr[i]` for all `i`. This case requires $n$ iterations *plus* the final append, which is equivalent to $n+1$ iterations, which is $O(n)$.\n",
        "\n",
        "Remember that the average case complexity is the mean complexity averaged over all possible insertion indices. If `el` is inserted at index 0, it requires 1 iteration. If `el` is inserted at index 1, it requires 2 iterations. If `el` is inserted at index 3, it requires 3 iterations, and so on. If `el` is inserted at position $n-1$, it requires $n$ iterations. If `el` is appended to the end of the array, it effectively requires $n+1$ iterations. This is equivalent to taking the mean of the integers between 1 and $n+1$. We have\n",
        "\n",
        "\\begin{align*}\n",
        "\\frac{1}{n+1} \\sum\\limits_{i=1}^{n+1} i &= \\frac{1}{n+1} \\frac{(n+2)(n+1)}{2} \\\\\n",
        "&= \\frac{n+2}{2} \\\\\n",
        "&= \\frac{1}{2} n + 1 \\\\\n",
        "&= O(n), \\\\\n",
        "\\end{align*}\n",
        "\n",
        "where the first equality comes from the [formula for an arithmetic sum](https://en.wikipedia.org/wiki/1_%2B_2_%2B_3_%2B_4_%2B_%E2%8B%AF).\n",
        "\n",
        "Therefore, the average case complexity, like the worst case, is $O(n)$, while the best case is $O(1)$. For this function, the average case number of iterations, $\\frac{n+2}{2}$, is equal to half way between the best case number of iterations, 1, and the worst case number of iterations, $n+1$."
      ]
    },
    {
      "cell_type": "markdown",
      "metadata": {
        "id": "c42e5f8c"
      },
      "source": [
        "Tất cả các phép toán trong hàm đều là $O(1)$, vì vậy độ phức tạp là số lần lặp lại trước khi `return` được gọi. Giả sử $n$ là độ dài của mảng đầu vào.\n",
        "\n",
        "Trong trường hợp đơn giản, `len(arr) == 0`, và hàm không yêu cầu lặp lại, vì vậy là $O(1)$.\n",
        "\n",
        "Trong trường hợp tốt nhất không đơn giản, phần tử được thêm vào nhỏ hơn phần tử đầu tiên của mảng đã sắp xếp, vì vậy `el <= arr[0]`. Trường hợp này chỉ cần 1 lần lặp, vì vậy là $O(1)$.\n",
        "\n",
        "Trong trường hợp xấu nhất, phần tử được thêm vào lớn hơn phần tử lớn nhất của mảng đã sắp xếp, vì vậy `el > arr[i]` cho tất cả `i`. Trường hợp này đòi hỏi $n$ lần lặp lại *cộng với* lệnh append cuối cùng, tương đương với $n+1$ lần lặp lại, tức là $O(n)$.\n",
        "\n",
        "Hãy nhớ rằng độ phức tạp trường hợp trung bình là độ phức tạp trung bình trên tất cả các chỉ số chèn có thể. Nếu `el` được chèn vào chỉ số 0, nó cần 1 lần lặp. Nếu `el` được chèn vào chỉ số 1, nó cần 2 lần lặp. Nếu `el` được chèn vào chỉ số 3, nó cần 3 lần lặp, và cứ tiếp tục như vậy. Nếu `el` được chèn vào vị trí $n-1$, nó cần $n$ lần lặp. Nếu `el` được thêm vào cuối mảng, nó hiệu quả đòi hỏi $n+1$ lần lặp. Điều này tương đương với việc lấy trung bình của các số nguyên từ 1 đến $n+1$. Chúng mình có\n",
        "\n",
        "\\begin{align*}\n",
        "\\frac{1}{n+1} \\sum\\limits_{i=1}^{n+1} i &= \\frac{1}{n+1} \\frac{(n+2)(n+1)}{2} \\\\\n",
        "&= \\frac{n+2}{2} \\\\\n",
        "&= \\frac{1}{2} n + 1 \\\\\n",
        "&= O(n), \\\\\n",
        "\\end{align*}\n",
        "\n",
        "trong đó đẳng thức đầu tiên đến từ [công thức cho tổng số học](https://en.wikipedia.org/wiki/1_%2B_2_%2B_3_%2B_4_%2B_%E2%8B%AF).\n",
        "\n",
        "Do đó, độ phức tạp trường hợp trung bình, giống như trường hợp xấu nhất, là $O(n)$, trong khi trường hợp tốt nhất là $O(1)$. Đối với hàm này, số lần lặp lại trung bình, $\\frac{n+2}{2}$, bằng nửa chặng đường giữa số lần lặp lại trường hợp tốt nhất, 1, và số lần lặp lại trường hợp xấu nhất, $n+1$."
      ]
    },
    {
      "cell_type": "markdown",
      "metadata": {
        "id": "_zDkWIFRmgDF"
      },
      "source": [
        "## Question (Câu hỏi)"
      ]
    },
    {
      "cell_type": "markdown",
      "metadata": {
        "id": "Qkya-JJSmgDF"
      },
      "source": [
        "Use `insert_into_sorted_array` to implement insertion sort."
      ]
    },
    {
      "cell_type": "markdown",
      "metadata": {
        "id": "03091322"
      },
      "source": [
        "Sử dụng `insert_into_sorted_array` để thực hiện insertion sort."
      ]
    },
    {
      "cell_type": "code",
      "execution_count": null,
      "metadata": {
        "id": "by3aedXkmgDF"
      },
      "outputs": [],
      "source": [
        "#persistent\n",
        "def insert_into_sorted_array(arr, el):\n",
        "  \"\"\"Inserts an integer el into arr, an array of sorted integers.\"\"\"\n",
        "\n",
        "  # Iterate through arr and insert el at the first position whose value is\n",
        "  # greater than or equal to el. If a value, exit the function.\n",
        "  for i in range(len(arr)):\n",
        "    if el <= arr[i]:\n",
        "      arr.insert(i, el)\n",
        "      return\n",
        "\n",
        "  # If no element was found in arr whose value is greater than or equal to el,\n",
        "  # insert el at the end of arr.\n",
        "  arr.append(el)"
      ]
    },
    {
      "cell_type": "code",
      "execution_count": null,
      "metadata": {
        "id": "iYauU4WamgDF"
      },
      "outputs": [],
      "source": [
        "def insertion_sort(arr):\n",
        "  \"\"\"Sorts an array of integers in ascending order.\"\"\"\n",
        "  # TODO(you): Implement\n",
        "  ret = []\n",
        "  while (len(arr) > 0):\n",
        "    insert_into_sorted_array(ret, arr.pop())\n",
        "\n",
        "  return ret"
      ]
    },
    {
      "cell_type": "markdown",
      "metadata": {
        "id": "FcVdtnlNmgDG"
      },
      "source": [
        "### Hint (Gợi ý)"
      ]
    },
    {
      "cell_type": "markdown",
      "metadata": {
        "id": "_TMuSUM1mgDG"
      },
      "source": [
        "Use the `pop` method to repeatedly remove the first element of the input array into the output array. Call `insert_into_sorted_array` to add the popped element to the output array such that the output array maintains order."
      ]
    },
    {
      "cell_type": "markdown",
      "metadata": {
        "id": "c794e69e"
      },
      "source": [
        "Sử dụng phương thức `pop` để liên tục xóa phần tử đầu tiên của mảng đầu vào vào mảng đầu ra. Gọi `insert_into_sorted_array` để thêm phần tử đã pop vào mảng đầu ra sao cho mảng đầu ra duy trì thứ tự."
      ]
    },
    {
      "cell_type": "markdown",
      "metadata": {
        "id": "bO37zdh6mgDG"
      },
      "source": [
        "### Unit Tests (Bài kiểm tra)\n",
        "\n",
        "Run the following cell to check your answer against some unit tests."
      ]
    },
    {
      "cell_type": "markdown",
      "metadata": {
        "id": "2f6b2200"
      },
      "source": [
        "Chạy Code cell sau để kiểm tra câu trả lời của bạn với một số bài kiểm tra."
      ]
    },
    {
      "cell_type": "code",
      "execution_count": null,
      "metadata": {
        "id": "XolSMWlgmgDG"
      },
      "outputs": [],
      "source": [
        "print(insertion_sort([2, 1, 4, 5, 2, 3, 7, 6]))\n",
        "# Should print: [1, 2, 2, 3, 4, 5, 6, 7]"
      ]
    },
    {
      "cell_type": "markdown",
      "metadata": {
        "id": "ZMza1U61mgDH"
      },
      "source": [
        "### Solution (Lời giải)"
      ]
    },
    {
      "cell_type": "markdown",
      "metadata": {
        "id": "6L3VcdHvmgDH"
      },
      "source": [
        "Insertion sort loops through each element in the input array and inserts it into the output array by repeatedly calling `insert_into_sorted_array`."
      ]
    },
    {
      "cell_type": "markdown",
      "metadata": {
        "id": "e37aaf6d"
      },
      "source": [
        "Insertion sort lặp qua từng phần tử trong mảng đầu vào và chèn nó vào mảng đầu ra bằng cách liên tục gọi `insert_into_sorted_array`."
      ]
    },
    {
      "cell_type": "code",
      "execution_count": null,
      "metadata": {
        "id": "ijvXK-A7mgDH"
      },
      "outputs": [],
      "source": [
        "def insertion_sort(arr):\n",
        "  \"\"\"Sorts an array of integers in ascending order.\"\"\"\n",
        "  output = []\n",
        "\n",
        "  while len(arr) > 0:\n",
        "    i = arr.pop(0)\n",
        "    insert_into_sorted_array(output, i)\n",
        "\n",
        "  return output"
      ]
    },
    {
      "cell_type": "markdown",
      "metadata": {
        "id": "5_5K-S0omgDH"
      },
      "source": [
        "## Question (Câu hỏi)"
      ]
    },
    {
      "cell_type": "markdown",
      "metadata": {
        "id": "mscQa9KomgDH"
      },
      "source": [
        "What is the big-O time complexity of `insertion_sort`, in the best, average, and worst case?"
      ]
    },
    {
      "cell_type": "markdown",
      "metadata": {
        "id": "83202643"
      },
      "source": [
        "Độ phức tạp thời gian big-O của `insertion_sort`, trong trường hợp tốt nhất, trung bình và xấu nhất là gì?"
      ]
    },
    {
      "cell_type": "markdown",
      "metadata": {
        "id": "5-Ee-6qjmgDH"
      },
      "source": [
        "Remember that `insert_into_sorted_array` is $O(n)$ in the worst and average case, and $O(1)$ in the best case."
      ]
    },
    {
      "cell_type": "markdown",
      "metadata": {
        "id": "ca544d89"
      },
      "source": [
        "Hãy nhớ rằng `insert_into_sorted_array` là $O(n)$ trong trường hợp xấu nhất và trung bình, và $O(1)$ trong trường hợp tốt nhất."
      ]
    },
    {
      "cell_type": "code",
      "execution_count": null,
      "metadata": {
        "id": "n96QXKtImgDI"
      },
      "outputs": [],
      "source": [
        "def insertion_sort(arr):\n",
        "  \"\"\"Sorts an array of integers in ascending order.\"\"\"\n",
        "  output = []\n",
        "\n",
        "  while len(arr) > 0:\n",
        "    i = arr.pop(0)\n",
        "    insert_into_sorted_array(output, i)\n",
        "\n",
        "  return output"
      ]
    },
    {
      "cell_type": "code",
      "execution_count": null,
      "metadata": {
        "id": "0YzUZDXOmgDI"
      },
      "outputs": [],
      "source": [
        "#freetext"
      ]
    },
    {
      "cell_type": "markdown",
      "metadata": {
        "id": "QBpV8LcemgDI"
      },
      "source": [
        "### Solution (Lời giải)"
      ]
    },
    {
      "cell_type": "markdown",
      "metadata": {
        "id": "w44_GWkimgDI"
      },
      "source": [
        "As per a previous question and the hint, `insert_into_sorted_array` is $O(n)$ in the average and worst case, and $O(1)$ in the best case. The implementation of `insertion_sort` is essentially $n$ calls of `insert_into_sorted_array`. Therefore, `insertion_sort` is $O(n)$ in the best case, and $O(n^2)$ in the average and worst case."
      ]
    },
    {
      "cell_type": "markdown",
      "metadata": {
        "id": "86dfd22d"
      },
      "source": [
        "Theo một câu hỏi trước đó và gợi ý, `insert_into_sorted_array` là $O(n)$ trong trường hợp trung bình và xấu nhất, và $O(1)$ trong trường hợp tốt nhất. Cách thực hiện của `insertion_sort` về cơ bản là $n$ lần gọi `insert_into_sorted_array`. Do đó, `insertion_sort` là $O(n)$ trong trường hợp tốt nhất, và $O(n^2)$ trong trường hợp trung bình và xấu nhất."
      ]
    },
    {
      "cell_type": "markdown",
      "metadata": {
        "id": "UkhYRTszmgDI"
      },
      "source": [
        "# Merge Sort (Sắp xếp trộn)"
      ]
    },
    {
      "cell_type": "markdown",
      "metadata": {
        "id": "zaUQuqrtmgDJ"
      },
      "source": [
        "## Lesson Overview (Tổng quan bài học)"
      ]
    },
    {
      "cell_type": "markdown",
      "metadata": {
        "id": "mNiFdGiFmgDJ"
      },
      "source": [
        "**Merge sort** is a sorting algorithm that works by dividing the input array into \"singleton\" arrays (arrays with only one element), then recursively merging them back together in such a way that order is maintained."
      ]
    },
    {
      "cell_type": "markdown",
      "metadata": {
        "id": "5aeb08b0"
      },
      "source": [
        "**Merge sort** (Sắp xếp trộn) là một thuật toán sắp xếp hoạt động bằng cách chia mảng đầu vào thành các mảng \"đơn lẻ\" (mảng chỉ có một phần tử), sau đó đệ quy trộn chúng lại với nhau theo cách duy trì thứ tự."
      ]
    },
    {
      "cell_type": "markdown",
      "metadata": {
        "id": "DBWPgka7mgDJ"
      },
      "source": [
        "> The average case time complexity of merge sort is $O(n\\log(n))$.\n",
        "\n",
        "Suppose you have a function `merge` that can merge two sorted arrays into one sorted array. Merge sort works by breaking up the input array into arrays of one element (which are by definition sorted), then using `merge` to merge them back together such that the merged array is sorted."
      ]
    },
    {
      "cell_type": "markdown",
      "metadata": {
        "id": "a7761534"
      },
      "source": [
        "> Độ phức tạp thời gian trung bình của merge sort là $O(n\\log(n))$.\n",
        "\n",
        "Giả sử bạn có một hàm `merge` có thể trộn hai mảng đã sắp xếp thành một mảng đã sắp xếp. Merge sort hoạt động bằng cách chia nhỏ mảng đầu vào thành các mảng một phần tử (mà theo định nghĩa là đã sắp xếp), sau đó sử dụng `merge` để trộn chúng lại với nhau sao cho mảng đã trộn được sắp xếp."
      ]
    },
    {
      "cell_type": "markdown",
      "metadata": {
        "id": "IZyGNHW3mgDJ"
      },
      "source": [
        "### Algorithm (Thuật toán)"
      ]
    },
    {
      "cell_type": "markdown",
      "metadata": {
        "id": "tzW4rR_FmgDK"
      },
      "source": [
        "Merge sort is almost always implemented using recursion. Here is an outline of the algorithm."
      ]
    },
    {
      "cell_type": "markdown",
      "metadata": {
        "id": "1432528f"
      },
      "source": [
        "Merge sort hầu như luôn được thực hiện bằng cách sử dụng đệ quy. Dưới đây là phác thảo của thuật toán."
      ]
    },
    {
      "cell_type": "markdown",
      "metadata": {
        "id": "tfIapFYWmgDK"
      },
      "source": [
        "1. Break the input array into two (roughly) equal arrays. (These sub-arrays do not need to be equal in length, but the algorithm is more efficient when they are roughly the same size.)\n",
        "1. Sort each of them recursively using merge sort.\n",
        "1. Merge the two arrays using `merge`."
      ]
    },
    {
      "cell_type": "markdown",
      "metadata": {
        "id": "cd4c14a8"
      },
      "source": [
        "1. Chia mảng đầu vào thành hai mảng (gần như) bằng nhau. (Các mảng con này không cần phải có độ dài bằng nhau, nhưng thuật toán hiệu quả hơn khi chúng có kích thước gần như nhau.)\n",
        "1. Sắp xếp từng mảng một cách đệ quy bằng merge sort.\n",
        "1. Trộn hai mảng bằng cách sử dụng `merge`."
      ]
    },
    {
      "cell_type": "markdown",
      "metadata": {
        "id": "7na3BPpTmgDK"
      },
      "source": [
        "**Example** (Ví dụ)"
      ]
    },
    {
      "cell_type": "markdown",
      "metadata": {
        "id": "2HE7Zu0UmgDK"
      },
      "source": [
        "The following diagram demonstrates sorting [2, 6, 3, 4, 1] using merge sort.\n",
        "\n",
        "- The dashed lines *separate* the array into two roughly equally sized arrays.\n",
        "- The bolded lines *merge* the sorted arrays using `merge`, such that ordering is maintained."
      ]
    },
    {
      "cell_type": "markdown",
      "metadata": {
        "id": "583a1976"
      },
      "source": [
        "Sơ đồ sau đây minh họa việc sắp xếp [2, 6, 3, 4, 1] bằng merge sort.\n",
        "\n",
        "- Các đường đứt nét *phân tách* mảng thành hai mảng có kích thước gần như bằng nhau.\n",
        "- Các đường in đậm *trộn* các mảng đã sắp xếp bằng cách sử dụng `merge`, sao cho thứ tự được duy trì."
      ]
    },
    {
      "cell_type": "markdown",
      "metadata": {
        "id": "u3HNP_4AmgDL"
      },
      "source": [
        "![Bridge Content Visual Mocks (bridge-content-visuals) (1).png](data:image/png;base64,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)"
      ]
    },
    {
      "cell_type": "markdown",
      "metadata": {
        "id": "nUJqyecSmgDM"
      },
      "source": [
        "# Quicksort (Sắp xếp nhanh)"
      ]
    },
    {
      "cell_type": "markdown",
      "metadata": {
        "id": "daTW-SXCmgDM"
      },
      "source": [
        "## Lesson Overview (Tổng quan bài học)"
      ]
    },
    {
      "cell_type": "markdown",
      "metadata": {
        "id": "UanUzBe9mgDM"
      },
      "source": [
        "Quicksort is a sorting algorithm that divides the input array into elements greater than and less than a \"pivot\" recursively until the entire array is sorted."
      ]
    },
    {
      "cell_type": "markdown",
      "metadata": {
        "id": "e308443c"
      },
      "source": [
        "Quicksort (Sắp xếp nhanh) là một thuật toán sắp xếp chia mảng đầu vào thành các phần tử lớn hơn và nhỏ hơn một \"điểm trục\" một cách đệ quy cho đến khi toàn bộ mảng được sắp xếp."
      ]
    },
    {
      "cell_type": "markdown",
      "metadata": {
        "id": "NN7a456jmgDN"
      },
      "source": [
        "> The average case time complexity of quicksort is $O(n\\log(n))$."
      ]
    },
    {
      "cell_type": "markdown",
      "metadata": {
        "id": "72149967"
      },
      "source": [
        "> Độ phức tạp thời gian trung bình của quicksort là $O(n\\log(n))$."
      ]
    },
    {
      "cell_type": "markdown",
      "metadata": {
        "id": "hJEGZ820mgDN"
      },
      "source": [
        "### Algorithm (Thuật toán)"
      ]
    },
    {
      "cell_type": "markdown",
      "metadata": {
        "id": "7JnRpPPwmgDN"
      },
      "source": [
        "Here is an outline of the quicksort algorithm.\n",
        "\n",
        "1. Choose an arbitrary element in the array to be the \"pivot\".\n",
        "1. Move all elements less than or equal to the pivot to the left of the pivot. Move all elements greater than the pivot to the right of the pivot.\n",
        "1. Recursively apply this process to the sub-arrays to the left and right of the pivot.\n",
        "1. Stop when a sub-array has length 0 or 1 (since it must be sorted)."
      ]
    },
    {
      "cell_type": "markdown",
      "metadata": {
        "id": "5121443d"
      },
      "source": [
        "Dưới đây là phác thảo của thuật toán quicksort.\n",
        "\n",
        "1. Chọn một phần tử bất kỳ trong mảng làm \"điểm trục\" (pivot).\n",
        "1. Di chuyển tất cả các phần tử nhỏ hơn hoặc bằng điểm trục sang bên trái của điểm trục. Di chuyển tất cả các phần tử lớn hơn điểm trục sang bên phải của điểm trục.\n",
        "1. Áp dụng đệ quy quy trình này cho các mảng con bên trái và bên phải của điểm trục.\n",
        "1. Dừng lại khi một mảng con có độ dài 0 hoặc 1 (vì nó phải được sắp xếp)."
      ]
    },
    {
      "cell_type": "markdown",
      "metadata": {
        "id": "KJpPP12pmgDO"
      },
      "source": [
        "**Example** (Ví dụ)"
      ]
    },
    {
      "cell_type": "markdown",
      "metadata": {
        "id": "zClxKNYOmgDO"
      },
      "source": [
        "The diagram demonstrates the usage of quicksort on the array [2, 7, 5, 4, 2, 6, 1, 3]. Since the choice of pivot is arbitrary, this implementation uses the first element (the element with index 0) as the pivot at each iteration. In the diagram:\n",
        "\n",
        "- The pivot element is shaded grey and bolded\n",
        "- The sub-array of elements *less than* the pivot is shaded red\n",
        "- The sub-array of elements *greater than* the pivot is shaded blue"
      ]
    },
    {
      "cell_type": "markdown",
      "metadata": {
        "id": "dcddc97f"
      },
      "source": [
        "Sơ đồ minh họa việc sử dụng quicksort trên mảng [2, 7, 5, 4, 2, 6, 1, 3]. Vì việc chọn điểm trục là tùy ý, cách thực hiện này sử dụng phần tử đầu tiên (phần tử có chỉ số 0) làm điểm trục tại mỗi lần lặp. Trong sơ đồ:\n",
        "\n",
        "- Phần tử điểm trục được tô màu xám và in đậm\n",
        "- Mảng con của các phần tử *nhỏ hơn* điểm trục được tô màu đỏ\n",
        "- Mảng con của các phần tử *lớn hơn* điểm trục được tô màu xanh"
      ]
    },
    {
      "cell_type": "markdown",
      "metadata": {
        "id": "2f5PYH4ymgDP"
      },
      "source": [
        "![Bridge Content Visual Mocks (bridge-content-visuals) (1).png](data:image/png;base64,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)"
      ]
    },
    {
      "cell_type": "markdown",
      "metadata": {
        "id": "SXFSRDb5mgDP"
      },
      "source": [
        "# Linear Search (Tìm kiếm tuyến tính)"
      ]
    },
    {
      "cell_type": "markdown",
      "metadata": {
        "id": "nQbchaslmgDQ"
      },
      "source": [
        "## Lesson Overview (Tổng quan bài học)"
      ]
    },
    {
      "cell_type": "markdown",
      "metadata": {
        "id": "CZv64J_QmgDQ"
      },
      "source": [
        "Linear search is an algorithm that searches an array for a given value. If the array contains the given value, the algorithm returns the lowest index at which the value is found. If not, the algorithm usually returns -1 or an error."
      ]
    },
    {
      "cell_type": "markdown",
      "metadata": {
        "id": "a5ca9dc2"
      },
      "source": [
        "Tìm kiếm tuyến tính là một thuật toán dùng để tìm kiếm một giá trị trong mảng. Nếu mảng chứa giá trị đó, thuật toán sẽ trả về chỉ số nhỏ nhất mà giá trị được tìm thấy. Nếu không, thuật toán thường trả về -1 hoặc báo lỗi."
      ]
    },
    {
      "cell_type": "markdown",
      "metadata": {
        "id": "8_EO2rTgmgDQ"
      },
      "source": [
        "For example, searching for `2` in the array `[5, 2, 1, 2]` returns 1 (since the first instance of `2` is at index 1), whereas searching for `2` in the array `[1, 3]` returns -1 (since `2` is not in the array).\n",
        "\n",
        "Linear search is one of the simplest searching algorithms to implement, and, as the name suggests, is $O(n)$ (linear time) in the average case."
      ]
    },
    {
      "cell_type": "markdown",
      "metadata": {
        "id": "f7993e2b"
      },
      "source": [
        "Ví dụ, khi tìm kiếm số `2` trong mảng `[5, 2, 1, 2]`, kết quả trả về là 1 (vì lần xuất hiện đầu tiên của `2` nằm ở chỉ số 1), trong khi tìm kiếm số `2` trong mảng `[1, 3]` sẽ trả về -1 (vì `2` không có trong mảng).\n",
        "\n",
        "Tìm kiếm tuyến tính là một trong những thuật toán tìm kiếm đơn giản nhất để triển khai, và như tên gọi, thuật toán này có độ phức tạp trung bình là $O(n)$ (thời gian tuyến tính)."
      ]
    },
    {
      "cell_type": "markdown",
      "metadata": {
        "id": "KyHgHxG4mgDQ"
      },
      "source": [
        "### Algorithm (Thuật toán)"
      ]
    },
    {
      "cell_type": "markdown",
      "metadata": {
        "id": "VSeWmFqymgDQ"
      },
      "source": [
        "Suppose an array `arr` is being searched for a value `v`. This is an implementation of linear search that returns -1 if `v` is not contained in `arr`."
      ]
    },
    {
      "cell_type": "markdown",
      "metadata": {
        "id": "142a9951"
      },
      "source": [
        "Giả sử chúng mình đang tìm kiếm giá trị `v` trong một mảng `arr`. Đây là một ví dụ về cách triển khai thuật toán tìm kiếm tuyến tính, trả về -1 nếu `v` không có trong `arr`."
      ]
    },
    {
      "cell_type": "markdown",
      "metadata": {
        "id": "mwrgmvlLmgDQ"
      },
      "source": [
        "0. *Initialize:* Set $i = 0$.\n",
        "1. *Repeat:* Inspect the element with index $i$.\n",
        "  - If the element is equal to `v`, return $i$ and exit.\n",
        "  - Otherwise, increment $i$ by 1.\n",
        "2. *Exit:* If index $i$ does not exist in `arr`, that means you have iterated through the entire array and not found `v`, so return -1."
      ]
    },
    {
      "cell_type": "markdown",
      "metadata": {
        "id": "a7de6dd4"
      },
      "source": [
        "0. *Khởi tạo:* Đặt $i = 0$.\n",
        "1. *Lặp lại:* Kiểm tra phần tử tại chỉ số $i$.\n",
        "  - Nếu phần tử đó bằng `v`, trả về $i$ và kết thúc.\n",
        "  - Nếu không, tăng $i$ lên 1.\n",
        "2. *Kết thúc:* Nếu chỉ số $i$ không tồn tại trong `arr`, nghĩa là chúng mình đã duyệt hết mảng mà không tìm thấy `v`, vậy hãy trả về -1."
      ]
    },
    {
      "cell_type": "markdown",
      "metadata": {
        "id": "IUKIsIl8mgDR"
      },
      "source": [
        "## Question 1 (Câu hỏi 1)"
      ]
    },
    {
      "cell_type": "markdown",
      "metadata": {
        "id": "wMH5l_C-mgDR"
      },
      "source": [
        "Write an iterative algorithm that implements linear search."
      ]
    },
    {
      "cell_type": "markdown",
      "metadata": {
        "id": "faa412de"
      },
      "source": [
        "Hãy viết một thuật toán lặp để thực hiện tìm kiếm tuyến tính."
      ]
    },
    {
      "cell_type": "code",
      "execution_count": null,
      "metadata": {
        "id": "VM_Mt9xemgDU"
      },
      "outputs": [],
      "source": [
        "def linear_search(arr, v):\n",
        "  \"\"\"Searches a list of integers arr for a value v.\"\"\"\n",
        "  # TODO(you): Implement\n",
        "  for i in range(len(arr)):\n",
        "    if (arr[i] == v):\n",
        "      return i\n",
        "\n",
        "  return -1"
      ]
    },
    {
      "cell_type": "markdown",
      "metadata": {
        "id": "_F6dcLFymgDU"
      },
      "source": [
        "### Hint (Gợi ý)"
      ]
    },
    {
      "cell_type": "markdown",
      "metadata": {
        "id": "rSiqfUA9mgDV"
      },
      "source": [
        "Remember to return the *index* of the found element, and -1 if the element is not found."
      ]
    },
    {
      "cell_type": "markdown",
      "metadata": {
        "id": "b0721f7a"
      },
      "source": [
        "Hãy nhớ trả về *chỉ số* của phần tử được tìm thấy, và -1 nếu không tìm thấy phần tử đó."
      ]
    },
    {
      "cell_type": "markdown",
      "metadata": {
        "id": "vSonKeBpmgDV"
      },
      "source": [
        "### Unit Tests (Kiểm thử đơn vị)\n",
        "\n",
        "Run the following cell to check your answer against some unit tests."
      ]
    },
    {
      "cell_type": "code",
      "execution_count": null,
      "metadata": {
        "id": "X8IzJhhVmgDV"
      },
      "outputs": [],
      "source": [
        "print(linear_search([1, 2, 3, 5, 6, 8, 9], 2))\n",
        "# Should print: 1\n",
        "\n",
        "print(linear_search([1, 3, 5, 6, 8, 9], 7))\n",
        "# Should print: -1"
      ]
    },
    {
      "cell_type": "markdown",
      "metadata": {
        "id": "akOuPM_KmgDV"
      },
      "source": [
        "### Solution (Lời giải)"
      ]
    },
    {
      "cell_type": "code",
      "execution_count": null,
      "metadata": {
        "id": "2EMHgY59mgDV"
      },
      "outputs": [],
      "source": [
        "def linear_search(arr, v):\n",
        "  \"\"\"Searches a list of integers arr for a value v.\"\"\"\n",
        "  for i in range(len(arr)):\n",
        "    if arr[i] == v:\n",
        "      return i\n",
        "\n",
        "  return -1"
      ]
    },
    {
      "cell_type": "markdown",
      "metadata": {
        "id": "zU7Xil0VmgDV"
      },
      "source": [
        "## Question 2 (Câu hỏi 2)"
      ]
    },
    {
      "cell_type": "markdown",
      "metadata": {
        "id": "digwUsPkmgDW"
      },
      "source": [
        "What is the best case time complexity of `linear_search`? In what case does this occur?"
      ]
    },
    {
      "cell_type": "markdown",
      "metadata": {
        "id": "928b41ba"
      },
      "source": [
        "Độ phức tạp thời gian tốt nhất của `linear_search` là gì? Trường hợp nào thì điều này xảy ra?"
      ]
    },
    {
      "cell_type": "code",
      "execution_count": null,
      "metadata": {
        "id": "bOME9dHhmgDW"
      },
      "outputs": [],
      "source": [
        "#freetext"
      ]
    },
    {
      "cell_type": "markdown",
      "metadata": {
        "id": "QzA5niXumgDW"
      },
      "source": [
        "### Solution (Lời giải)"
      ]
    },
    {
      "cell_type": "markdown",
      "metadata": {
        "id": "KlqnBMA4mgDW"
      },
      "source": [
        "In the best case, `linear_search` finds `v` in the very first iteration of the `for` loop, at index 0. In this case, the algorithm requires 1 iteration, so has a time complexity of $O(1)$."
      ]
    },
    {
      "cell_type": "markdown",
      "metadata": {
        "id": "4c12ea9a"
      },
      "source": [
        "Trong trường hợp tốt nhất, `linear_search` tìm thấy `v` ngay ở lần lặp đầu tiên của vòng lặp `for`, tại chỉ số 0. Khi đó, thuật toán chỉ cần 1 lần lặp, nên có độ phức tạp thời gian là $O(1)$."
      ]
    },
    {
      "cell_type": "markdown",
      "metadata": {
        "id": "Kq-wAa93mgDW"
      },
      "source": [
        "## Question 3 (Câu hỏi 3)"
      ]
    },
    {
      "cell_type": "markdown",
      "metadata": {
        "id": "ai4dgohmmgDX"
      },
      "source": [
        "What is the worst case time complexity of `linear_search`? In what case does this occur?"
      ]
    },
    {
      "cell_type": "markdown",
      "metadata": {
        "id": "47242ec0"
      },
      "source": [
        "Độ phức tạp thời gian tệ nhất của `linear_search` là gì? Trường hợp nào thì điều này xảy ra?"
      ]
    },
    {
      "cell_type": "code",
      "execution_count": null,
      "metadata": {
        "id": "W3ZDuD0VmgDX"
      },
      "outputs": [],
      "source": [
        "#freetext"
      ]
    },
    {
      "cell_type": "markdown",
      "metadata": {
        "id": "axwfrLijmgDX"
      },
      "source": [
        "### Solution (Lời giải)"
      ]
    },
    {
      "cell_type": "markdown",
      "metadata": {
        "id": "4M98tpE7mgDX"
      },
      "source": [
        "In the worst case, `linear_search` needs to check every element of `arr` before either concluding that `v` is not in `arr` or that `v` is the last element of `arr`. In this case, the algorithm requires all $n$ iterations of the `for` loop (where $n$ is the length of `arr`), so has a time complexity of $O(n)$."
      ]
    },
    {
      "cell_type": "markdown",
      "metadata": {
        "id": "4e83b58a"
      },
      "source": [
        "Trong trường hợp tệ nhất, `linear_search` phải kiểm tra tất cả các phần tử trong `arr` trước khi kết luận rằng `v` không có trong `arr` hoặc `v` nằm ở vị trí cuối cùng của mảng. Khi đó, thuật toán cần thực hiện đủ $n$ lần lặp của vòng lặp `for` (với $n$ là độ dài của `arr`), nên có độ phức tạp thời gian là $O(n)$."
      ]
    },
    {
      "cell_type": "markdown",
      "metadata": {
        "id": "RT_xvw8zmgDX"
      },
      "source": [
        "## Question 4 (Câu hỏi 4)"
      ]
    },
    {
      "cell_type": "markdown",
      "metadata": {
        "id": "IpicoQIhmgDX"
      },
      "source": [
        "Your local public library has a scanning system that keeps track of all books at the library. Each book has a unique book number (for example, all copies of *The Bell Jar* by Sylvia Plath have the number 1842659).\n",
        "\n",
        "The library has asked you to write a function to count the number of copies of a given book number that are currently loaned out. The books that are loaned out are stored in an array. Use the principles of `linear_search` to write a `count_occurrences` function that counts the number of times an integer appears in an array."
      ]
    },
    {
      "cell_type": "markdown",
      "metadata": {
        "id": "9545564a"
      },
      "source": [
        "Thư viện công cộng địa phương của bạn có một hệ thống quét để theo dõi tất cả các cuốn sách trong thư viện. Mỗi cuốn sách có một số hiệu sách duy nhất (ví dụ, tất cả các bản của *The Bell Jar* của Sylvia Plath đều có số 1842659).\n",
        "\n",
        "Thư viện đã nhờ bạn viết một hàm để đếm số lượng bản sao của một số hiệu sách nhất định đang được mượn. Các cuốn sách đang được mượn được lưu trong một mảng. Hãy sử dụng nguyên lý của `linear_search` để viết hàm `count_occurrences` đếm số lần một số nguyên xuất hiện trong mảng."
      ]
    },
    {
      "cell_type": "code",
      "execution_count": null,
      "metadata": {
        "id": "653LK6IJmgDY"
      },
      "outputs": [],
      "source": [
        "def count_occurrences(arr, v):\n",
        "  \"\"\"Returns the number of times the value v appears in arr.\"\"\"\n",
        "  # TODO(you): Implement\n",
        "  ret = 0\n",
        "  for i in arr:\n",
        "    if (i == v):\n",
        "      ret = ret + 1\n",
        "\n",
        "  return ret"
      ]
    },
    {
      "cell_type": "markdown",
      "metadata": {
        "id": "-GlZnHhlmgDY"
      },
      "source": [
        "### Hint (Gợi ý)"
      ]
    },
    {
      "cell_type": "markdown",
      "metadata": {
        "id": "v5I3dkggmgDY"
      },
      "source": [
        "Modify your `linear_search` function, but instead of returning the index found, increment a counter."
      ]
    },
    {
      "cell_type": "markdown",
      "metadata": {
        "id": "e8d79164"
      },
      "source": [
        "Hãy sửa đổi hàm `linear_search` của bạn, nhưng thay vì trả về chỉ số tìm thấy, hãy tăng một biến đếm."
      ]
    },
    {
      "cell_type": "code",
      "execution_count": null,
      "metadata": {
        "id": "nDCuj7mymgDY"
      },
      "outputs": [],
      "source": [
        "def linear_search(arr, v):\n",
        "  \"\"\"Searches a list of integers arr for a value v.\"\"\"\n",
        "  for i in range(len(arr)):\n",
        "    if arr[i] == v:\n",
        "      return i\n",
        "\n",
        "  return -1"
      ]
    },
    {
      "cell_type": "markdown",
      "metadata": {
        "id": "IulKFbJ7mgDY"
      },
      "source": [
        "### Unit Tests (Kiểm thử đơn vị)\n",
        "\n",
        "Run the following cell to check your answer against some unit tests."
      ]
    },
    {
      "cell_type": "code",
      "execution_count": null,
      "metadata": {
        "id": "6kSQLaLTmgDY"
      },
      "outputs": [],
      "source": [
        "print(count_occurrences([1, 2, 1, 3, 1, 4, 1, 5], 1))\n",
        "# Should print: 4\n",
        "\n",
        "print(count_occurrences([1, 2, 1, 3, 1, 4, 1, 5], 6))\n",
        "# Should print: 0"
      ]
    },
    {
      "cell_type": "markdown",
      "metadata": {
        "id": "WZALqogOmgDZ"
      },
      "source": [
        "### Solution (Lời giải)"
      ]
    },
    {
      "cell_type": "code",
      "execution_count": null,
      "metadata": {
        "id": "e4WzwoaxmgDZ"
      },
      "outputs": [],
      "source": [
        "def count_occurrences(arr, v):\n",
        "  \"\"\"Returns the number of times the value v appears in arr.\"\"\"\n",
        "  count = 0\n",
        "\n",
        "  for i in arr:\n",
        "    if i == v:\n",
        "      count += 1\n",
        "\n",
        "  return count"
      ]
    },
    {
      "cell_type": "markdown",
      "metadata": {
        "id": "UtZBg4IVmgDZ"
      },
      "source": [
        "# Binary Search (Tìm kiếm nhị phân)"
      ]
    },
    {
      "cell_type": "markdown",
      "metadata": {
        "id": "aOyJzoRUmgDZ"
      },
      "source": [
        "## Lesson Overview (Tổng quan bài học)"
      ]
    },
    {
      "cell_type": "markdown",
      "metadata": {
        "id": "gUaqrF9KmgDZ"
      },
      "source": [
        "Binary search searches a **sorted** array of integers for a specific integer."
      ]
    },
    {
      "cell_type": "markdown",
      "metadata": {
        "id": "65f6f7a8"
      },
      "source": [
        "Tìm kiếm nhị phân dùng để tìm kiếm một số nguyên cụ thể trong một mảng **đã được sắp xếp**."
      ]
    },
    {
      "cell_type": "markdown",
      "metadata": {
        "id": "N9RBKU8-mgDZ"
      },
      "source": [
        "Unlike the input to linear search, the input to binary search **must be sorted**. The algorithm can be extended to strings and any data type that can be ordered.\n",
        "\n",
        "> The average case time complexity of binary search is $O(\\log(n))$."
      ]
    },
    {
      "cell_type": "markdown",
      "metadata": {
        "id": "bb7f46d3"
      },
      "source": [
        "Khác với đầu vào của tìm kiếm tuyến tính, đầu vào của tìm kiếm nhị phân **bắt buộc phải được sắp xếp**. Thuật toán này cũng có thể mở rộng cho chuỗi và bất kỳ kiểu dữ liệu nào có thể so sánh thứ tự.\n",
        "\n",
        "> Độ phức tạp thời gian trung bình của tìm kiếm nhị phân là $O(\\log(n))$."
      ]
    },
    {
      "cell_type": "markdown",
      "metadata": {
        "id": "IBT13-G_mgDa"
      },
      "source": [
        "### Algorithm (Thuật toán)"
      ]
    },
    {
      "cell_type": "markdown",
      "metadata": {
        "id": "Drr58B8qmgDa"
      },
      "source": [
        "Binary search is an example of a [divide-and-conquer algorithm](https://en.wikipedia.org/wiki/Divide-and-conquer_algorithm) since it divides the array into smaller sub-arrays and applies the same searching logic to each sub-array. At each step, the algorithm cuts the array in half. One implementation of the binary search algorithm is outlined here."
      ]
    },
    {
      "cell_type": "markdown",
      "metadata": {
        "id": "35fdae83"
      },
      "source": [
        "Tìm kiếm nhị phân là một ví dụ về [thuật toán chia để trị](https://vi.wikipedia.org/wiki/Chia_để_trị) vì nó chia mảng thành các mảng con nhỏ hơn và áp dụng cùng một logic tìm kiếm cho từng mảng con. Ở mỗi bước, thuật toán sẽ chia đôi mảng. Dưới đây là một cách triển khai thuật toán tìm kiếm nhị phân."
      ]
    },
    {
      "cell_type": "markdown",
      "metadata": {
        "id": "vvwmyAmkmgDa"
      },
      "source": [
        "This implementation searches a sorted array of length $n$ for a value $v$.\n",
        "\n",
        "0. If the array has length 0, the search value is definitely not in the array, so return -1.\n",
        "\n",
        "1. Find the middle index of the array. If $n$ is odd, the middle index is $\\frac{n+1}{2}$. If $n$ is even, then the middle index can be either $\\frac{n}{2}$ or $\\frac{n+2}{2}$, it does not matter.\n",
        "\n",
        "2. Let $m$ be the value of the array at the middle index. The \"top half\" of the array is the sub-array with indices greater than the middle index. Since the array is sorted, all of these values are $\\geq m$. Likewise, the \"bottom half\" of the array is the sub-array with indices less than the middle index. Since the array is sorted, all of these values are $\\leq m$.\n",
        "\n",
        "3. If $m = v$, the algorithm is done and has found the search value, so return the middle index.\n",
        "\n",
        "4. If $m < v$, then if $v$ is in the array, it must be in the top half of the array. Using iteration or recursion, apply the entire algorithm to the top half of the array.\n",
        "\n",
        "5. If $m > v$, then if $v$ is in the array, it must be in the bottom half of the array. Using iteration or recursion, apply the entire algorithm to the bottom half of the array."
      ]
    },
    {
      "cell_type": "markdown",
      "metadata": {
        "id": "b01f3d6c"
      },
      "source": [
        "Cách triển khai này sẽ tìm kiếm một giá trị $v$ trong một mảng đã sắp xếp có độ dài $n$.\n",
        "\n",
        "0. Nếu mảng có độ dài 0, chắc chắn giá trị cần tìm không có trong mảng, hãy trả về -1.\n",
        "\n",
        "1. Tìm chỉ số giữa của mảng. Nếu $n$ là số lẻ, chỉ số giữa là $\\frac{n+1}{2}$. Nếu $n$ là số chẵn, chỉ số giữa có thể là $\\frac{n}{2}$ hoặc $\\frac{n+2}{2}$, chọn cách nào cũng được.\n",
        "\n",
        "2. Gọi $m$ là giá trị của mảng tại chỉ số giữa. \"Nửa trên\" của mảng là mảng con với các chỉ số lớn hơn chỉ số giữa. Vì mảng đã được sắp xếp, tất cả các giá trị này đều $\\geq m$. Tương tự, \"nửa dưới\" là mảng con với các chỉ số nhỏ hơn chỉ số giữa, và tất cả các giá trị này đều $\\leq m$.\n",
        "\n",
        "3. Nếu $m = v$, thuật toán đã tìm thấy giá trị cần tìm, hãy trả về chỉ số giữa.\n",
        "\n",
        "4. Nếu $m < v$, nếu $v$ có trong mảng thì chắc chắn nằm ở nửa trên. Hãy lặp lại hoặc đệ quy áp dụng toàn bộ thuật toán cho nửa trên của mảng.\n",
        "\n",
        "5. Nếu $m > v$, nếu $v$ có trong mảng thì chắc chắn nằm ở nửa dưới. Hãy lặp lại hoặc đệ quy áp dụng toàn bộ thuật toán cho nửa dưới của mảng."
      ]
    },
    {
      "cell_type": "markdown",
      "metadata": {
        "id": "qK1xYRY7mgDa"
      },
      "source": [
        "### Examples (Ví dụ)"
      ]
    },
    {
      "cell_type": "markdown",
      "metadata": {
        "id": "zSZWUpdsmgDb"
      },
      "source": [
        "Here are two examples of searching an input array for a value."
      ]
    },
    {
      "cell_type": "markdown",
      "metadata": {
        "id": "d57fcc0d"
      },
      "source": [
        "Dưới đây là hai ví dụ về việc tìm kiếm một giá trị trong mảng đầu vào."
      ]
    },
    {
      "cell_type": "markdown",
      "metadata": {
        "id": "iRoaq2lVmgDb"
      },
      "source": [
        "If the array length is even, we will arbitrarily choose $\\frac{n}{2}$ as the middle index instead of $\\frac{n+1}{2}$. Therefore, the top half array will contain one more element than the bottom half array. Remember that indices start from 0 in this example.\n",
        "\n",
        "*Example 1*\n",
        "\n",
        "- search value: 2\n",
        "- array length: 7\n",
        "\n",
        "Iteration | &emsp;Input array&emsp; | Middle index | Middle value | Left array | Right array\n",
        "--- | --- | --- | --- | --- | ---\n",
        "1 | [1, 2, 3, 5, 6, 8, 9] | 3 | 5 | [1, 2, 3] | [6, 8, 9]\n",
        "2 | [1, 2, 3] | 1 | 2 | NA | NA\n",
        "\n",
        "In this example, binary search found the value 2 within the array in 2 iterations. Note that the bottom and top halves of iteration 2 are NA since the search has already been found.\n",
        "\n",
        "*Example 2*\n",
        "\n",
        "- search value: 7\n",
        "- array length: 6\n",
        "\n",
        "Iteration | &emsp;Input array&emsp; | Middle index | Middle value | Left array | Right array\n",
        "--- | --- | --- | --- | --- | ---\n",
        "1 | [1, 3, 5, 6, 8, 9] | 2 | 5 | [1, 3] | [6, 8, 9]\n",
        "2 | [6, 8, 9] | 1 | 8 | [6] | [9]\n",
        "3 | [6] | 0 | 6 | NA | NA\n",
        "\n",
        "In this example, binary search found that the value 7 is not in the array in 3 iterations."
      ]
    },
    {
      "cell_type": "markdown",
      "metadata": {
        "id": "6b041694"
      },
      "source": [
        "Nếu độ dài mảng là số chẵn, chúng mình sẽ tùy ý chọn $\\frac{n}{2}$ làm chỉ số giữa thay vì $\\frac{n+1}{2}$. Vì vậy, nửa trên của mảng sẽ có nhiều hơn nửa dưới một phần tử. Lưu ý rằng các chỉ số bắt đầu từ 0 trong ví dụ này.\n",
        "\n",
        "*Ví dụ 1*\n",
        "\n",
        "- Giá trị cần tìm: 2\n",
        "- Độ dài mảng: 7\n",
        "\n",
        "Iteration | &emsp;Mảng đầu vào&emsp; | Chỉ số giữa | Giá trị giữa | Mảng bên trái | Mảng bên phải\n",
        "--- | --- | --- | --- | --- | ---\n",
        "1 | [1, 2, 3, 5, 6, 8, 9] | 3 | 5 | [1, 2, 3] | [6, 8, 9]\n",
        "2 | [1, 2, 3] | 1 | 2 | NA | NA\n",
        "\n",
        "Trong ví dụ này, tìm kiếm nhị phân đã tìm thấy giá trị 2 trong mảng sau 2 lần lặp. Lưu ý rằng nửa dưới và nửa trên ở lần lặp thứ 2 là NA vì đã tìm thấy giá trị cần tìm.\n",
        "\n",
        "*Ví dụ 2*\n",
        "\n",
        "- Giá trị cần tìm: 7\n",
        "- Độ dài mảng: 6\n",
        "\n",
        "Iteration | &emsp;Mảng đầu vào&emsp; | Chỉ số giữa | Giá trị giữa | Mảng bên trái | Mảng bên phải\n",
        "--- | --- | --- | --- | --- | ---\n",
        "1 | [1, 3, 5, 6, 8, 9] | 2 | 5 | [1, 3] | [6, 8, 9]\n",
        "2 | [6, 8, 9] | 1 | 8 | [6] | [9]\n",
        "3 | [6] | 0 | 6 | NA | NA\n",
        "\n",
        "Trong ví dụ này, tìm kiếm nhị phân xác định rằng giá trị 7 không có trong mảng sau 3 lần lặp."
      ]
    },
    {
      "cell_type": "markdown",
      "metadata": {
        "id": "ijLU8UnKmgDb"
      },
      "source": [
        "### Comparison to linear search (So sánh với tìm kiếm tuyến tính)"
      ]
    },
    {
      "cell_type": "markdown",
      "metadata": {
        "id": "RLAMMHMfmgDb"
      },
      "source": [
        "Linear search has a simpler implementation than binary search, and it works for any array whereas binary search only works for sorted arrays. However, the advantage of binary search is its efficiency."
      ]
    },
    {
      "cell_type": "markdown",
      "metadata": {
        "id": "59bc4942"
      },
      "source": [
        "Tìm kiếm tuyến tính có cách triển khai đơn giản hơn so với tìm kiếm nhị phân, và có thể áp dụng cho bất kỳ mảng nào, trong khi tìm kiếm nhị phân chỉ áp dụng cho mảng đã sắp xếp. Tuy nhiên, ưu điểm của tìm kiếm nhị phân là hiệu suất vượt trội."
      ]
    },
    {
      "cell_type": "markdown",
      "metadata": {
        "id": "Y_MoZKf5mgDb"
      },
      "source": [
        "Linear search, coded below, is $O(n)$ (linear) time in the worst and average case."
      ]
    },
    {
      "cell_type": "markdown",
      "metadata": {
        "id": "3fe9d355"
      },
      "source": [
        "Tìm kiếm tuyến tính, như được mã hóa bên dưới, có độ phức tạp thời gian $O(n)$ (tuyến tính) trong trường hợp trung bình và tệ nhất."
      ]
    },
    {
      "cell_type": "code",
      "execution_count": null,
      "metadata": {
        "id": "ul6VndvRmgDc"
      },
      "outputs": [],
      "source": [
        "def linear_search(arr, v):\n",
        "  \"\"\"Searches a list of integers arr for a value v.\"\"\"\n",
        "  for i in range(len(arr)):\n",
        "    if arr[i] == v:\n",
        "      return i\n",
        "\n",
        "  return -1"
      ]
    },
    {
      "cell_type": "markdown",
      "metadata": {
        "id": "czpeyEm0mgDc"
      },
      "source": [
        "Binary search is $O(\\log(n))$ in the worst and average case since it leverages the pre-sorting of the input array. This difference in complexity can result in significant benefits for runtime and computational resources when $n$ is large.\n",
        "\n",
        "Consider the two previous examples:\n",
        "\n",
        "1. Searching for the value 2 in the array [1, 2, 3, 5, 6, 8, 9]\n",
        "\n",
        "   Binary search found the value in 2 iterations. Linear search would also find the value in 2 iterations, since 2 happens to be the 2nd element (index 1) of the array. This is a fairly good case for linear search, since the search value appears close to the start of the array. If, however, 2 had been closer to the end of the array, linear search would have been much slower.\n",
        "\n",
        "1. Searching for the value 7 in the array [1, 3, 5, 6, 8, 9]\n",
        "\n",
        "   In 3 iterations, binary search found that the value is not in the array. Linear search takes 6 iterations, since the algorithm checks all 6 elements of the array. It is generally in the worse cases (such as this example) that binary search significantly outperforms linear search."
      ]
    },
    {
      "cell_type": "markdown",
      "metadata": {
        "id": "1670e4d0"
      },
      "source": [
        "Tìm kiếm nhị phân có độ phức tạp $O(\\log(n))$ trong trường hợp trung bình và tệ nhất nhờ tận dụng việc mảng đầu vào đã được sắp xếp. Sự khác biệt về độ phức tạp này có thể mang lại lợi ích lớn về thời gian chạy và tài nguyên tính toán khi $n$ lớn.\n",
        "\n",
        "Hãy xem lại hai ví dụ trước:\n",
        "\n",
        "1. Tìm kiếm giá trị 2 trong mảng [1, 2, 3, 5, 6, 8, 9]\n",
        "\n",
        "   Tìm kiếm nhị phân tìm thấy giá trị sau 2 lần lặp. Tìm kiếm tuyến tính cũng sẽ tìm thấy giá trị sau 2 lần lặp, vì 2 nằm ở vị trí thứ 2 (chỉ số 1) của mảng. Đây là một trường hợp khá tốt cho tìm kiếm tuyến tính, vì giá trị cần tìm nằm gần đầu mảng. Tuy nhiên, nếu 2 nằm gần cuối mảng, tìm kiếm tuyến tính sẽ chậm hơn nhiều.\n",
        "\n",
        "2. Tìm kiếm giá trị 7 trong mảng [1, 3, 5, 6, 8, 9]\n",
        "\n",
        "   Sau 3 lần lặp, tìm kiếm nhị phân xác định rằng giá trị này không có trong mảng. Tìm kiếm tuyến tính cần 6 lần lặp, vì thuật toán phải kiểm tra cả 6 phần tử của mảng. Thông thường, trong các trường hợp tệ như ví dụ này, tìm kiếm nhị phân vượt trội hơn hẳn so với tìm kiếm tuyến tính."
      ]
    },
    {
      "cell_type": "markdown",
      "metadata": {
        "id": "vC5vfp-wmgDc"
      },
      "source": [
        "## Question 1 (Câu hỏi 1)"
      ]
    },
    {
      "cell_type": "markdown",
      "metadata": {
        "id": "ABxCHeTjmgDc"
      },
      "source": [
        "Which of the following statements about binary search are true?"
      ]
    },
    {
      "cell_type": "markdown",
      "metadata": {
        "id": "6d1f7dc0"
      },
      "source": [
        "Phát biểu nào sau đây về tìm kiếm nhị phân là đúng?"
      ]
    },
    {
      "cell_type": "markdown",
      "metadata": {
        "id": "v4n9CcPcmgDd"
      },
      "source": [
        "**a)** The average case time complexity of binary search is $O(n\\log(n))$.\n",
        "\n",
        "**b)** The best case time complexity of binary search is $O(1)$.\n",
        "\n",
        "**c)** The input array to binary search must be sorted.\n",
        "\n",
        "**d)** The space complexity of binary search is $O(\\log(n))$."
      ]
    },
    {
      "cell_type": "markdown",
      "metadata": {
        "id": "371aa7be"
      },
      "source": [
        "**a)** Độ phức tạp thời gian trung bình của tìm kiếm nhị phân là $O(n\\log(n))$.\n",
        "\n",
        "**b)** Độ phức tạp thời gian tốt nhất của tìm kiếm nhị phân là $O(1)$.\n",
        "\n",
        "**c)** Mảng đầu vào của tìm kiếm nhị phân bắt buộc phải được sắp xếp.\n",
        "\n",
        "**d)** Độ phức tạp bộ nhớ của tìm kiếm nhị phân là $O(\\log(n))$."
      ]
    },
    {
      "cell_type": "markdown",
      "metadata": {
        "id": "REIcqdNRmgDe"
      },
      "source": [
        "### Solution (Lời giải)"
      ]
    },
    {
      "cell_type": "markdown",
      "metadata": {
        "id": "gSDmfMXSmgDe"
      },
      "source": [
        "The correct answers are **b)** and **c)**.\n",
        "\n",
        "**a)** This would make binary search slower than linear search, as linear search is $O(n)$ in the average case.\n",
        "\n",
        "**d)** If implemented well, binary search requires no new space allocation."
      ]
    },
    {
      "cell_type": "markdown",
      "metadata": {
        "id": "8c12599b"
      },
      "source": [
        "Đáp án đúng là **b)** và **c)**.\n",
        "\n",
        "**a)** Nếu đúng như vậy thì tìm kiếm nhị phân sẽ chậm hơn tìm kiếm tuyến tính, vì tìm kiếm tuyến tính có độ phức tạp trung bình là $O(n)$.\n",
        "\n",
        "**d)** Nếu được triển khai tốt, tìm kiếm nhị phân không cần cấp phát thêm bộ nhớ mới."
      ]
    },
    {
      "cell_type": "markdown",
      "metadata": {
        "id": "01OY_2ftmgDe"
      },
      "source": [
        "## Question 2 (Câu hỏi 2)"
      ]
    },
    {
      "cell_type": "markdown",
      "metadata": {
        "id": "M8cGArSpmgDe"
      },
      "source": [
        "Implement binary search using iteration."
      ]
    },
    {
      "cell_type": "markdown",
      "metadata": {
        "id": "79bfdd98"
      },
      "source": [
        "Hãy triển khai thuật toán tìm kiếm nhị phân sử dụng vòng lặp."
      ]
    },
    {
      "cell_type": "code",
      "execution_count": null,
      "metadata": {
        "id": "COJkPXUSmgDf"
      },
      "outputs": [],
      "source": [
        "def binary_search_iterative(arr, v):\n",
        "  \"\"\"Searches a sorted list of integers arr for a value v.\n",
        "\n",
        "  Returns the index i at which arr[i] == v, or -1 if no such i exists.\n",
        "  \"\"\"\n",
        "  # TODO(you): Implement\n",
        "  l = 0\n",
        "  r = len(arr)\n",
        "  while (l <= r):\n",
        "    mid = (l + r)//2\n",
        "    if (arr[mid] == v):\n",
        "      return mid\n",
        "    elif (arr[mid] < v):\n",
        "      l = mid + 1\n",
        "    else:\n",
        "      r = mid - 1\n",
        "\n",
        "  return -1"
      ]
    },
    {
      "cell_type": "markdown",
      "metadata": {
        "id": "DXARd6nrmgDf"
      },
      "source": [
        "### Hint (Gợi ý)"
      ]
    },
    {
      "cell_type": "markdown",
      "metadata": {
        "id": "Rhrni3edmgDf"
      },
      "source": [
        "Use the following code scaffolding."
      ]
    },
    {
      "cell_type": "markdown",
      "metadata": {
        "id": "6083bd80"
      },
      "source": [
        "Hãy sử dụng khung mã dưới đây."
      ]
    },
    {
      "cell_type": "code",
      "execution_count": null,
      "metadata": {
        "id": "z9qvW10cmgDg"
      },
      "outputs": [],
      "source": [
        "def binary_search_iterative(arr, v):\n",
        "  \"\"\"Searches a sorted list of integers arr for a value v.\n",
        "\n",
        "  Returns the index i at which arr[i] == v, or -1 if no such i exists.\n",
        "  \"\"\"\n",
        "  # These values describe the indices of the array to be searched. This is\n",
        "  # initialized as the entire array.\n",
        "  low_index = 0\n",
        "  high_index = len(arr) # This can also be len(arr) - 1.\n",
        "\n",
        "  # Calculate the middle index of the search array.\n",
        "  while low_index <= high_index:\n",
        "    middle_index = # TODO(you): Complete\n",
        "    middle_value = arr[middle_index]\n",
        "\n",
        "    # If the middle value is less than the search value, the right array becomes\n",
        "    # the new search array.\n",
        "    if middle_value < v:\n",
        "      # TODO(you): Complete\n",
        "    # If the middle value is greater than the search value, the left array\n",
        "    # becomes the new search array.\n",
        "    elif middle_value > v:\n",
        "      # TODO(you): Complete\n",
        "    # If the middle value equals the search value, the search is done. Exit the\n",
        "    # loop and return the index.\n",
        "    else:\n",
        "      # TODO(you): Complete\n",
        "\n",
        "  return -1"
      ]
    },
    {
      "cell_type": "markdown",
      "metadata": {
        "id": "AMhHF53MmgDg"
      },
      "source": [
        "### Unit Tests (Kiểm thử đơn vị)\n",
        "\n",
        "Run the following cell to check your answer against some unit tests."
      ]
    },
    {
      "cell_type": "code",
      "execution_count": null,
      "metadata": {
        "id": "T-55XJ2EmgDg"
      },
      "outputs": [],
      "source": [
        "print(binary_search_iterative([1, 2, 3, 5, 6, 8, 9], 2))\n",
        "# Should print: 1\n",
        "\n",
        "print(binary_search_iterative([1, 3, 5, 6, 8, 9], 7))\n",
        "# Should print: -1"
      ]
    },
    {
      "cell_type": "markdown",
      "metadata": {
        "id": "pOeiqJShmgDg"
      },
      "source": [
        "### Solution (Lời giải)"
      ]
    },
    {
      "cell_type": "code",
      "execution_count": null,
      "metadata": {
        "id": "wXn1wu_ymgDg"
      },
      "outputs": [],
      "source": [
        "def binary_search_iterative(arr, v):\n",
        "  \"\"\"Searches a sorted list of integers arr for a value v.\n",
        "\n",
        "  Returns the index i at which arr[i] == v, or -1 if no such i exists.\n",
        "  \"\"\"\n",
        "  # These values describe the indices of the array to be searched. This is\n",
        "  # initialized as the entire array.\n",
        "  low_index = 0\n",
        "  high_index = len(arr) # This can also be len(arr) - 1.\n",
        "\n",
        "  # Calculate the middle index of the search array.\n",
        "  while low_index <= high_index:\n",
        "    middle_index = (high_index + low_index) // 2\n",
        "    middle_value = arr[middle_index]\n",
        "\n",
        "    # If the middle value is less than the search value, the right array becomes\n",
        "    # the new search array.\n",
        "    if middle_value < v:\n",
        "      low_index = middle_index + 1\n",
        "    # If the middle value is greater than the search value, the left array\n",
        "    # becomes the new search array.\n",
        "    elif middle_value > v:\n",
        "      high_index = middle_index - 1\n",
        "    # If the middle value equals the search value, the search is done. Exit the\n",
        "    # loop and return the index.\n",
        "    else:\n",
        "      return middle_index\n",
        "\n",
        "  return -1"
      ]
    },
    {
      "cell_type": "markdown",
      "metadata": {
        "id": "TLPu92wzmgDh"
      },
      "source": [
        "## Question 3 (Câu hỏi 3)"
      ]
    },
    {
      "cell_type": "markdown",
      "metadata": {
        "id": "aIK_lIccmgDh"
      },
      "source": [
        "What is the best case time complexity of binary search? When does this occur?"
      ]
    },
    {
      "cell_type": "markdown",
      "metadata": {
        "id": "00791c51"
      },
      "source": [
        "Độ phức tạp thời gian tốt nhất của tìm kiếm nhị phân là gì? Khi nào thì điều này xảy ra?"
      ]
    },
    {
      "cell_type": "code",
      "execution_count": null,
      "metadata": {
        "id": "Ld6ezEPUmgDh"
      },
      "outputs": [],
      "source": [
        "#freetext"
      ]
    },
    {
      "cell_type": "markdown",
      "metadata": {
        "id": "EOZPFAXNmgDi"
      },
      "source": [
        "### Solution (Lời giải)"
      ]
    },
    {
      "cell_type": "markdown",
      "metadata": {
        "id": "_pQ9hbCDmgDi"
      },
      "source": [
        "The best case occurs when the `middle_value` of the first iteration is equal to the search value. In this case, the algorithm succeeds in only one iteration, so the best case time complexity is $O(1)$."
      ]
    },
    {
      "cell_type": "markdown",
      "metadata": {
        "id": "8f1174cf"
      },
      "source": [
        "Trường hợp tốt nhất xảy ra khi `middle_value` của lần lặp đầu tiên bằng với giá trị cần tìm. Khi đó, thuật toán thành công chỉ sau một lần lặp, nên độ phức tạp thời gian tốt nhất là $O(1)$."
      ]
    }
  ],
  "metadata": {
    "colab": {
      "name": "bubble_sort.ipynb",
      "private_outputs": true,
      "provenance": []
    },
    "kernelspec": {
      "display_name": "Python 3",
      "name": "python3"
    }
  },
  "nbformat": 4,
  "nbformat_minor": 0
}