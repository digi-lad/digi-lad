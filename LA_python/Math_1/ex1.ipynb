{
  "cells": [
    {
      "cell_type": "code",
      "execution_count": 1,
      "id": "19b28523",
      "metadata": {
        "id": "19b28523",
        "outputId": "c16b9b17-8608-4277-d439-ca733e1aa885",
        "colab": {
          "base_uri": "https://localhost:8080/"
        }
      },
      "outputs": [
        {
          "output_type": "stream",
          "name": "stdout",
          "text": [
            "Libraries imported successfully\n",
            "NumPy version: 2.0.2\n"
          ]
        }
      ],
      "source": [
        "# Import required libraries\n",
        "import numpy as np\n",
        "import warnings\n",
        "warnings.filterwarnings('ignore')\n",
        "\n",
        "# Set random seed for reproducibility\n",
        "np.random.seed(42)\n",
        "\n",
        "print(\"Libraries imported successfully\")\n",
        "print(f\"NumPy version: {np.__version__}\")\n"
      ]
    },
    {
      "cell_type": "markdown",
      "id": "e27d8e46",
      "metadata": {
        "id": "e27d8e46"
      },
      "source": [
        "# Exercise 1: Matrices Fundamentals and Linear Transformations - Theory and Implementation\n",
        "\n",
        "\n",
        "---\n",
        "\n",
        "## Part 1: Matrix Basics\n",
        "\n",
        "### 1.1: Creating Matrices\n",
        "\n",
        "- Create a $2 \\times 3$ matrix and a $3 \\times 2$ matrix using Python lists and numpy."
      ]
    },
    {
      "cell_type": "code",
      "execution_count": 2,
      "id": "24da00ec",
      "metadata": {
        "id": "24da00ec",
        "outputId": "6ae3965a-183c-4dcc-fbc4-a6201972204f",
        "colab": {
          "base_uri": "https://localhost:8080/"
        }
      },
      "outputs": [
        {
          "output_type": "stream",
          "name": "stdout",
          "text": [
            "A (Lists):\n",
            " [[1, 2, 3], [4, 5, 6]]\n",
            "B (Lists):\n",
            " [[7, 8], [9, 10], [11, 12]]\n",
            "A (NumPy):\n",
            " [[1 2 3]\n",
            " [4 5 6]]\n",
            "B (NumPy):\n",
            " [[ 7  8]\n",
            " [ 9 10]\n",
            " [11 12]]\n"
          ]
        }
      ],
      "source": [
        "# From scratch\n",
        "A = [[1, 2, 3], [4, 5, 6]]\n",
        "B = [[7, 8], [9, 10], [11, 12]]\n",
        "print(\"A (Lists):\\n\", A)\n",
        "print(\"B (Lists):\\n\", B)\n",
        "\n",
        "# Using NumPy\n",
        "A_np = np.array([[1, 2, 3], [4, 5, 6]])\n",
        "B_np = np.array([[7, 8], [9, 10], [11, 12]])\n",
        "print(\"A (NumPy):\\n\", A_np)\n",
        "print(\"B (NumPy):\\n\", B_np)"
      ]
    },
    {
      "cell_type": "markdown",
      "id": "004e2ddd",
      "metadata": {
        "id": "004e2ddd"
      },
      "source": [
        "## Part 2: Matrix Operations\n",
        "\n",
        "### 2.1: Matrix Addition and Subtraction\n",
        "\n",
        "**Definition:**\n",
        "Given two matrices $A, B \\in \\mathbb{R}^{m \\times n}$, their sum $C = A + B$ is defined as:\n",
        "$$\n",
        "C_{ij} = A_{ij} + B_{ij} \\quad \\forall\\, 1 \\leq i \\leq m,\\ 1 \\leq j \\leq n\n",
        "$$\n",
        "\n",
        "- Implement matrix addition from scratch (using lists) and NumPy.\n",
        "- What happens if the shapes do not match? Try it and explain."
      ]
    },
    {
      "cell_type": "code",
      "execution_count": 13,
      "id": "c90d03db",
      "metadata": {
        "id": "c90d03db",
        "outputId": "903e9306-de38-47ac-e4bf-12db64eb6fdc",
        "colab": {
          "base_uri": "https://localhost:8080/"
        }
      },
      "outputs": [
        {
          "output_type": "stream",
          "name": "stdout",
          "text": [
            "A + B (from scratch): [[15, 22, 34], [41, 58, 66]]\n",
            "A + B (NumPy): [[15 22 34]\n",
            " [41 58 66]]\n"
          ]
        }
      ],
      "source": [
        "# From scratch\n",
        "def matrix_add(A, B):\n",
        "    # TODO: YOUR IMPLEMENTATION HERE\n",
        "    C = [[0]*len(A[0]) for i in range(len(A))]\n",
        "\n",
        "    for i in range(len(A)):\n",
        "        for j in range(len(A[0])):\n",
        "            C[i][j] = A[i][j] + B[i][j]\n",
        "\n",
        "    return C\n",
        "\n",
        "\n",
        "# Test with A and another 2x3 matrix\n",
        "A = [[5, 2, 4], [1, 8, 6]]\n",
        "B = [[10, 20, 30], [40, 50, 60]]\n",
        "\n",
        "print(\"A + B (from scratch):\", matrix_add(A, B))\n",
        "\n",
        "# NumPy\n",
        "print(\"A + B (NumPy):\", np.array(A) + np.array(B))"
      ]
    },
    {
      "cell_type": "markdown",
      "id": "6dd54dcc",
      "metadata": {
        "id": "6dd54dcc"
      },
      "source": [
        "### 2.2: Matrix Scalars Multiplication\n",
        "**Definition:**\n",
        "Given a scalar $\\lambda \\in \\mathbb{R}$ and a matrix $A \\in \\mathbb{R}^{m \\times n}$, the scalar multiplication $\\lambda A$ is defined as:\n",
        "$$\n",
        "(\\lambda A)_{ij} = \\lambda \\cdot A_{ij} \\quad \\forall\\, 1 \\leq i \\leq m,\\ 1 \\leq j \\leq n\n",
        "$$\n",
        "\n",
        "- Multiply a matrix by a scalar using lists, NumPy.\n"
      ]
    },
    {
      "cell_type": "code",
      "execution_count": 14,
      "id": "199e0c29",
      "metadata": {
        "id": "199e0c29",
        "outputId": "120ab001-c995-4a00-f6ff-6345e874d05a",
        "colab": {
          "base_uri": "https://localhost:8080/"
        }
      },
      "outputs": [
        {
          "output_type": "stream",
          "name": "stdout",
          "text": [
            "d.A (from scratch): [[30, 60, 90], [120, 150, 180]]\n",
            "d.A (NumPy): [[ 30  60  90]\n",
            " [120 150 180]]\n"
          ]
        }
      ],
      "source": [
        "# From scratch\n",
        "def matrix_scalar_mul(A, d):\n",
        "    # TODO: YOUR IMPLEMENTATION HERE\n",
        "    C = [[0]*len(A[0]) for i in range(len(A))]\n",
        "\n",
        "    for i in range(len(A)):\n",
        "        for j in range(len(A[0])):\n",
        "            C[i][j] = d * A[i][j]\n",
        "\n",
        "    return C\n",
        "\n",
        "\n",
        "# Test with A and a scalar\n",
        "d = 3\n",
        "A = [[10, 20, 30], [40, 50, 60]]\n",
        "print(\"d.A (from scratch):\", matrix_scalar_mul(A, 3))\n",
        "\n",
        "# NumPy\n",
        "print(\"d.A (NumPy):\", np.array(A) * d) # TODO: YOUR IMPLEMENTATION HERE. Hint: Use the * operator"
      ]
    },
    {
      "cell_type": "markdown",
      "id": "64f4a9af",
      "metadata": {
        "id": "64f4a9af"
      },
      "source": [
        "### 2.3: Matrix Transpose\n",
        "\n",
        "**Definition:**\n",
        "The **transpose** of a matrix $A \\in \\mathbb{R}^{m \\times n}$ is $A^T \\in \\mathbb{R}^{n \\times m}$, defined by:\n",
        "$$\n",
        "(A^T)_{ij} = A_{ji}\n",
        "$$\n",
        "\n",
        "- Write a function to transpose a matrix (List of Lists) and NumPy."
      ]
    },
    {
      "cell_type": "code",
      "execution_count": 17,
      "id": "9457f258",
      "metadata": {
        "id": "9457f258",
        "outputId": "a33ea6ff-80d4-48ee-ecda-3d3c16fca6d3",
        "colab": {
          "base_uri": "https://localhost:8080/"
        }
      },
      "outputs": [
        {
          "output_type": "stream",
          "name": "stdout",
          "text": [
            "Transpose of A (from scratch): [[4, 6, 9], [1, 2, 6]]\n",
            "Transpose of A (NumPy):\n",
            " [[4 6 9]\n",
            " [1 2 6]]\n"
          ]
        }
      ],
      "source": [
        "# From scratch\n",
        "def transpose(A):\n",
        "    C = [[0 for j in range(len(A))] for i in range(len(A[0]))]\n",
        "\n",
        "    for i in range(len(A)):\n",
        "        for j in range(len(A[0])):\n",
        "            C[j][i] = A[i][j]\n",
        "\n",
        "    return C\n",
        "\n",
        "A = [[4, 1], [6, 2], [9, 6]]\n",
        "A_np = np.array(A)\n",
        "print(\"Transpose of A (from scratch):\", transpose(A))\n",
        "print(\"Transpose of A (NumPy):\\n\", A_np.T)"
      ]
    },
    {
      "cell_type": "markdown",
      "id": "22be8ee5",
      "metadata": {
        "id": "22be8ee5"
      },
      "source": [
        "### 2.4: Matrix Multiplication\n",
        "\n",
        "**Definition:**\n",
        "Given $A \\in \\mathbb{R}^{m \\times n}$ and $B \\in \\mathbb{R}^{n \\times p}$, their product $C = AB \\in \\mathbb{R}^{m \\times p}$ is:\n",
        "$$\n",
        "C_{ij} = \\sum_{k=1}^{n} A_{ik} B_{kj}\n",
        "$$\n",
        "\n",
        "- Implement matrix multiplication from scratch and numpy\n",
        "- Try multiplying A and B, and B and A. What do you notice about the shapes?"
      ]
    },
    {
      "cell_type": "code",
      "execution_count": 19,
      "id": "6336fb68",
      "metadata": {
        "id": "6336fb68",
        "outputId": "ed52f0f9-b13f-4346-b222-50c11f34fa95",
        "colab": {
          "base_uri": "https://localhost:8080/"
        }
      },
      "outputs": [
        {
          "output_type": "stream",
          "name": "stdout",
          "text": [
            "A x B (from scratch): [[80, 130, 180], [140, 220, 300], [330, 480, 630]]\n",
            "A x B (NumPy):\n",
            " [[ 80 130 180]\n",
            " [140 220 300]\n",
            " [330 480 630]]\n"
          ]
        }
      ],
      "source": [
        "def matmul(A, B):\n",
        "    C = [[0 for j in range(len(B[0]))] for i in range(len(A))]\n",
        "    for i in range(len(A)):\n",
        "      for j in range(len(B[0])):\n",
        "        for k in range(len(A[0])):\n",
        "          C[i][j] += A[i][k] * B[k][j]\n",
        "\n",
        "    return C\n",
        "\n",
        "    pass\n",
        "\n",
        "A = [[4, 1], [6, 2], [9, 6]]\n",
        "B = [[10, 20, 30], [40, 50, 60]]\n",
        "A_np, B_np = np.array(A), np.array(B)\n",
        "print(\"A x B (from scratch):\", matmul(A, B))\n",
        "print(\"A x B (NumPy):\\n\", np.dot(A_np, B_np)) # TODO: YOUR IMPLEMENTATION HERE. Hint: Use np.dot"
      ]
    },
    {
      "cell_type": "markdown",
      "id": "3ed16411",
      "metadata": {
        "id": "3ed16411"
      },
      "source": [
        "- Matrix multiplication could also be done in numpy in other ways:\n"
      ]
    },
    {
      "cell_type": "code",
      "execution_count": null,
      "id": "5ae15b9f",
      "metadata": {
        "id": "5ae15b9f"
      },
      "outputs": [],
      "source": [
        "# 1. Using np.dot()\n",
        "print(\"np.dot(A, B):\\n\", np.dot(A, B))\n",
        "\n",
        "# 2. Using the @ operator (Python 3.5+)\n",
        "print(\"A @ B:\\n\", A @ B)\n",
        "\n",
        "# 3. Using np.matmul()\n",
        "print(\"np.matmul(A, B):\\n\", np.matmul(A, B))\n",
        "\n",
        "# 4. Using A.dot(B) method\n",
        "print(\"A.dot(B):\\n\", A.dot(B))"
      ]
    },
    {
      "cell_type": "markdown",
      "id": "16ce5c42",
      "metadata": {
        "id": "16ce5c42"
      },
      "source": [
        "### 2.5: Transpose of a Matrix Product\n",
        "\n",
        "**Definition:**\n",
        "This property states that, for matrices $A \\in \\mathbb{R}^{m \\times n}$ and $B \\in \\mathbb{R}^{n \\times p}$,\n",
        "$$\n",
        "(AB)^T = B^T A^T\n",
        "$$\n",
        "\n",
        "- Fill in the code below to verify this property using NumPy."
      ]
    },
    {
      "cell_type": "code",
      "execution_count": 20,
      "id": "9c646eb9",
      "metadata": {
        "id": "9c646eb9",
        "outputId": "fa7e453e-64a6-4010-9b72-8ec66b4a2070",
        "colab": {
          "base_uri": "https://localhost:8080/"
        }
      },
      "outputs": [
        {
          "output_type": "stream",
          "name": "stdout",
          "text": [
            "A:\n",
            " [[6 3 7]\n",
            " [4 6 9]]\n",
            "B:\n",
            " [[2 6]\n",
            " [7 4]\n",
            " [3 7]]\n",
            "Transpose of product property holds?\n",
            "(AB)^T [[ 54  77]\n",
            " [ 97 111]]\n",
            "B^T A^T [[ 54  77]\n",
            " [ 97 111]]\n"
          ]
        }
      ],
      "source": [
        "A = np.random.randint(0, 10, (2, 3))\n",
        "B = np.random.randint(0, 10, (3, 2))\n",
        "\n",
        "print(\"A:\\n\", A)\n",
        "print(\"B:\\n\", B)\n",
        "\n",
        "left_Term = np.dot(A, B).T  # TODO: IMPLEMENTATION HERE\n",
        "right_Term = np.dot(B.T, A.T) # TODO: IMPLEMENTATION HERE\n",
        "\n",
        "print(\"Transpose of product property holds?\")\n",
        "print(\"(AB)^T\", left_Term)\n",
        "print(\"B^T A^T\", right_Term)"
      ]
    },
    {
      "cell_type": "markdown",
      "id": "9b5e823c",
      "metadata": {
        "id": "9b5e823c"
      },
      "source": [
        "## Part 3: Vector Spaces, Linear Combinations, and Linear Transformations\n",
        "\n",
        "### 3.1: Linear Combination\n",
        "\n",
        "**Definition:**\n",
        "Given vectors $v_1, v_2, ..., v_k \\in V$ and scalars $a_1, ..., a_k \\in \\mathbb{R}$, a **linear combination** is:\n",
        "$$\n",
        "a_1 v_1 + a_2 v_2 + \\cdots + a_k v_k\n",
        "$$\n",
        "\n",
        "- Given $v_1 = [1, 2]$, $v_2 = [3, 4]$, compute $2v_1 - v_2$ using lists and NumPy."
      ]
    },
    {
      "cell_type": "code",
      "execution_count": 24,
      "id": "77687ff2",
      "metadata": {
        "id": "77687ff2",
        "outputId": "0e344504-08a6-4520-f5f6-54742c01048c",
        "colab": {
          "base_uri": "https://localhost:8080/"
        }
      },
      "outputs": [
        {
          "output_type": "stream",
          "name": "stdout",
          "text": [
            "2v1 - v2 (from scratch): [-1, 0]\n",
            "2v1 - v2 (NumPy): [-1  0]\n"
          ]
        }
      ],
      "source": [
        "# From scratch (lists)\n",
        "def linear_combination(v1, v2):\n",
        "    res = [0 for i in range(len(v1))]\n",
        "    for i in range(len(v1)):\n",
        "      res[i] = res[i] + 2*v1[i]\n",
        "    for i in range(len(v2)):\n",
        "      res[i] = res[i] - v2[i]\n",
        "\n",
        "    return res\n",
        "\n",
        "v1 = [1, 2]\n",
        "v2 = [3, 4]\n",
        "print(\"2v1 - v2 (from scratch):\", linear_combination(v1, v2))\n",
        "\n",
        "# Using NumPy\n",
        "v1_np = np.array(v1)\n",
        "v2_np = np.array(v2)\n",
        "print(\"2v1 - v2 (NumPy):\", 2*v1_np - v2_np) # TODO: YOUR IMPLEMENTATION HERE. Hint: Use * and - operators"
      ]
    },
    {
      "cell_type": "markdown",
      "id": "8628d7f7",
      "metadata": {
        "id": "8628d7f7"
      },
      "source": [
        "### 3.2: Linear Transformations\n",
        "\n",
        "**Definition:**\n",
        "A **linear transformation** $T: \\mathbb{R}^n \\to \\mathbb{R}^m$ is a function such that for all $u, v \\in \\mathbb{R}^n$ and $a, b \\in \\mathbb{R}$:\n",
        "$$\n",
        "T(a u + b v) = a T(u) + b T(v)\n",
        "$$\n",
        "Every linear transformation can be represented by a matrix $A$ such that $T(x) = Ax$.\n",
        "\n",
        "- **Task:** Implement a function that applies a matrix $A$ to a vector $v$ (i.e., computes $Av$) from scratch and NumPy."
      ]
    },
    {
      "cell_type": "code",
      "execution_count": 72,
      "id": "5b4dd733",
      "metadata": {
        "id": "5b4dd733",
        "outputId": "28baec56-bd68-4e42-8a9f-0c39c94ff05a",
        "colab": {
          "base_uri": "https://localhost:8080/"
        }
      },
      "outputs": [
        {
          "output_type": "stream",
          "name": "stdout",
          "text": [
            "Rotated vector (from scratch): [0 1]\n",
            "Rotated vector (NumPy): [0 1]\n"
          ]
        }
      ],
      "source": [
        "# From scratch\n",
        "def apply_matrix(A, v):\n",
        "    # TODO: Fill in to compute matrix-vector multiplication\n",
        "    v = np.array([v]).T\n",
        "    C = [[0 for j in range(len(v[0]))] for i in range(len(A))]\n",
        "    for i in range(len(A)):\n",
        "      for j in range(len(v[0])):\n",
        "        for k in range(len(A[0])):\n",
        "          C[i][j] += A[i][k] * v[k][j]\n",
        "\n",
        "    C = np.array(C).reshape(2)\n",
        "    return C\n",
        "\n",
        "\n",
        "# Example: 90 degree rotation in 2D\n",
        "R = [[0, -1],\n",
        "     [1, 0]]\n",
        "v = [1, 0]\n",
        "print(\"Rotated vector (from scratch):\", apply_matrix(R, v))\n",
        "\n",
        "# Using NumPy\n",
        "import numpy as np\n",
        "R_np = np.array(R)\n",
        "v_np = np.array(v)\n",
        "print(\"Rotated vector (NumPy):\", np.matmul(R_np, v_np)) # TODO: YOUR IMPLEMENTATION HERE. Hint: Just normal matmul"
      ]
    },
    {
      "cell_type": "markdown",
      "id": "0d4e351a",
      "metadata": {
        "id": "0d4e351a"
      },
      "source": [
        "**Definition:**  \n",
        "Any linear transformation $T: \\mathbb{R}^n \\to \\mathbb{R}^n$ can be represented by a matrix $A$ whose columns are the images of the standard basis vectors under $T$.  \n",
        "That is, if $e_1, e_2, ..., e_n$ are the standard basis vectors, then:\n",
        "$$\n",
        "A = \\begin{bmatrix} T(e_1) & T(e_2) & \\cdots & T(e_n) \\end{bmatrix}\n",
        "$$\n",
        "Applying $A$ to any vector $v$ gives $T(v)$.\n",
        "\n",
        "- **Task:**  \n",
        "Suppose we want a transformation $T$ such that for any vector $v = \\begin{bmatrix} a \\\\ b \\\\ c \\end{bmatrix}$,  \n",
        "$T\\left(\\begin{bmatrix}a\\\\b\\\\c\\end{bmatrix}\\right) = \\begin{bmatrix}a + b\\\\a + c\\\\b + c\\end{bmatrix}$.\n",
        "\n",
        "Fill in the code to construct the transformation matrix $A$ and verify that it works for any 3-dimensional vector $v$."
      ]
    },
    {
      "cell_type": "code",
      "execution_count": 74,
      "id": "b0215cd2",
      "metadata": {
        "id": "b0215cd2",
        "outputId": "d3fdcd70-8f66-4d0a-af7f-6d826c443092",
        "colab": {
          "base_uri": "https://localhost:8080/"
        }
      },
      "outputs": [
        {
          "output_type": "stream",
          "name": "stdout",
          "text": [
            "e1 After Transformation [1 1 0]\n",
            "e2 After Transformation [1 0 1]\n",
            "e3 After Transformation [0 1 1]\n",
            "Vector v After Transformation [5 6 7]\n"
          ]
        }
      ],
      "source": [
        "# TODO: Fill in the transformation matrix A so that A @ [a, b, c] = [a + b, a + c, b + c]\n",
        "A = np.array([[1, 1, 0],\n",
        "             [1, 0, 1],\n",
        "             [0, 1, 1]])  # Should be a 3x3 matrix\n",
        "\n",
        "# TODO: Fill in the basis vectors e1, e2, e3\n",
        "e1 = np.array([1, 0, 0])\n",
        "e2 = np.array([0, 1, 0])\n",
        "e3 = np.array([0, 0, 1])\n",
        "\n",
        "print(\"e1 After Transformation\", np.matmul(A, e1))  # TODO: Test the transformation with basis vector e1\n",
        "print(\"e2 After Transformation\", np.matmul(A, e2))  # TODO: Test the transformation with basis vector e2\n",
        "print(\"e3 After Transformation\", np.matmul(A, e3))  # TODO: Test the transformation with basis vector e3\n",
        "\n",
        "# Test the transformation on another vector, e.g., v = [2, 3, 4]\n",
        "v = np.array([2, 3, 4])\n",
        "print(\"Vector v After Transformation\", np.matmul(A, v)) # TODO: Test the transformation with some vector v"
      ]
    },
    {
      "cell_type": "markdown",
      "id": "551fcb58",
      "metadata": {
        "id": "551fcb58"
      },
      "source": [
        "### 3.3: Inner Product\n",
        "\n",
        "**Definition:**  \n",
        "The **inner product** (also called the dot product) of two vectors $u, v \\in \\mathbb{R}^n$ is defined as:\n",
        "$$\n",
        "\\langle u, v \\rangle = u_1 v_1 + u_2 v_2 + \\cdots + u_n v_n = \\sum_{i=1}^n u_i v_i\n",
        "$$\n",
        "\n",
        "- **Task:** Implement the inner product of two vectors from scratch, and then see how it is done using NumPy."
      ]
    },
    {
      "cell_type": "code",
      "execution_count": 76,
      "id": "de2625c2",
      "metadata": {
        "id": "de2625c2",
        "outputId": "3670eeea-2be2-4d31-dda3-f786aa732217",
        "colab": {
          "base_uri": "https://localhost:8080/"
        }
      },
      "outputs": [
        {
          "output_type": "stream",
          "name": "stdout",
          "text": [
            "Inner product (from scratch): 32\n",
            "Inner product (NumPy): 32\n"
          ]
        }
      ],
      "source": [
        "# From scratch\n",
        "def inner_product(u, v):\n",
        "    res = 0\n",
        "    for i in range(len(u)):\n",
        "      res = res + u[i]*v[i]\n",
        "\n",
        "    return res\n",
        "\n",
        "u = [1, 2, 3]\n",
        "v = [4, 5, 6]\n",
        "print(\"Inner product (from scratch):\", inner_product(u, v))\n",
        "\n",
        "# Using NumPy\n",
        "u_np = np.array(u)\n",
        "v_np = np.array(v)\n",
        "print(\"Inner product (NumPy):\", np.dot(u_np, v_np)) # TODO: Fill in your code here. Hint: use np.dot"
      ]
    },
    {
      "cell_type": "markdown",
      "id": "4857a315",
      "metadata": {
        "id": "4857a315"
      },
      "source": [
        "## Part 4: Some Important Square Matrices\n",
        "\n",
        "### 4.1: Diagonal Matrices\n",
        "\n",
        "**Definition:**  \n",
        "A **diagonal matrix** is a square matrix where all off-diagonal elements are zero. That is, $D_{ij} = 0$ for all $i \\neq j$.\n",
        "\n",
        "**Power Property:**  \n",
        "For a diagonal matrix $D$, raising it to the $k$-th power is the same as raising each diagonal entry to the $k$-th power:\n",
        "$$\n",
        "D^k = \\text{diag}(d_1^k, d_2^k, \\ldots, d_n^k)\n",
        "$$\n",
        "\n",
        "- **Task:** Fill in the code to verify the power property for diagonal matrices."
      ]
    },
    {
      "cell_type": "code",
      "execution_count": null,
      "id": "3bcc7172",
      "metadata": {
        "id": "3bcc7172",
        "outputId": "d4d9d287-d740-4147-fad8-0638c7a5ea92"
      },
      "outputs": [
        {
          "name": "stdout",
          "output_type": "stream",
          "text": [
            "Power property holds? True\n"
          ]
        }
      ],
      "source": [
        "D = np.diag([2, 3, 4])\n",
        "k = 3\n",
        "\n",
        "# TODO: Fill in to verify the power property for diagonal matrices\n",
        "left = None  # D raised to the power k\n",
        "right = None # diag([2**k, 3**k, 4**k])\n",
        "print(\"Power property holds?\", np.allclose(left, right)) # allclose checks if two matrices are equal"
      ]
    },
    {
      "cell_type": "markdown",
      "id": "c61d91a6",
      "metadata": {
        "id": "c61d91a6"
      },
      "source": [
        "### 4.2: Orthogonal Matrices\n",
        "\n",
        "**Definition:**  \n",
        "A square matrix $Q$ is **orthogonal** if $Q^T Q = Q Q^T = I$, where $I$ is the identity matrix. This means the columns (and rows) of $Q$ are orthonormal vectors.\n",
        "\n",
        "- **Task:** Fill in the code to verify whether a given matrix is orthogonal."
      ]
    },
    {
      "cell_type": "code",
      "execution_count": null,
      "id": "38cef293",
      "metadata": {
        "id": "38cef293",
        "outputId": "74d7f1e0-0224-4c45-bb51-f50fe36a934f"
      },
      "outputs": [
        {
          "name": "stdout",
          "output_type": "stream",
          "text": [
            "Is Q orthogonal? True\n"
          ]
        }
      ],
      "source": [
        "Q = np.array([[0, 1], [1, 0]])  # Example: permutation matrix\n",
        "\n",
        "# TODO: Fill in to check if Q is orthogonal\n",
        "is_orthogonal = None  #Hint: Use np.allclose, np.eye\n",
        "print(\"Is Q orthogonal?\", is_orthogonal)"
      ]
    },
    {
      "cell_type": "markdown",
      "id": "721f22e0",
      "metadata": {
        "id": "721f22e0"
      },
      "source": [
        "### 4.3: Symmetric Matrices\n",
        "\n",
        "**Definition:**  \n",
        "A matrix $A$ is **symmetric** if $A = A^T$.\n",
        "- **Task:** Fill in the code to verify whether a given matrix is symmetric."
      ]
    },
    {
      "cell_type": "code",
      "execution_count": null,
      "id": "7573460e",
      "metadata": {
        "id": "7573460e",
        "outputId": "826d5a4c-3312-42c4-f635-79be4f972c02"
      },
      "outputs": [
        {
          "name": "stdout",
          "output_type": "stream",
          "text": [
            "Is A symmetric? True\n"
          ]
        }
      ],
      "source": [
        "A = np.array([[1, 2, 3], [2, 5, 6], [3, 6, 9]])\n",
        "\n",
        "# TODO: Fill in to check if A is symmetric\n",
        "is_symmetric = None  # Use np.allclose, which checks if 2 matrices are equal\n",
        "print(\"Is A symmetric?\", is_symmetric)"
      ]
    }
  ],
  "metadata": {
    "kernelspec": {
      "display_name": "Python 3",
      "language": "python",
      "name": "python3"
    },
    "language_info": {
      "codemirror_mode": {
        "name": "ipython",
        "version": 3
      },
      "file_extension": ".py",
      "mimetype": "text/x-python",
      "name": "python",
      "nbconvert_exporter": "python",
      "pygments_lexer": "ipython3",
      "version": "3.13.1"
    },
    "colab": {
      "provenance": []
    }
  },
  "nbformat": 4,
  "nbformat_minor": 5
}