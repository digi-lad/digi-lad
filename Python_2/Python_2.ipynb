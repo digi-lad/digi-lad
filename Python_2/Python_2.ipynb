{
  "cells": [
    {
      "cell_type": "markdown",
      "metadata": {
        "id": "7WZyA25lOScN"
      },
      "source": [
        "# Introduction to Numpy and Matplotlib (giới thiệu Numpy và Matplotlib)\n",
        "\n",
        "Authors: Khanh Vu (UCI), Duc Hoang (MIT), Trinh Chau, Thien Bui, Trung Pham. Adapted from: Mathieu Blondel."
      ]
    },
    {
      "cell_type": "markdown",
      "metadata": {
        "id": "6X4WJo3iM6m9"
      },
      "source": [
        "# NumPy"
      ]
    },
    {
      "cell_type": "markdown",
      "metadata": {
        "id": "_H3bNbLloXCY"
      },
      "source": [
        "NumPy is a popular library for storing arrays of numbers and performing computations on them. Not only this enables to write often more succint code, this also makes the code faster, since most NumPy routines are implemented in C for speed."
      ]
    },
    {
      "cell_type": "markdown",
      "metadata": {
        "id": "M7tI3XLhqwSX"
      },
      "source": [
        "To use NumPy in your program, you need to import it as follows"
      ]
    },
    {
      "cell_type": "markdown",
      "metadata": {
        "id": "n_3vTNTiPMSs"
      },
      "source": [
        "NumPy là một thư viện phổ biến để lưu trữ mảng số và thực hiện các phép tính trên chúng. Không chỉ giúp viết code ngắn gọn hơn, mà còn làm cho code chạy nhanh hơn, vì hầu hết các hàm của NumPy được triển khai bằng ngôn ngữ C để tăng tốc độ. Để sử dụng NumPy trong chương trình của bạn, bạn cần nhập nó như sau:"
      ]
    },
    {
      "cell_type": "code",
      "execution_count": 3,
      "metadata": {
        "id": "phSPPyfyq2gX"
      },
      "outputs": [],
      "source": [
        "import numpy as np"
      ]
    },
    {
      "cell_type": "markdown",
      "metadata": {
        "id": "9secCfFLNHEE"
      },
      "source": [
        "## Array creation / Tạo mảng\n",
        "\n"
      ]
    },
    {
      "cell_type": "markdown",
      "metadata": {
        "id": "LSS2wEnkq97n"
      },
      "source": [
        "NumPy arrays can be created from Python lists"
      ]
    },
    {
      "cell_type": "markdown",
      "metadata": {
        "id": "hkBFtduqP2RX"
      },
      "source": [
        "Mảng NumPy có thể được tạo từ danh sách trong Python."
      ]
    },
    {
      "cell_type": "code",
      "execution_count": 4,
      "metadata": {
        "colab": {
          "base_uri": "https://localhost:8080/"
        },
        "id": "Hfeg286yrLvJ",
        "outputId": "b6bdde51-fef0-48ab-9814-b8a1f787b904"
      },
      "outputs": [
        {
          "output_type": "execute_result",
          "data": {
            "text/plain": [
              "array([1, 2, 3])"
            ]
          },
          "metadata": {},
          "execution_count": 4
        }
      ],
      "source": [
        "my_array = np.array([1, 2, 3])\n",
        "my_array"
      ]
    },
    {
      "cell_type": "markdown",
      "metadata": {
        "id": "Sy2EvrxFriAG"
      },
      "source": [
        "NumPy supports array of arbitrary dimension. For example, we can create two-dimensional arrays (e.g. to store a matrix) as follows"
      ]
    },
    {
      "cell_type": "markdown",
      "metadata": {
        "id": "pQTcETJPP35C"
      },
      "source": [
        "NumPy hỗ trợ mảng với số chiều tùy ý. Ví dụ, chúng ta có thể tạo mảng hai chiều (chẳng hạn để lưu trữ ma trận) như sau:"
      ]
    },
    {
      "cell_type": "code",
      "execution_count": 5,
      "metadata": {
        "colab": {
          "base_uri": "https://localhost:8080/"
        },
        "id": "wM-GYVMsrzNs",
        "outputId": "5b19f54a-74d1-4db0-cbb7-468bc79c1a12"
      },
      "outputs": [
        {
          "output_type": "execute_result",
          "data": {
            "text/plain": [
              "array([[1, 2, 3],\n",
              "       [4, 5, 6]])"
            ]
          },
          "metadata": {},
          "execution_count": 5
        }
      ],
      "source": [
        "my_2d_array = np.array([[1, 2, 3], [4, 5, 6]])\n",
        "my_2d_array"
      ]
    },
    {
      "cell_type": "markdown",
      "metadata": {
        "id": "-kZMzYsAsVAc"
      },
      "source": [
        "We can access individual elements of a 2d-array using two indices"
      ]
    },
    {
      "cell_type": "markdown",
      "metadata": {
        "id": "y89QPhsjQBmV"
      },
      "source": [
        "Chúng ta có thể truy cập từng phần tử của mảng 2 chiều bằng cách sử dụng hai chỉ số."
      ]
    },
    {
      "cell_type": "code",
      "execution_count": 6,
      "metadata": {
        "colab": {
          "base_uri": "https://localhost:8080/"
        },
        "id": "4q8X86BbscPd",
        "outputId": "f399653a-df75-4ce9-a6fe-dca11afaf4e0"
      },
      "outputs": [
        {
          "output_type": "execute_result",
          "data": {
            "text/plain": [
              "np.int64(6)"
            ]
          },
          "metadata": {},
          "execution_count": 6
        }
      ],
      "source": [
        "my_2d_array[1, 2]"
      ]
    },
    {
      "cell_type": "markdown",
      "metadata": {
        "id": "OfVIKyxkTh0p"
      },
      "source": [
        "We can also access rows"
      ]
    },
    {
      "cell_type": "markdown",
      "metadata": {
        "id": "valRkSjgQHvq"
      },
      "source": [
        "Ngoài ra, chúng ta cũng có thể truy cập các hàng"
      ]
    },
    {
      "cell_type": "code",
      "execution_count": 7,
      "metadata": {
        "colab": {
          "base_uri": "https://localhost:8080/"
        },
        "id": "CrKnDAtyTlYe",
        "outputId": "5eb732e1-0c9a-40a8-8e99-a3fa31eb10da"
      },
      "outputs": [
        {
          "output_type": "execute_result",
          "data": {
            "text/plain": [
              "array([4, 5, 6])"
            ]
          },
          "metadata": {},
          "execution_count": 7
        }
      ],
      "source": [
        "my_2d_array[1]"
      ]
    },
    {
      "cell_type": "markdown",
      "metadata": {
        "id": "hskLBCp9ToCG"
      },
      "source": [
        "and columns"
      ]
    },
    {
      "cell_type": "markdown",
      "metadata": {
        "id": "gibP3XZuQQsf"
      },
      "source": [
        "và cột"
      ]
    },
    {
      "cell_type": "code",
      "execution_count": 8,
      "metadata": {
        "colab": {
          "base_uri": "https://localhost:8080/"
        },
        "id": "MOOFsLHhTozX",
        "outputId": "c2bea7f6-d894-4a83-8d58-8b19ccbbe6d5"
      },
      "outputs": [
        {
          "output_type": "execute_result",
          "data": {
            "text/plain": [
              "array([3, 6])"
            ]
          },
          "metadata": {},
          "execution_count": 8
        }
      ],
      "source": [
        "my_2d_array[:, 2]"
      ]
    },
    {
      "cell_type": "markdown",
      "metadata": {
        "id": "keWK_5PHr9Q2"
      },
      "source": [
        "Arrays have a `shape` attribute"
      ]
    },
    {
      "cell_type": "markdown",
      "metadata": {
        "id": "5clUc-TBQoSU"
      },
      "source": [
        "Mảng có thuộc tính hình dạng (shape)"
      ]
    },
    {
      "cell_type": "code",
      "execution_count": 9,
      "metadata": {
        "colab": {
          "base_uri": "https://localhost:8080/"
        },
        "id": "5QIo7l1Yr8m7",
        "outputId": "2cd85479-d971-4653-d438-008e629628ef"
      },
      "outputs": [
        {
          "output_type": "stream",
          "name": "stdout",
          "text": [
            "(3,)\n",
            "(2, 3)\n"
          ]
        }
      ],
      "source": [
        "print(my_array.shape)\n",
        "print(my_2d_array.shape)"
      ]
    },
    {
      "cell_type": "markdown",
      "metadata": {
        "id": "LmX0EDWVsoDY"
      },
      "source": [
        "Contrary to Python lists, NumPy arrays must have a type and all elements of the array must have the same type."
      ]
    },
    {
      "cell_type": "markdown",
      "metadata": {
        "id": "xEPqNcUoQxT_"
      },
      "source": [
        "Khác với danh sách (list) trong Python, các mảng NumPy phải có một kiểu dữ liệu cố định và tất cả các phần tử trong mảng phải có cùng một kiểu dữ liệu"
      ]
    },
    {
      "cell_type": "code",
      "execution_count": 10,
      "metadata": {
        "colab": {
          "base_uri": "https://localhost:8080/"
        },
        "id": "FZjOowkls57o",
        "outputId": "8f6c4d13-f20f-40fe-db2b-49934219386b"
      },
      "outputs": [
        {
          "output_type": "execute_result",
          "data": {
            "text/plain": [
              "dtype('int64')"
            ]
          },
          "metadata": {},
          "execution_count": 10
        }
      ],
      "source": [
        "my_array.dtype"
      ]
    },
    {
      "cell_type": "markdown",
      "metadata": {
        "id": "i5AvLdf7tGnZ"
      },
      "source": [
        "The main types are `int32` (32-bit integers), `int64` (64-bit integers), `float32` (32-bit real values) and `float64` (64-bit real values)."
      ]
    },
    {
      "cell_type": "markdown",
      "metadata": {
        "id": "w8ym2qZCt9Nm"
      },
      "source": [
        "The `dtype` can be specified when creating the array"
      ]
    },
    {
      "cell_type": "markdown",
      "metadata": {
        "id": "3YqDXPAmQ2wO"
      },
      "source": [
        "Các kiểu dữ liệu chính bao gồm int32 (số nguyên 32-bit), int64 (số nguyên 64-bit), float32 (số thực 32-bit) và float64 (số thực 64-bit). Kiểu dữ liệu (dtype) có thể được chỉ định khi tạo mảng."
      ]
    },
    {
      "cell_type": "code",
      "execution_count": 11,
      "metadata": {
        "colab": {
          "base_uri": "https://localhost:8080/"
        },
        "id": "gXpM_FqruCVv",
        "outputId": "312320c7-4b7d-4a38-98de-0ec717612658"
      },
      "outputs": [
        {
          "output_type": "execute_result",
          "data": {
            "text/plain": [
              "dtype('float64')"
            ]
          },
          "metadata": {},
          "execution_count": 11
        }
      ],
      "source": [
        "my_array = np.array([1, 2, 3], dtype=np.float64)\n",
        "my_array.dtype"
      ]
    },
    {
      "cell_type": "markdown",
      "metadata": {
        "id": "WueaRIONuTdS"
      },
      "source": [
        "We can create arrays of all zeros using"
      ]
    },
    {
      "cell_type": "markdown",
      "metadata": {
        "id": "kgAJYpy6RCBP"
      },
      "source": [
        "Chúng ta có thể tạo mảng chứa toàn số 0 bằng"
      ]
    },
    {
      "cell_type": "code",
      "execution_count": 41,
      "metadata": {
        "colab": {
          "base_uri": "https://localhost:8080/"
        },
        "id": "jbD8N1UauK8r",
        "outputId": "f1e6b7bc-7563-4b83-a486-c2336db8452f"
      },
      "outputs": [
        {
          "output_type": "execute_result",
          "data": {
            "text/plain": [
              "array([[0., 0., 0.],\n",
              "       [0., 0., 0.]])"
            ]
          },
          "metadata": {},
          "execution_count": 41
        }
      ],
      "source": [
        "zero_array = np.zeros((2, 3))\n",
        "zero_array"
      ]
    },
    {
      "cell_type": "markdown",
      "metadata": {
        "id": "vn5go6qoudo4"
      },
      "source": [
        "and similarly for all ones using `ones` instead of `zeros`."
      ]
    },
    {
      "cell_type": "markdown",
      "metadata": {
        "id": "3jQXHztwQ_RA"
      },
      "source": [
        "và tương tự, tạo mảng chứa toàn số 1 bằng ones thay vì zeros."
      ]
    },
    {
      "cell_type": "markdown",
      "metadata": {
        "id": "1kCRlhLJuvZ6"
      },
      "source": [
        "We can create a range of values using"
      ]
    },
    {
      "cell_type": "markdown",
      "metadata": {
        "id": "ARW9EKEaROfb"
      },
      "source": [
        "Chúng ta cũng có thể tạo một dãy giá trị bằng cách sử dụng"
      ]
    },
    {
      "cell_type": "code",
      "execution_count": 13,
      "metadata": {
        "colab": {
          "base_uri": "https://localhost:8080/"
        },
        "id": "EcQXDeEmuxpO",
        "outputId": "764d4f1b-b364-4eb6-8f68-419437ed969d"
      },
      "outputs": [
        {
          "output_type": "execute_result",
          "data": {
            "text/plain": [
              "array([0, 1, 2, 3, 4])"
            ]
          },
          "metadata": {},
          "execution_count": 13
        }
      ],
      "source": [
        "np.arange(5)"
      ]
    },
    {
      "cell_type": "markdown",
      "metadata": {
        "id": "ZvJECk6Iu3uF"
      },
      "source": [
        "or specifying the starting point"
      ]
    },
    {
      "cell_type": "markdown",
      "metadata": {
        "id": "jhNx7VcuRZSf"
      },
      "source": [
        "hoặc chỉ định điểm bắt đầu"
      ]
    },
    {
      "cell_type": "code",
      "execution_count": 14,
      "metadata": {
        "colab": {
          "base_uri": "https://localhost:8080/"
        },
        "id": "Pk3UzL3du_f8",
        "outputId": "5982211f-6639-4f48-faff-cff4b49add4c"
      },
      "outputs": [
        {
          "output_type": "execute_result",
          "data": {
            "text/plain": [
              "array([3, 4])"
            ]
          },
          "metadata": {},
          "execution_count": 14
        }
      ],
      "source": [
        "np.arange(3, 5)"
      ]
    },
    {
      "cell_type": "markdown",
      "metadata": {
        "id": "f1JtqFSivJKG"
      },
      "source": [
        "Another useful routine is `linspace` for creating linearly spaced values in an interval. For instance, to create 10 values in `[0, 1]`, we can use"
      ]
    },
    {
      "cell_type": "markdown",
      "metadata": {
        "id": "kNDZYxRwRdW8"
      },
      "source": [
        "Một hàm hữu ích khác là linspace, được sử dụng để tạo các giá trị có khoảng cách đều trong một khoảng nhất định. Ví dụ, để tạo 10 giá trị trong khoảng [0, 1], chúng ta có thể sử dụng"
      ]
    },
    {
      "cell_type": "code",
      "execution_count": 15,
      "metadata": {
        "colab": {
          "base_uri": "https://localhost:8080/"
        },
        "id": "udHHjGAHvOQM",
        "outputId": "eea1284e-f362-4120-80bf-5ad358515664"
      },
      "outputs": [
        {
          "output_type": "execute_result",
          "data": {
            "text/plain": [
              "array([0.        , 0.11111111, 0.22222222, 0.33333333, 0.44444444,\n",
              "       0.55555556, 0.66666667, 0.77777778, 0.88888889, 1.        ])"
            ]
          },
          "metadata": {},
          "execution_count": 15
        }
      ],
      "source": [
        "np.linspace(0, 1, 10)"
      ]
    },
    {
      "cell_type": "markdown",
      "metadata": {
        "id": "WbcxAKobvgUT"
      },
      "source": [
        "Another important operation is `reshape`, for changing the shape of an array"
      ]
    },
    {
      "cell_type": "markdown",
      "metadata": {
        "id": "luz-9SsiRnz8"
      },
      "source": [
        "Một thao tác quan trọng khác là reshape, dùng để thay đổi hình dạng của một mảng."
      ]
    },
    {
      "cell_type": "code",
      "execution_count": 16,
      "metadata": {
        "colab": {
          "base_uri": "https://localhost:8080/"
        },
        "id": "4FPzTuDlvlLO",
        "outputId": "79da99dc-b832-426c-fa7c-3b70305d34bc"
      },
      "outputs": [
        {
          "output_type": "execute_result",
          "data": {
            "text/plain": [
              "array([[1, 2],\n",
              "       [3, 4],\n",
              "       [5, 6]])"
            ]
          },
          "metadata": {},
          "execution_count": 16
        }
      ],
      "source": [
        "my_array = np.array([1, 2, 3, 4, 5, 6])\n",
        "my_array.reshape(3, 2)"
      ]
    },
    {
      "cell_type": "markdown",
      "metadata": {
        "id": "G-QR80_g3N9Y"
      },
      "source": [
        "Play with these operations and make sure you understand them well."
      ]
    },
    {
      "cell_type": "markdown",
      "metadata": {
        "id": "4E3jY1mFUm7N"
      },
      "source": [
        "Hãy thử nghiệm với những thao tác này và đảm bảo rằng bạn hiểu chúng rõ ràng."
      ]
    },
    {
      "cell_type": "markdown",
      "metadata": {
        "id": "f9B0iCBlmfeY"
      },
      "source": [
        "## Basic operations / Các phép toán cơ bản"
      ]
    },
    {
      "cell_type": "markdown",
      "metadata": {
        "id": "elQGgkqDxKLV"
      },
      "source": [
        "In NumPy, we express computations directly over arrays. This makes the code much more succint."
      ]
    },
    {
      "cell_type": "markdown",
      "metadata": {
        "id": "hkCU1T8ixghX"
      },
      "source": [
        "Arithmetic operations can be performed directly over arrays. For instance, assuming two arrays have a compatible shape, we can add them as follows"
      ]
    },
    {
      "cell_type": "markdown",
      "metadata": {
        "id": "17SJbL_7U-tA"
      },
      "source": [
        "Trong NumPy, chúng ta thực hiện các phép tính trực tiếp trên mảng. Điều này giúp code ngắn gọn hơn nhiều.\n",
        "\n",
        "Các phép toán số học có thể được thực hiện trực tiếp trên mảng. Ví dụ, giả sử hai mảng có cùng kích thước tương thích, chúng ta có thể cộng chúng như sau:"
      ]
    },
    {
      "cell_type": "code",
      "execution_count": 17,
      "metadata": {
        "colab": {
          "base_uri": "https://localhost:8080/"
        },
        "id": "4AoiRq42x5mI",
        "outputId": "c38fce81-bbde-47ad-e7ef-7a7d2ac79c70"
      },
      "outputs": [
        {
          "output_type": "execute_result",
          "data": {
            "text/plain": [
              "array([5, 7, 9])"
            ]
          },
          "metadata": {},
          "execution_count": 17
        }
      ],
      "source": [
        "array_a = np.array([1, 2, 3])\n",
        "array_b = np.array([4, 5, 6])\n",
        "array_a + array_b"
      ]
    },
    {
      "cell_type": "markdown",
      "metadata": {
        "id": "SyPqME2EyD4x"
      },
      "source": [
        "Compare this with the equivalent computation using a for loop"
      ]
    },
    {
      "cell_type": "markdown",
      "metadata": {
        "id": "nkJ4xg8lVXXQ"
      },
      "source": [
        "Hãy so sánh điều này với cách tính tương đương sử dụng vòng lặp for"
      ]
    },
    {
      "cell_type": "code",
      "execution_count": 18,
      "metadata": {
        "colab": {
          "base_uri": "https://localhost:8080/"
        },
        "id": "HxRFA_U2yfI-",
        "outputId": "ee8b91e9-6940-4d1a-c8f6-1cb4f857bc91"
      },
      "outputs": [
        {
          "output_type": "execute_result",
          "data": {
            "text/plain": [
              "array([5, 7, 9])"
            ]
          },
          "metadata": {},
          "execution_count": 18
        }
      ],
      "source": [
        "array_out = np.zeros_like(array_a)\n",
        "for i in range(len(array_a)):\n",
        "  array_out[i] = array_a[i] + array_b[i]\n",
        "array_out"
      ]
    },
    {
      "cell_type": "markdown",
      "metadata": {
        "id": "i2a-apX-zlPN"
      },
      "source": [
        "Not only this code is more verbose, it will also run much more slowly."
      ]
    },
    {
      "cell_type": "markdown",
      "metadata": {
        "id": "Qdn8MwpR0wX_"
      },
      "source": [
        "In NumPy, functions that operates on arrays in an element-wise fashion are called [universal functions](https://numpy.org/doc/stable/reference/ufuncs.html). For instance, this is the case of `np.sin`"
      ]
    },
    {
      "cell_type": "markdown",
      "metadata": {
        "id": "B_5Hh8SDVayx"
      },
      "source": [
        "Đoạn code này không những dài dòng hơn mà còn chạy chậm hơn rất nhiều\n",
        "\n",
        "Trong NumPy, các hàm hoạt động trên mảng theo từng phần tử được gọi là hàm phổ quát (universal functions). Ví dụ, np.sin là một trong những hàm như vậy."
      ]
    },
    {
      "cell_type": "code",
      "execution_count": 19,
      "metadata": {
        "colab": {
          "base_uri": "https://localhost:8080/"
        },
        "id": "JoanjiMu1BH5",
        "outputId": "99e1499d-c3f3-44cd-c94d-c744f588b681"
      },
      "outputs": [
        {
          "output_type": "execute_result",
          "data": {
            "text/plain": [
              "array([0.84147098, 0.90929743, 0.14112001])"
            ]
          },
          "metadata": {},
          "execution_count": 19
        }
      ],
      "source": [
        "np.sin(array_a)"
      ]
    },
    {
      "cell_type": "markdown",
      "metadata": {
        "id": "jHljrPXg5h8W"
      },
      "source": [
        "Vector inner product can be performed using `np.dot`"
      ]
    },
    {
      "cell_type": "markdown",
      "metadata": {
        "id": "ZTiN7Z3rX6j0"
      },
      "source": [
        "Tích trong của hai vectơ có thể được thực hiện bằng np.dot"
      ]
    },
    {
      "cell_type": "code",
      "execution_count": 20,
      "metadata": {
        "colab": {
          "base_uri": "https://localhost:8080/"
        },
        "id": "TphR8oIx5ob9",
        "outputId": "5f1a29eb-b00c-4d37-bb85-b65b1e9a78ed"
      },
      "outputs": [
        {
          "output_type": "execute_result",
          "data": {
            "text/plain": [
              "np.int64(32)"
            ]
          },
          "metadata": {},
          "execution_count": 20
        }
      ],
      "source": [
        "np.dot(array_a, array_b)"
      ]
    },
    {
      "cell_type": "markdown",
      "metadata": {
        "id": "lHInOiSW50OR"
      },
      "source": [
        "When the two arguments to `np.dot` are both 2d arrays, `np.dot` becomes matrix multiplication"
      ]
    },
    {
      "cell_type": "markdown",
      "metadata": {
        "id": "wzvAWkpuX_9m"
      },
      "source": [
        "Khi cả hai đối số của np.dot đều là mảng 2 chiều, np.dot sẽ thực hiện phép nhân ma trận."
      ]
    },
    {
      "cell_type": "code",
      "execution_count": 21,
      "metadata": {
        "colab": {
          "base_uri": "https://localhost:8080/"
        },
        "id": "QRbpbhPP6Up0",
        "outputId": "57c6a0b2-2a46-4696-cb53-5b1cc5435e1e"
      },
      "outputs": [
        {
          "output_type": "execute_result",
          "data": {
            "text/plain": [
              "array([[-1.39986219, -1.9294451 ,  0.50453682, -2.52475573],\n",
              "       [-0.59442966, -0.55648911, -0.44083593, -0.20609431],\n",
              "       [-0.90939847, -1.24165944,  0.14242592, -1.41758375],\n",
              "       [-0.40670173, -0.63932173,  0.35159657, -1.00328984],\n",
              "       [-1.27058485, -1.76750914,  0.16553069, -1.95290037]])"
            ]
          },
          "metadata": {},
          "execution_count": 21
        }
      ],
      "source": [
        "array_A = np.random.rand(5, 3)\n",
        "array_B = np.random.randn(3, 4)\n",
        "np.dot(array_A, array_B)"
      ]
    },
    {
      "cell_type": "markdown",
      "metadata": {
        "id": "odVawD9m6gwv"
      },
      "source": [
        "Matrix transpose can be done using `.transpose()` or `.T` for short"
      ]
    },
    {
      "cell_type": "markdown",
      "metadata": {
        "id": "O5ZGJWC_Z009"
      },
      "source": [
        "Chuyển vị ma trận có thể được thực hiện bằng .transpose() hoặc ngắn gọn hơn là .T."
      ]
    },
    {
      "cell_type": "code",
      "execution_count": 22,
      "metadata": {
        "colab": {
          "base_uri": "https://localhost:8080/"
        },
        "id": "gvPe_JAO6mvF",
        "outputId": "4c1be3ff-7ce1-49ed-d7a8-8fcb1976b392"
      },
      "outputs": [
        {
          "output_type": "execute_result",
          "data": {
            "text/plain": [
              "array([[0.50898214, 0.49379737, 0.36670422, 0.06334769, 0.49520468],\n",
              "       [0.60193873, 0.0554131 , 0.17767375, 0.24627679, 0.12250682],\n",
              "       [0.85838653, 0.1052269 , 0.59058837, 0.32459818, 0.8902559 ]])"
            ]
          },
          "metadata": {},
          "execution_count": 22
        }
      ],
      "source": [
        "array_A.T"
      ]
    },
    {
      "cell_type": "markdown",
      "metadata": {
        "id": "JlWt3oFnE_E-"
      },
      "source": [
        "## Slicing and masking / Cắt và lọc dữ liệu"
      ]
    },
    {
      "cell_type": "markdown",
      "metadata": {
        "id": "e4aKKe7bFA65"
      },
      "source": [
        "Like Python lists, NumPy arrays support slicing"
      ]
    },
    {
      "cell_type": "markdown",
      "metadata": {
        "id": "F-jXrZBjaCfG"
      },
      "source": [
        "Giống như danh sách (list) trong Python, mảng NumPy hỗ trợ thao tác cắt (slicing)"
      ]
    },
    {
      "cell_type": "code",
      "execution_count": 23,
      "metadata": {
        "colab": {
          "base_uri": "https://localhost:8080/"
        },
        "id": "0kPhv2xcF1TP",
        "outputId": "83f0016c-47cc-4b56-ef91-9da284e575ff"
      },
      "outputs": [
        {
          "output_type": "execute_result",
          "data": {
            "text/plain": [
              "array([5, 6, 7, 8, 9])"
            ]
          },
          "metadata": {},
          "execution_count": 23
        }
      ],
      "source": [
        "np.arange(10)[5:]"
      ]
    },
    {
      "cell_type": "markdown",
      "metadata": {
        "id": "ITu2Wy4-GB2G"
      },
      "source": [
        "We can also select only certain elements from the array"
      ]
    },
    {
      "cell_type": "markdown",
      "metadata": {
        "id": "VYTJkCkTaFDN"
      },
      "source": [
        "Ngoài ra, chúng ta cũng có thể chọn chỉ những phần tử nhất định từ mảng."
      ]
    },
    {
      "cell_type": "code",
      "execution_count": 24,
      "metadata": {
        "colab": {
          "base_uri": "https://localhost:8080/"
        },
        "id": "8tlZzTB6GEyw",
        "outputId": "5054191d-7a56-4904-9eee-3c9f973e29d1"
      },
      "outputs": [
        {
          "output_type": "execute_result",
          "data": {
            "text/plain": [
              "array([5, 6, 7, 8, 9])"
            ]
          },
          "metadata": {},
          "execution_count": 24
        }
      ],
      "source": [
        "x = np.arange(10)\n",
        "mask = x >= 5\n",
        "x[mask]"
      ]
    },
    {
      "cell_type": "markdown",
      "metadata": {
        "id": "NlGForCimjBL"
      },
      "source": [
        "## Exercises / Bài tập"
      ]
    },
    {
      "cell_type": "markdown",
      "metadata": {
        "id": "Ur1UlSFPTu6O"
      },
      "source": [
        "**Exercise 1.** Create a 3d array of shape (2, 2, 2), containing 8 values. Access individual elements and slices."
      ]
    },
    {
      "cell_type": "markdown",
      "metadata": {
        "id": "gqTcjoqgaxLG"
      },
      "source": [
        "**Bài 1**. Tạo một mảng 3D có kích thước (2, 2, 2), chứa 8 giá trị. Truy cập từng phần tử riêng lẻ và thực hiện cắt lát (slicing)."
      ]
    },
    {
      "cell_type": "code",
      "execution_count": 39,
      "metadata": {
        "id": "v1ed4-vLUWXQ",
        "outputId": "2c895a92-54a9-4748-c5f5-c0c4f9bb597f",
        "colab": {
          "base_uri": "https://localhost:8080/"
        }
      },
      "outputs": [
        {
          "output_type": "stream",
          "name": "stdout",
          "text": [
            "0.896431400639669\n",
            "[0.274105]\n"
          ]
        }
      ],
      "source": [
        "arr = np.random.rand(2, 2, 2)\n",
        "print(arr[0][0][0])\n",
        "print(arr[0][0][1:])"
      ]
    },
    {
      "cell_type": "markdown",
      "metadata": {
        "id": "s_ksfCDJzyxI"
      },
      "source": [
        "**Exercise 2.** Rewrite the relu function (see Python section) using [np.maximum](https://numpy.org/doc/stable/reference/generated/numpy.maximum.html). Check that it works on both a single value and on an array of values."
      ]
    },
    {
      "cell_type": "markdown",
      "metadata": {
        "id": "THAaf0Isa2bf"
      },
      "source": [
        "**Bài 2**. Viết lại hàm ReLU (tham khảo phần Python) bằng cách sử dụng [np.maximum](https://numpy.org/doc/stable/reference/generated/numpy.maximum.html). Kiểm tra xem hàm có hoạt động với cả một giá trị đơn lẻ và một mảng giá trị hay không."
      ]
    },
    {
      "cell_type": "code",
      "execution_count": 44,
      "metadata": {
        "id": "QtSTxH5Dz6f8",
        "outputId": "fa35753a-e379-4aeb-babf-584b99c7f4d4",
        "colab": {
          "base_uri": "https://localhost:8080/"
        }
      },
      "outputs": [
        {
          "output_type": "execute_result",
          "data": {
            "text/plain": [
              "array([1. , 0. , 2.5])"
            ]
          },
          "metadata": {},
          "execution_count": 44
        }
      ],
      "source": [
        "def relu_numpy(x):\n",
        "  return (np.maximum(np.zeros(np.shape(x)), x))\n",
        "\n",
        "relu_numpy(np.array([1, -3, 2.5]))"
      ]
    },
    {
      "cell_type": "markdown",
      "metadata": {
        "id": "wggUjpyRz7fb"
      },
      "source": [
        "**Exercise 3.** Rewrite the Euclidean norm of a vector (1d array) using NumPy (without for loop)"
      ]
    },
    {
      "cell_type": "markdown",
      "metadata": {
        "id": "CCllvLfcbC19"
      },
      "source": [
        "**Bài 3**. Viết lại chuẩn Euclid của một vectơ (mảng 1D) bằng NumPy mà không sử dụng vòng lặp for."
      ]
    },
    {
      "cell_type": "code",
      "execution_count": 64,
      "metadata": {
        "id": "p5BLcHOD0Bhy",
        "outputId": "90c147ab-2f04-4364-adcf-3e7583bb9e13",
        "colab": {
          "base_uri": "https://localhost:8080/"
        }
      },
      "outputs": [
        {
          "output_type": "execute_result",
          "data": {
            "text/plain": [
              "np.float64(5.729746940310715)"
            ]
          },
          "metadata": {},
          "execution_count": 64
        }
      ],
      "source": [
        "def euclidean_norm_numpy(x):\n",
        "  return np.sqrt(np.sum(np.multiply(x, x)))\n",
        "\n",
        "my_vector = np.array([0.5, -1.2, 3.3, 4.5])\n",
        "euclidean_norm_numpy(my_vector)"
      ]
    },
    {
      "cell_type": "markdown",
      "metadata": {
        "id": "01IteVJ60Il2"
      },
      "source": [
        "**Exercise 4.** Write a function that computes the Euclidean norms of a matrix (2d array) in a row-wise fashion. Hint: use the `axis` argument of [np.sum](https://numpy.org/doc/stable/reference/generated/numpy.sum.html)."
      ]
    },
    {
      "cell_type": "markdown",
      "metadata": {
        "id": "6CvO9BhubGvW"
      },
      "source": [
        "**Bài 4**. Viết một hàm tính chuẩn Euclid của từng hàng trong một ma trận (mảng 2D). Gợi ý: sử dụng đối số axis của [np.sum](https://numpy.org/doc/stable/reference/generated/numpy.sum.html)."
      ]
    },
    {
      "cell_type": "code",
      "execution_count": 70,
      "metadata": {
        "id": "at5lWRNM0SVG",
        "outputId": "634381fa-2325-4ffd-874b-e3420cb3fae5",
        "colab": {
          "base_uri": "https://localhost:8080/"
        }
      },
      "outputs": [
        {
          "output_type": "execute_result",
          "data": {
            "text/plain": [
              "array([21.94, 21.14])"
            ]
          },
          "metadata": {},
          "execution_count": 70
        }
      ],
      "source": [
        "def euclidean_norm_2d(X):\n",
        "  return np.sum(np.multiply(X, X), 1)\n",
        "\n",
        "my_matrix = np.array([[0.5, -1.2, 4.5],\n",
        "                      [-3.2, 1.9, 2.7]])\n",
        "# Should return an array of size 2.\n",
        "euclidean_norm_2d(my_matrix)"
      ]
    },
    {
      "cell_type": "markdown",
      "metadata": {
        "id": "yd1ZoByo436x"
      },
      "source": [
        "**Exercise 5.** Compute the mean value of the features in the [iris dataset](https://scikit-learn.org/stable/modules/generated/sklearn.datasets.load_iris.html). Hint: use the `axis` argument on [np.mean](https://numpy.org/doc/stable/reference/generated/numpy.mean.html)."
      ]
    },
    {
      "cell_type": "markdown",
      "metadata": {
        "id": "n6B0oRT_bNls"
      },
      "source": [
        "**Bài 5**. Tính giá trị trung bình của các đặc trưng trong tập dữ liệu [iris](https://scikit-learn.org/stable/modules/generated/sklearn.datasets.load_iris.html). Gợi ý: sử dụng đối số axis của [np.mean](https://numpy.org/doc/stable/reference/generated/numpy.mean.html)."
      ]
    },
    {
      "cell_type": "code",
      "execution_count": 94,
      "metadata": {
        "colab": {
          "base_uri": "https://localhost:8080/"
        },
        "id": "fYFVobkP5JK6",
        "outputId": "efd34d97-9e78-4afa-fe76-b4a93fd24887"
      },
      "outputs": [
        {
          "output_type": "execute_result",
          "data": {
            "text/plain": [
              "array([5.84333333, 3.05733333, 3.758     , 1.19933333])"
            ]
          },
          "metadata": {},
          "execution_count": 94
        }
      ],
      "source": [
        "from sklearn.datasets import load_iris\n",
        "X, y = load_iris(return_X_y=True)\n",
        "np.mean(X, 0)\n",
        "\n",
        "# Result should be an array of size 4."
      ]
    },
    {
      "cell_type": "markdown",
      "metadata": {
        "id": "1FDs9zX6mpoX"
      },
      "source": [
        "## Going further"
      ]
    },
    {
      "cell_type": "markdown",
      "metadata": {
        "id": "hFP61Iztmr9Q"
      },
      "source": [
        "* NumPy [reference](https://numpy.org/doc/stable/reference/)\n",
        "* SciPy [lectures](https://scipy-lectures.org/)\n",
        "* One-hour [tutorial](https://www.youtube.com/watch?v=QUT1VHiLmmI) on Youtube\n",
        "\n"
      ]
    },
    {
      "cell_type": "markdown",
      "metadata": {
        "id": "qTQjmsIV2Zpu"
      },
      "source": [
        "* [Tham khảo](https://numpy.org/doc/stable/reference/) NumPy\n",
        "* [Bài giảng](https://scipy-lectures.org/) SciPy\n",
        "* [Hướng dẫn](https://www.youtube.com/watch?v=QUT1VHiLmmI) một giờ trên Youtube"
      ]
    },
    {
      "cell_type": "markdown",
      "metadata": {
        "id": "7Jt6T3kJ8I2T"
      },
      "source": [
        "# Matplotlib"
      ]
    },
    {
      "cell_type": "markdown",
      "metadata": {
        "id": "kQX8TiEOALkQ"
      },
      "source": [
        "## Basic plots / Biểu đồ cơ bản"
      ]
    },
    {
      "cell_type": "markdown",
      "metadata": {
        "id": "REYwc9Va8UTg"
      },
      "source": [
        "Matplotlib is a plotting library for Python."
      ]
    },
    {
      "cell_type": "markdown",
      "metadata": {
        "id": "Eom7t-m6-Uzb"
      },
      "source": [
        "We start with a rudimentary plotting example."
      ]
    },
    {
      "cell_type": "markdown",
      "metadata": {
        "id": "xCSoXFmtbqrE"
      },
      "source": [
        "Matplotlib là một thư viện vẽ biểu đồ trong Python.\n",
        "\n",
        "Chúng ta bắt đầu với một ví dụ đơn giản về vẽ biểu đồ."
      ]
    },
    {
      "cell_type": "code",
      "execution_count": 97,
      "metadata": {
        "colab": {
          "base_uri": "https://localhost:8080/",
          "height": 472
        },
        "id": "g21e5Ncm927z",
        "outputId": "1619d11a-4b5e-40af-ea15-8c65e618b73c"
      },
      "outputs": [
        {
          "output_type": "display_data",
          "data": {
            "text/plain": [
              "<Figure size 640x480 with 1 Axes>"
            ],
            "image/png": "[encoded data removed]"
          },
          "metadata": {}
        }
      ],
      "source": [
        "from matplotlib import pyplot as plt\n",
        "\n",
        "x_values = np.linspace(-3, 3, 100)\n",
        "\n",
        "plt.figure()\n",
        "plt.plot(x_values, np.sin(x_values), label=\"Sinusoid\")\n",
        "plt.xlabel(\"x\")\n",
        "plt.ylabel(\"sin(x)\")\n",
        "plt.title(\"Matplotlib example\")\n",
        "plt.legend(loc=\"upper left\")\n",
        "plt.show()"
      ]
    },
    {
      "cell_type": "markdown",
      "metadata": {
        "id": "ltvlLwXF-eAH"
      },
      "source": [
        "We continue with a rudimentary scatter plot example. This example displays samples from the [iris dataset](https://scikit-learn.org/stable/modules/generated/sklearn.datasets.load_iris.html) using the first two features. Colors indicate class membership (there are 3 classes)."
      ]
    },
    {
      "cell_type": "markdown",
      "metadata": {
        "id": "W4UYkJocbu83"
      },
      "source": [
        "Chúng ta tiếp tục với một ví dụ đơn giản về biểu đồ phân tán (scatter plot).\n",
        "\n",
        "Ví dụ này hiển thị các mẫu từ tập dữ liệu Iris, sử dụng hai đặc trưng đầu tiên. Màu sắc biểu thị nhóm phân loại (có tổng cộng 3 nhóm)."
      ]
    },
    {
      "cell_type": "code",
      "execution_count": 98,
      "metadata": {
        "colab": {
          "base_uri": "https://localhost:8080/",
          "height": 433
        },
        "id": "sEzcJAmy-hbK",
        "outputId": "ab0d1ebd-dfdc-49e9-e538-13b5e08d7013"
      },
      "outputs": [
        {
          "output_type": "display_data",
          "data": {
            "text/plain": [
              "<Figure size 640x480 with 1 Axes>"
            ],
            "image/png": "[encoded data removed]"
          },
          "metadata": {}
        }
      ],
      "source": [
        "from sklearn.datasets import load_iris\n",
        "X, y = load_iris(return_X_y=True)\n",
        "\n",
        "X_class0 = X[y == 0]\n",
        "X_class1 = X[y == 1]\n",
        "X_class2 = X[y == 2]\n",
        "\n",
        "plt.figure()\n",
        "plt.scatter(X_class0[:, 0], X_class0[:, 1], label=\"Class 0\", color=\"C0\")\n",
        "plt.scatter(X_class1[:, 0], X_class1[:, 1], label=\"Class 1\", color=\"C1\")\n",
        "plt.scatter(X_class2[:, 0], X_class2[:, 1], label=\"Class 2\", color=\"C2\")\n",
        "plt.show()"
      ]
    },
    {
      "cell_type": "markdown",
      "metadata": {
        "id": "5vjln9qwAc3M"
      },
      "source": [
        "We see that samples belonging to class 0 can be linearly separated from the rest using only the first two features."
      ]
    },
    {
      "cell_type": "markdown",
      "metadata": {
        "id": "XjUf7EKIbzlf"
      },
      "source": [
        "Chúng ta có thể thấy rằng các mẫu thuộc lớp 0 có thể được phân tách tuyến tính khỏi các lớp còn lại chỉ bằng hai đặc trưng đầu tiên."
      ]
    },
    {
      "cell_type": "markdown",
      "metadata": {
        "id": "uVWuIUs2AQ5a"
      },
      "source": [
        "## Exercises / Bài tập\n",
        "\n"
      ]
    },
    {
      "cell_type": "markdown",
      "metadata": {
        "id": "1X6-g6zgCwJd"
      },
      "source": [
        "**Exercise 1.** Plot the relu and the [softplus](https://en.wikipedia.org/wiki/Rectifier_(neural_networks)#Softplus) functions on the same graph."
      ]
    },
    {
      "cell_type": "markdown",
      "metadata": {
        "id": "xW7FVDIecQeS"
      },
      "source": [
        "**Bài 1:** Vẽ đồ thị của hai hàm ReLU và [softplus](https://en.wikipedia.org/wiki/Rectifier_(neural_networks)#Softplus) trên cùng một biểu đồ."
      ]
    },
    {
      "cell_type": "code",
      "execution_count": 126,
      "metadata": {
        "id": "Ob6HZUX0DJ8y",
        "outputId": "10284937-4e06-4486-cdc4-f7eb916f7213",
        "colab": {
          "base_uri": "https://localhost:8080/",
          "height": 430
        }
      },
      "outputs": [
        {
          "output_type": "display_data",
          "data": {
            "text/plain": [
              "<Figure size 640x480 with 1 Axes>"
            ],
            "image/png": "[encoded data removed]"
          },
          "metadata": {}
        }
      ],
      "source": [
        "from matplotlib import pyplot as plt\n",
        "\n",
        "X = np.arange(-15, 5, 0.5)\n",
        "\n",
        "plt.figure()\n",
        "plt.plot(X, np.maximum(np.zeros(np.shape(X)), X), label = 'ReLU')\n",
        "plt.plot(X, np.log(1 + np.exp(X)), label = 'softplus')\n",
        "plt.show()"
      ]
    },
    {
      "cell_type": "markdown",
      "metadata": {
        "id": "vpRGfz0aDW3l"
      },
      "source": [
        "What is the main difference between the two functions?"
      ]
    },
    {
      "cell_type": "markdown",
      "metadata": {
        "id": "wFFv2jhwca7O"
      },
      "source": [
        "Sự khác biệt chính giữa hai hàm này là gì?"
      ]
    },
    {
      "cell_type": "markdown",
      "metadata": {
        "id": "JjDeIufRAYVL"
      },
      "source": [
        "**Exercise 2.** Repeat the same scatter plot but using the [digits dataset](https://scikit-learn.org/stable/modules/generated/sklearn.datasets.load_digits.html) instead."
      ]
    },
    {
      "cell_type": "markdown",
      "metadata": {
        "id": "N2CUaIL6cfvP"
      },
      "source": [
        "**Bài 2:** Lặp lại biểu đồ phân tán như đã làm với tập dữ liệu Iris, nhưng lần này sử dụng tập dữ liệu [Digits](https://scikit-learn.org/stable/modules/generated/sklearn.datasets.load_digits.html)."
      ]
    },
    {
      "cell_type": "code",
      "execution_count": 182,
      "metadata": {
        "id": "-JU3TXCBBB0c",
        "outputId": "5cae90bc-f9b5-4a29-b4bd-e868adc744d8",
        "colab": {
          "base_uri": "https://localhost:8080/",
          "height": 430
        }
      },
      "outputs": [
        {
          "output_type": "display_data",
          "data": {
            "text/plain": [
              "<Figure size 640x480 with 1 Axes>"
            ],
            "image/png": "[encoded data removed]"
          },
          "metadata": {}
        }
      ],
      "source": [
        "from sklearn.datasets import load_digits\n",
        "X, y = load_digits(return_X_y=True)\n",
        "\n",
        "plt.figure()\n",
        "\n",
        "X_value = np.mean(X, 1)\n",
        "X_std = np.std(X, 1)\n",
        "X_sum = np.sum(X, 1)\n",
        "for i in range(10):\n",
        "   plt.scatter(X_value[y == i], X_std[y == i], label = 'Class:' + str(i))\n",
        "\n",
        "plt.show()"
      ]
    },
    {
      "cell_type": "markdown",
      "metadata": {
        "id": "w7wPWdmXBQA2"
      },
      "source": [
        "Are pixel values good features for classifying samples?"
      ]
    },
    {
      "cell_type": "markdown",
      "metadata": {
        "id": "Sf1NkEk9cs0K"
      },
      "source": [
        "Các giá trị pixel có phải là đặc trưng tốt để phân loại mẫu không?"
      ]
    },
    {
      "cell_type": "markdown",
      "metadata": {
        "id": "1AhSDnns2Zpw"
      },
      "source": [
        "**Exercise 3.** Draw a simple line plot\n",
        "Use Matplotlib to draw a line plot showing the average temperature over 5 consecutive days in a week. The temperature data is as follows:\n",
        "- Day 1: 28°C\n",
        "- Day 2: 30°C\n",
        "- Day 3: 29°C\n",
        "- Day 4: 31°C\n",
        "- Day 5: 27°C\n",
        "\n",
        "Requirements:\n",
        "- The x-axis represents the days (1, 2, 3, 4, 5).\n",
        "- The y-axis represents the temperature (°C).\n",
        "- Label the x-axis as \"Day\" and the y-axis as \"Temperature (°C)\".\n",
        "- Set the title as \"Temperature Over 5 Days\".\n",
        "- Use a red line."
      ]
    },
    {
      "cell_type": "markdown",
      "metadata": {
        "id": "lTR-azAk2Zpw"
      },
      "source": [
        "**Bài 3:** Sử dụng Matplotlib để vẽ biểu đồ đường thể hiện nhiệt độ trung bình của 5 ngày liên tiếp trong tuần. Dữ liệu nhiệt độ như sau:\n",
        "- Ngày 1: 28°C\n",
        "- Ngày 2: 30°C\n",
        "- Ngày 3: 29°C\n",
        "- Ngày 4: 31°C\n",
        "- Ngày 5: 27°C\n",
        "\n",
        "Yêu cầu:\n",
        "- Trục x là các ngày (1, 2, 3, 4, 5).\n",
        "- Trục y là nhiệt độ (°C).\n",
        "- Đặt nhãn trục x là \"Ngày\", trục y là \"Nhiệt độ (°C)\".\n",
        "- Đặt tiêu đề là \"Nhiệt độ trong 5 ngày\".\n",
        "- Vẽ đường màu đỏ."
      ]
    },
    {
      "cell_type": "code",
      "execution_count": 193,
      "metadata": {
        "id": "tgm4QyRc2Zpw",
        "outputId": "397cd15a-0d37-444b-fa03-f6c1347f1dbc",
        "colab": {
          "base_uri": "https://localhost:8080/",
          "height": 472
        }
      },
      "outputs": [
        {
          "output_type": "display_data",
          "data": {
            "text/plain": [
              "<Figure size 640x480 with 1 Axes>"
            ],
            "image/png": "[encoded data removed]"
          },
          "metadata": {}
        }
      ],
      "source": [
        "from matplotlib import pyplot as plt\n",
        "\n",
        "plt.xlabel('Day')\n",
        "plt.ylabel('Temperature (°C)')\n",
        "plt.title('Temperature Over 5 Days')\n",
        "plt.plot([1, 2, 3, 4, 5], [28, 30, 29, 31, 27], 'red')\n",
        "plt.xticks([1, 2, 3, 4, 5])\n",
        "plt.show()"
      ]
    },
    {
      "cell_type": "markdown",
      "metadata": {
        "id": "dYM-oV1jD3RV"
      },
      "source": [
        "## Going further\n",
        "\n",
        "*  Official [tutorial](https://matplotlib.org/tutorials/introductory/pyplot.html)\n",
        "* [Tutorial](https://www.youtube.com/watch?v=qErBw-R2Ybk) on Youtube"
      ]
    },
    {
      "cell_type": "markdown",
      "metadata": {
        "id": "UThFwOEW2Zpx"
      },
      "source": [
        "* [Hướng dẫn](https://matplotlib.org/tutorials/introductory/pyplot.html) chính thức\n",
        "* [Hướng dẫn](https://www.youtube.com/watch?v=qErBw-R2Ybk) trên Youtube"
      ]
    }
  ],
  "metadata": {
    "colab": {
      "provenance": []
    },
    "kernelspec": {
      "display_name": "Python 3",
      "name": "python3"
    },
    "language_info": {
      "name": "python"
    }
  },
  "nbformat": 4,
  "nbformat_minor": 0
}